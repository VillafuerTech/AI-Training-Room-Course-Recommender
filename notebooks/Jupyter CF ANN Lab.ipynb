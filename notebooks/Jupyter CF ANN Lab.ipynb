{
    "cells": [
        {
            "cell_type": "markdown",
            "id": "hdr-skillnet",
            "metadata": {},
            "source": [
                "<p style=\"text-align:center\">\n",
                "  <a href=\"https://skills.network/?utm_medium=Exinfluencer&utm_source=Exinfluencer&utm_content=000026UJ&utm_term=10006555&utm_id=NA-SkillsNetwork-Channel-SkillsNetworkCoursesIBMML321ENSkillsNetwork817-2022-01-01\" target=\"_blank\">\n",
                "  <img src=\"https://cf-courses-data.s3.us.cloud-object-storage.appdomain.cloud/assets/logos/SN_web_lightmode.png\" width=\"200\" alt=\"Skills Network Logo\"/>\n",
                "  </a>\n",
                "</p>\n"
            ]
        },
        {
            "cell_type": "markdown",
            "id": "title",
            "metadata": {},
            "source": [
                "# **Course Rating Prediction using Neural Networks (CF ANN)**"
            ]
        },
        {
            "cell_type": "markdown",
            "id": "est-time",
            "metadata": {},
            "source": [
                "Estimated time needed: **60–90** minutes"
            ]
        },
        {
            "cell_type": "markdown",
            "id": "intro-1",
            "metadata": {},
            "source": [
                "In previous labs, we used explicit user/item features and NMF to uncover latent factors. Here, we'll build a neural collaborative filtering model that learns user/item embeddings directly from interactions and predicts ratings. We will:\n",
                "\n",
                "- Train a **baseline dot-product** embedding model (`RecommenderNet`).\n",
                "- **Complete the optional part**: Train a stronger **Two-Tower MLP** model on concatenated embeddings.\n",
                "- Evaluate both, save artifacts to your project tree, and export learned embeddings.\n"
            ]
        },
        {
            "cell_type": "markdown",
            "id": "objectives",
            "metadata": {},
            "source": [
                "## Objectives\n",
                "\n",
                "After completing this lab you will be able to:\n",
                "- Use `tensorflow` to train neural recommenders (embeddings + dot-product / MLP)\n",
                "- Evaluate with RMSE (scaled and original rating scale)\n",
                "- Save models, plots, metrics, and embedding tables to your repo structure\n"
            ]
        },
        {
            "cell_type": "markdown",
            "id": "setup-hdr",
            "metadata": {},
            "source": [
                "----\n",
                "## Prepare and setup lab environment"
            ]
        },
        {
            "cell_type": "markdown",
            "id": "install-tf",
            "metadata": {},
            "source": [
                "Install TensorFlow 2.7 if needed (you can skip if your env already has TF≥2.7)."
            ]
        },
        {
            "cell_type": "code",
            "execution_count": 3,
            "id": "pip-tf",
            "metadata": {},
            "outputs": [
                {
                    "name": "stdout",
                    "output_type": "stream",
                    "text": [
                        "  File \"<string>\", line 1\n",
                        "    import tensorflow as _; print('TF OK:', _..__version__)\n",
                        "                                              ^\n",
                        "SyntaxError: invalid syntax\n",
                        "\u001b[31mERROR: Could not find a version that satisfies the requirement tensorflow==2.7.0 (from versions: 2.16.0rc0, 2.16.1, 2.16.2, 2.17.0rc0, 2.17.0rc1, 2.17.0, 2.17.1, 2.18.0rc0, 2.18.0rc1, 2.18.0rc2, 2.18.0, 2.18.1, 2.19.0rc0, 2.19.0, 2.19.1, 2.20.0rc0, 2.20.0)\u001b[0m\u001b[31m\n",
                        "\u001b[0m\u001b[31mERROR: No matching distribution found for tensorflow==2.7.0\u001b[0m\u001b[31m\n",
                        "\u001b[0m"
                    ]
                }
            ],
            "source": [
                "!python -c \"import tensorflow as _; print('TF OK:', _..__version__)\" || pip install -q tensorflow==2.7.0"
            ]
        },
        {
            "cell_type": "markdown",
            "id": "imports",
            "metadata": {},
            "source": [
                "Import libraries and set seeds."
            ]
        },
        {
            "cell_type": "code",
            "execution_count": 4,
            "id": "import-code",
            "metadata": {},
            "outputs": [
                {
                    "name": "stdout",
                    "output_type": "stream",
                    "text": [
                        "Python: 3.12.11\n",
                        "TF: 2.20.0\n"
                    ]
                }
            ],
            "source": [
                "import os, sys, json\n",
                "from pathlib import Path\n",
                "from datetime import datetime\n",
                "import numpy as np\n",
                "import pandas as pd\n",
                "import matplotlib.pyplot as plt\n",
                "import tensorflow as tf\n",
                "from tensorflow import keras\n",
                "from tensorflow.keras import layers\n",
                "\n",
                "# Reproducibility\n",
                "PY_SEED = 123\n",
                "np.random.seed(PY_SEED)\n",
                "tf.random.set_seed(PY_SEED)\n",
                "\n",
                "print('Python:', sys.version.split()[0])\n",
                "print('TF:', tf.__version__)"
            ]
        },
        {
            "cell_type": "code",
            "execution_count": null,
            "id": "6e68e4c3",
            "metadata": {},
            "outputs": [],
            "source": []
        },
        {
            "cell_type": "markdown",
            "id": "paths-hdr",
            "metadata": {},
            "source": [
                "### Project paths"
            ]
        },
        {
            "cell_type": "code",
            "execution_count": 5,
            "id": "paths",
            "metadata": {},
            "outputs": [
                {
                    "name": "stdout",
                    "output_type": "stream",
                    "text": [
                        "PROJECT_ROOT = /Users/villafuertech/Documents/Professional/Independent_learning/IBM_Machine_learning/Capstone_project/recsys-capstone\n",
                        "Data exists: True\n"
                    ]
                }
            ],
            "source": [
                "# Detect project root (repo root has 'data', 'models' etc.)\n",
                "CWD = Path.cwd().resolve()\n",
                "if CWD.name == 'notebooks' and (CWD.parent / 'data').exists():\n",
                "    PROJECT_ROOT = CWD.parent\n",
                "elif (CWD / 'data').exists():\n",
                "    PROJECT_ROOT = CWD\n",
                "elif (CWD.parent / 'data').exists():\n",
                "    PROJECT_ROOT = CWD.parent\n",
                "else:\n",
                "    PROJECT_ROOT = CWD  \n",
                "\n",
                "DATA_DIR = PROJECT_ROOT / 'data'\n",
                "EXTERNAL_DIR = DATA_DIR / 'external'\n",
                "PROCESSED_DIR = DATA_DIR / 'processed'\n",
                "INTERIM_DIR = DATA_DIR / 'interim'\n",
                "MODELS_DIR = PROJECT_ROOT / 'models'\n",
                "REPORTS_FIG_DIR = PROJECT_ROOT / 'reports' / 'figures'\n",
                "LOGS_DIR = PROJECT_ROOT / 'logs'\n",
                "\n",
                "for d in [EXTERNAL_DIR, PROCESSED_DIR, INTERIM_DIR, MODELS_DIR, REPORTS_FIG_DIR, LOGS_DIR]:\n",
                "    d.mkdir(parents=True, exist_ok=True)\n",
                "\n",
                "print('PROJECT_ROOT =', PROJECT_ROOT)\n",
                "print('Data exists:', (EXTERNAL_DIR/'course_ratings.csv').exists())"
            ]
        },
        {
            "cell_type": "markdown",
            "id": "load-data-hdr",
            "metadata": {},
            "source": [
                "### Load and process rating dataset\n",
                "\n",
                "We prefer your local dataset at `data/external/course_ratings.csv`. If missing, we fallback to the hosted file used in other labs."
            ]
        },
        {
            "cell_type": "code",
            "execution_count": 6,
            "id": "load-data",
            "metadata": {},
            "outputs": [
                {
                    "data": {
                        "text/html": [
                            "<div>\n",
                            "<style scoped>\n",
                            "    .dataframe tbody tr th:only-of-type {\n",
                            "        vertical-align: middle;\n",
                            "    }\n",
                            "\n",
                            "    .dataframe tbody tr th {\n",
                            "        vertical-align: top;\n",
                            "    }\n",
                            "\n",
                            "    .dataframe thead th {\n",
                            "        text-align: right;\n",
                            "    }\n",
                            "</style>\n",
                            "<table border=\"1\" class=\"dataframe\">\n",
                            "  <thead>\n",
                            "    <tr style=\"text-align: right;\">\n",
                            "      <th></th>\n",
                            "      <th>user</th>\n",
                            "      <th>item</th>\n",
                            "      <th>rating</th>\n",
                            "    </tr>\n",
                            "  </thead>\n",
                            "  <tbody>\n",
                            "    <tr>\n",
                            "      <th>0</th>\n",
                            "      <td>1889878</td>\n",
                            "      <td>CC0101EN</td>\n",
                            "      <td>5</td>\n",
                            "    </tr>\n",
                            "    <tr>\n",
                            "      <th>1</th>\n",
                            "      <td>1342067</td>\n",
                            "      <td>CL0101EN</td>\n",
                            "      <td>3</td>\n",
                            "    </tr>\n",
                            "    <tr>\n",
                            "      <th>2</th>\n",
                            "      <td>1990814</td>\n",
                            "      <td>ML0120ENv3</td>\n",
                            "      <td>5</td>\n",
                            "    </tr>\n",
                            "    <tr>\n",
                            "      <th>3</th>\n",
                            "      <td>380098</td>\n",
                            "      <td>BD0211EN</td>\n",
                            "      <td>5</td>\n",
                            "    </tr>\n",
                            "    <tr>\n",
                            "      <th>4</th>\n",
                            "      <td>779563</td>\n",
                            "      <td>DS0101EN</td>\n",
                            "      <td>3</td>\n",
                            "    </tr>\n",
                            "  </tbody>\n",
                            "</table>\n",
                            "</div>"
                        ],
                        "text/plain": [
                            "      user        item  rating\n",
                            "0  1889878    CC0101EN       5\n",
                            "1  1342067    CL0101EN       3\n",
                            "2  1990814  ML0120ENv3       5\n",
                            "3   380098    BD0211EN       5\n",
                            "4   779563    DS0101EN       3"
                        ]
                    },
                    "execution_count": 6,
                    "metadata": {},
                    "output_type": "execute_result"
                }
            ],
            "source": [
                "local_csv = EXTERNAL_DIR / 'course_ratings.csv'\n",
                "fallback_url = 'https://cf-courses-data.s3.us.cloud-object-storage.appdomain.cloud/IBM-ML321EN-SkillsNetwork/labs/datasets/ratings.csv'\n",
                "\n",
                "if local_csv.exists():\n",
                "    rating_df = pd.read_csv(local_csv)\n",
                "else:\n",
                "    rating_df = pd.read_csv(fallback_url)\n",
                "\n",
                "assert {'user','item','rating'}.issubset(rating_df.columns), 'Input must have user,item,rating columns'\n",
                "rating_df = rating_df[['user','item','rating']].copy()\n",
                "rating_df.head()"
            ]
        },
        {
            "cell_type": "markdown",
            "id": "counts",
            "metadata": {},
            "source": [
                "Compute unique counts (define the embedding lookup sizes)."
            ]
        },
        {
            "cell_type": "code",
            "execution_count": 7,
            "id": "counts-code",
            "metadata": {},
            "outputs": [
                {
                    "name": "stdout",
                    "output_type": "stream",
                    "text": [
                        "Users: 33901 | Items: 126 | rating range: [3, 5]\n"
                    ]
                }
            ],
            "source": [
                "num_users = rating_df['user'].nunique()\n",
                "num_items = rating_df['item'].nunique()\n",
                "min_rating = int(rating_df['rating'].min())\n",
                "max_rating = int(rating_df['rating'].max())\n",
                "print(f\"Users: {num_users} | Items: {num_items} | rating range: [{min_rating}, {max_rating}]\")"
            ]
        },
        {
            "cell_type": "markdown",
            "id": "nn-arch",
            "metadata": {},
            "source": [
                "### Baseline Recommender (dot-product embeddings)\n",
                "The model learns user & item embeddings, takes their dot-product (plus per-entity biases), and uses a sigmoid to map to [0,1] because we will scale ratings to 0–1."
            ]
        },
        {
            "cell_type": "code",
            "execution_count": 8,
            "id": "recommendernet",
            "metadata": {},
            "outputs": [],
            "source": [
                "class RecommenderNet(keras.Model):\n",
                "    def __init__(self, num_users, num_items, embedding_size=16, **kwargs):\n",
                "        super().__init__(**kwargs)\n",
                "        self.user_embedding = layers.Embedding(\n",
                "            input_dim=num_users, output_dim=embedding_size,\n",
                "            name='user_embedding_layer', embeddings_initializer='he_normal',\n",
                "            embeddings_regularizer=keras.regularizers.l2(1e-6))\n",
                "        self.item_embedding = layers.Embedding(\n",
                "            input_dim=num_items, output_dim=embedding_size,\n",
                "            name='item_embedding_layer', embeddings_initializer='he_normal',\n",
                "            embeddings_regularizer=keras.regularizers.l2(1e-6))\n",
                "        self.user_bias = layers.Embedding(input_dim=num_users, output_dim=1, name='user_bias')\n",
                "        self.item_bias = layers.Embedding(input_dim=num_items, output_dim=1, name='item_bias')\n",
                "\n",
                "    def call(self, inputs):  # inputs: (batch, 2) [user_idx, item_idx]\n",
                "        u = inputs[:, 0]\n",
                "        i = inputs[:, 1]\n",
                "        u_vec = self.user_embedding(u)    # (batch, d)\n",
                "        i_vec = self.item_embedding(i)    # (batch, d)\n",
                "        u_b = self.user_bias(u)           # (batch, 1)\n",
                "        i_b = self.item_bias(i)           # (batch, 1)\n",
                "        dot = tf.reduce_sum(u_vec * i_vec, axis=1, keepdims=True)\n",
                "        x = dot + u_b + i_b\n",
                "        return tf.nn.sigmoid(x)           # scaled label in [0,1]\n"
            ]
        },
        {
            "cell_type": "markdown",
            "id": "process-ds",
            "metadata": {},
            "source": [
                "### Encode IDs → indices and split train/val/test with rating scaling"
            ]
        },
        {
            "cell_type": "code",
            "execution_count": 9,
            "id": "encode-split",
            "metadata": {},
            "outputs": [
                {
                    "name": "stdout",
                    "output_type": "stream",
                    "text": [
                        "Shapes: (186644, 2) (23331, 2) (23331, 2) | rating range: (3, 5)\n"
                    ]
                }
            ],
            "source": [
                "def process_dataset(raw_df):\n",
                "    df = raw_df.copy()\n",
                "    users = df['user'].unique().tolist()\n",
                "    items = df['item'].unique().tolist()\n",
                "    uid2idx = {u:i for i,u in enumerate(users)}\n",
                "    iid2idx = {it:i for i,it in enumerate(items)}\n",
                "    idx2uid = {i:u for u,i in uid2idx.items()}\n",
                "    idx2iid = {i:it for it,i in iid2idx.items()}\n",
                "    df['user'] = df['user'].map(uid2idx)\n",
                "    df['item'] = df['item'].map(iid2idx)\n",
                "    df['rating'] = df['rating'].astype(int)\n",
                "    return df, idx2uid, idx2iid\n",
                "\n",
                "def make_splits(encoded_df, scale=True, seed=PY_SEED):\n",
                "    min_r = int(encoded_df['rating'].min())\n",
                "    max_r = int(encoded_df['rating'].max())\n",
                "    df = encoded_df.sample(frac=1, random_state=seed).reset_index(drop=True)\n",
                "    X = df[['user','item']].values.astype('int32')\n",
                "    if scale:\n",
                "        y = ((df['rating'] - min_r) / (max_r - min_r)).values.astype('float32')\n",
                "    else:\n",
                "        y = df['rating'].values.astype('float32')\n",
                "    n = len(df)\n",
                "    n_tr, n_val = int(0.8*n), int(0.9*n)\n",
                "    x_train, y_train = X[:n_tr], y[:n_tr]\n",
                "    x_val, y_val = X[n_tr:n_val], y[n_tr:n_val]\n",
                "    x_test, y_test = X[n_val:], y[n_val:]\n",
                "    return (x_train, y_train), (x_val, y_val), (x_test, y_test), (min_r, max_r)\n",
                "\n",
                "encoded_df, idx2uid, idx2iid = process_dataset(rating_df)\n",
                "(x_train, y_train), (x_val, y_val), (x_test, y_test), (MIN_R, MAX_R) = make_splits(encoded_df, scale=True)\n",
                "print('Shapes:', x_train.shape, x_val.shape, x_test.shape, '| rating range:', (MIN_R, MAX_R))"
            ]
        },
        {
            "cell_type": "markdown",
            "id": "train-baseline",
            "metadata": {},
            "source": [
                "### Train baseline model"
            ]
        },
        {
            "cell_type": "code",
            "execution_count": 10,
            "id": "fit-baseline",
            "metadata": {},
            "outputs": [
                {
                    "name": "stdout",
                    "output_type": "stream",
                    "text": [
                        "Epoch 1/10\n",
                        "\u001b[1m2917/2917\u001b[0m \u001b[32m━━━━━━━━━━━━━━━━━━━━\u001b[0m\u001b[37m\u001b[0m \u001b[1m4s\u001b[0m 1ms/step - loss: 0.1669 - rmse: 0.4082 - val_loss: 0.1678 - val_rmse: 0.4090\n",
                        "Epoch 2/10\n",
                        "\u001b[1m2917/2917\u001b[0m \u001b[32m━━━━━━━━━━━━━━━━━━━━\u001b[0m\u001b[37m\u001b[0m \u001b[1m3s\u001b[0m 1ms/step - loss: 0.1522 - rmse: 0.3883 - val_loss: 0.1729 - val_rmse: 0.4130\n",
                        "Epoch 3/10\n",
                        "\u001b[1m2917/2917\u001b[0m \u001b[32m━━━━━━━━━━━━━━━━━━━━\u001b[0m\u001b[37m\u001b[0m \u001b[1m3s\u001b[0m 1ms/step - loss: 0.1072 - rmse: 0.3213 - val_loss: 0.1875 - val_rmse: 0.4266\n",
                        "Saved baseline model -> /Users/villafuertech/Documents/Professional/Independent_learning/IBM_Machine_learning/Capstone_project/recsys-capstone/models/RecommenderNet_baseline.keras\n"
                    ]
                }
            ],
            "source": [
                "baseline = RecommenderNet(num_users=num_users, num_items=num_items, embedding_size=16)\n",
                "baseline.compile(\n",
                "    optimizer=keras.optimizers.Adam(1e-3),\n",
                "    loss=keras.losses.MeanSquaredError(),\n",
                "    metrics=[keras.metrics.RootMeanSquaredError(name='rmse')]\n",
                ")\n",
                "cb = [keras.callbacks.EarlyStopping(monitor='val_loss', patience=2, restore_best_weights=True)]\n",
                "hist_base = baseline.fit(\n",
                "    x_train, y_train,\n",
                "    validation_data=(x_val, y_val),\n",
                "    epochs=10,\n",
                "    batch_size=64,\n",
                "    callbacks=cb,\n",
                "    verbose=1\n",
                ")\n",
                "\n",
                "# Save model\n",
                "base_model_path = MODELS_DIR / 'RecommenderNet_baseline.keras'\n",
                "baseline.save(base_model_path)\n",
                "print('Saved baseline model ->', base_model_path)"
            ]
        },
        {
            "cell_type": "markdown",
            "id": "eval-baseline",
            "metadata": {},
            "source": [
                "### Evaluate (scaled + original rating scale) and plot curves"
            ]
        },
        {
            "cell_type": "code",
            "execution_count": 11,
            "id": "eval-plot",
            "metadata": {},
            "outputs": [
                {
                    "name": "stdout",
                    "output_type": "stream",
                    "text": [
                        "\u001b[1m23/23\u001b[0m \u001b[32m━━━━━━━━━━━━━━━━━━━━\u001b[0m\u001b[37m\u001b[0m \u001b[1m0s\u001b[0m 1ms/step \n",
                        "{'baseline_test_mse': 0.16676464676856995, 'baseline_test_rmse_scaled': 0.4077935218811035, 'baseline_test_rmse_orig': 0.8155872225761414}\n"
                    ]
                },
                {
                    "data": {
                        "image/png": "[encoded data removed]",
                        "text/plain": [
                            "<Figure size 600x400 with 1 Axes>"
                        ]
                    },
                    "metadata": {},
                    "output_type": "display_data"
                },
                {
                    "name": "stdout",
                    "output_type": "stream",
                    "text": [
                        "Saved figure -> /Users/villafuertech/Documents/Professional/Independent_learning/IBM_Machine_learning/Capstone_project/recsys-capstone/reports/figures/baseline_training_curves.png\n",
                        "Metrics appended -> /Users/villafuertech/Documents/Professional/Independent_learning/IBM_Machine_learning/Capstone_project/recsys-capstone/data/processed/recommender_eval.csv\n"
                    ]
                },
                {
                    "name": "stderr",
                    "output_type": "stream",
                    "text": [
                        "/var/folders/q0/bm9058_95z16l6j28pkf1z580000gn/T/ipykernel_65365/121277191.py:26: DeprecationWarning: datetime.datetime.utcnow() is deprecated and scheduled for removal in a future version. Use timezone-aware objects to represent datetimes in UTC: datetime.datetime.now(datetime.UTC).\n",
                        "  'timestamp': datetime.utcnow().isoformat(),\n"
                    ]
                }
            ],
            "source": [
                "def inv_scale(y):\n",
                "    return y * (MAX_R - MIN_R) + MIN_R\n",
                "\n",
                "# Evaluate on test\n",
                "test_mse, test_rmse = baseline.evaluate(x_test, y_test, verbose=0)\n",
                "yhat_scaled = baseline.predict(x_test, batch_size=1024).ravel()\n",
                "y_scaled = y_test\n",
                "yhat_orig = np.clip(inv_scale(yhat_scaled), MIN_R, MAX_R)\n",
                "y_orig = inv_scale(y_scaled)\n",
                "rmse_orig = float(np.sqrt(np.mean((yhat_orig - y_orig)**2)))\n",
                "\n",
                "print({'baseline_test_mse': float(test_mse), 'baseline_test_rmse_scaled': float(test_rmse), 'baseline_test_rmse_orig': rmse_orig})\n",
                "\n",
                "# Plot\n",
                "plt.figure(figsize=(6,4))\n",
                "plt.plot(hist_base.history['loss'], label='train MSE')\n",
                "plt.plot(hist_base.history['val_loss'], label='val MSE')\n",
                "plt.xlabel('Epoch'); plt.ylabel('MSE'); plt.title('Baseline Training Curves'); plt.legend(); plt.tight_layout()\n",
                "fig_path_base = REPORTS_FIG_DIR / 'baseline_training_curves.png'\n",
                "plt.savefig(fig_path_base, dpi=150)\n",
                "plt.show()\n",
                "print('Saved figure ->', fig_path_base)\n",
                "\n",
                "# Log & save metrics\n",
                "metrics_row = {\n",
                "    'timestamp': datetime.utcnow().isoformat(),\n",
                "    'model': 'RecommenderNet_baseline',\n",
                "    'embedding_size': 16,\n",
                "    'test_mse_scaled': float(test_mse),\n",
                "    'test_rmse_scaled': float(test_rmse),\n",
                "    'test_rmse_original': rmse_orig\n",
                "}\n",
                "metrics_csv = PROCESSED_DIR / 'recommender_eval.csv'\n",
                "pd.DataFrame([metrics_row]).to_csv(metrics_csv, mode='a', index=False, header=not metrics_csv.exists())\n",
                "with open(LOGS_DIR / 'training_log.txt', 'a') as f:\n",
                "    f.write(json.dumps(metrics_row) + '\\n')\n",
                "print('Metrics appended ->', metrics_csv)"
            ]
        },
        {
            "cell_type": "markdown",
            "id": "embeddings-export",
            "metadata": {},
            "source": [
                "### Export learned embeddings (users & items)"
            ]
        },
        {
            "cell_type": "code",
            "execution_count": 12,
            "id": "save-embeddings",
            "metadata": {},
            "outputs": [
                {
                    "name": "stdout",
                    "output_type": "stream",
                    "text": [
                        "Saved embeddings -> /Users/villafuertech/Documents/Professional/Independent_learning/IBM_Machine_learning/Capstone_project/recsys-capstone/data/processed/user_embeddings_baseline.csv | /Users/villafuertech/Documents/Professional/Independent_learning/IBM_Machine_learning/Capstone_project/recsys-capstone/data/processed/item_embeddings_baseline.csv\n"
                    ]
                }
            ],
            "source": [
                "U = baseline.get_layer('user_embedding_layer').get_weights()[0]\n",
                "I = baseline.get_layer('item_embedding_layer').get_weights()[0]\n",
                "\n",
                "user_df = pd.DataFrame(U)\n",
                "user_df.insert(0, 'user_id', user_df.index.map(idx2uid))\n",
                "item_df = pd.DataFrame(I)\n",
                "item_df.insert(0, 'item_id', item_df.index.map(idx2iid))\n",
                "\n",
                "user_emb_path = PROCESSED_DIR / 'user_embeddings_baseline.csv'\n",
                "item_emb_path = PROCESSED_DIR / 'item_embeddings_baseline.csv'\n",
                "user_df.to_csv(user_emb_path, index=False)\n",
                "item_df.to_csv(item_emb_path, index=False)\n",
                "print('Saved embeddings ->', user_emb_path, '|', item_emb_path)"
            ]
        },
        {
            "cell_type": "markdown",
            "id": "optional-hdr",
            "metadata": {},
            "source": [
                "----\n",
                "## (Optional, now completed) Two-Tower MLP Recommender\n",
                "We concatenate user & item embeddings and feed them to an MLP with dropout and layer norm. This can capture richer interactions than a pure dot-product."
            ]
        },
        {
            "cell_type": "code",
            "execution_count": 13,
            "id": "twotower",
            "metadata": {},
            "outputs": [],
            "source": [
                "class TwoTowerMLP(keras.Model):\n",
                "    def __init__(self, num_users, num_items, embedding_size=32, hidden=(64, 32), dropout=0.2, **kwargs):\n",
                "        super().__init__(**kwargs)\n",
                "        self.user_embedding = layers.Embedding(num_users, embedding_size, embeddings_initializer='he_normal',\n",
                "                                              embeddings_regularizer=keras.regularizers.l2(1e-6), name='user_emb')\n",
                "        self.item_embedding = layers.Embedding(num_items, embedding_size, embeddings_initializer='he_normal',\n",
                "                                              embeddings_regularizer=keras.regularizers.l2(1e-6), name='item_emb')\n",
                "        self.user_bias = layers.Embedding(num_users, 1, name='user_bias')\n",
                "        self.item_bias = layers.Embedding(num_items, 1, name='item_bias')\n",
                "        self.concat = layers.Concatenate()\n",
                "        self.norm = layers.LayerNormalization()\n",
                "        self.hidden = [layers.Dense(h, activation='relu') for h in hidden]\n",
                "        self.drop = layers.Dropout(dropout)\n",
                "        self.out = layers.Dense(1, activation='sigmoid')  # scaled rating\n",
                "\n",
                "    def call(self, inputs, training=False):\n",
                "        u = inputs[:,0]; i = inputs[:,1]\n",
                "        u_vec = self.user_embedding(u)\n",
                "        i_vec = self.item_embedding(i)\n",
                "        u_b = self.user_bias(u); i_b = self.item_bias(i)\n",
                "        z = self.concat([u_vec, i_vec])\n",
                "        z = self.norm(z)\n",
                "        for dense in self.hidden:\n",
                "            z = dense(z)\n",
                "            z = self.drop(z, training=training)\n",
                "        x = self.out(z)\n",
                "        return x + u_b + i_b  # small bias shift\n"
            ]
        },
        {
            "cell_type": "markdown",
            "id": "train-tt",
            "metadata": {},
            "source": [
                "### Train Two-Tower model"
            ]
        },
        {
            "cell_type": "code",
            "execution_count": 14,
            "id": "fit-tt",
            "metadata": {},
            "outputs": [
                {
                    "name": "stdout",
                    "output_type": "stream",
                    "text": [
                        "Epoch 1/10\n",
                        "\u001b[1m2917/2917\u001b[0m \u001b[32m━━━━━━━━━━━━━━━━━━━━\u001b[0m\u001b[37m\u001b[0m \u001b[1m8s\u001b[0m 2ms/step - loss: 0.1697 - rmse: 0.4114 - val_loss: 0.1700 - val_rmse: 0.4116\n",
                        "Epoch 2/10\n",
                        "\u001b[1m2917/2917\u001b[0m \u001b[32m━━━━━━━━━━━━━━━━━━━━\u001b[0m\u001b[37m\u001b[0m \u001b[1m7s\u001b[0m 2ms/step - loss: 0.1596 - rmse: 0.3978 - val_loss: 0.1746 - val_rmse: 0.4155\n",
                        "Epoch 3/10\n",
                        "\u001b[1m2917/2917\u001b[0m \u001b[32m━━━━━━━━━━━━━━━━━━━━\u001b[0m\u001b[37m\u001b[0m \u001b[1m7s\u001b[0m 2ms/step - loss: 0.1271 - rmse: 0.3527 - val_loss: 0.1856 - val_rmse: 0.4268\n",
                        "Saved TwoTower model -> /Users/villafuertech/Documents/Professional/Independent_learning/IBM_Machine_learning/Capstone_project/recsys-capstone/models/TwoTowerMLP_v1.keras\n"
                    ]
                }
            ],
            "source": [
                "tt = TwoTowerMLP(num_users=num_users, num_items=num_items, embedding_size=32, hidden=(128, 64), dropout=0.25)\n",
                "tt.compile(optimizer=keras.optimizers.Adam(1e-3),\n",
                "           loss=keras.losses.MeanSquaredError(),\n",
                "           metrics=[keras.metrics.RootMeanSquaredError(name='rmse')])\n",
                "cb2 = [keras.callbacks.EarlyStopping(monitor='val_loss', patience=2, restore_best_weights=True)]\n",
                "hist_tt = tt.fit(\n",
                "    x_train, y_train,\n",
                "    validation_data=(x_val, y_val),\n",
                "    epochs=10,\n",
                "    batch_size=64,\n",
                "    callbacks=cb2,\n",
                "    verbose=1\n",
                ")\n",
                "tt_path = MODELS_DIR / 'TwoTowerMLP_v1.keras'\n",
                "tt.save(tt_path)\n",
                "print('Saved TwoTower model ->', tt_path)"
            ]
        },
        {
            "cell_type": "markdown",
            "id": "eval-tt",
            "metadata": {},
            "source": [
                "### Evaluate Two-Tower and compare"
            ]
        },
        {
            "cell_type": "code",
            "execution_count": 15,
            "id": "eval-tt-code",
            "metadata": {},
            "outputs": [
                {
                    "name": "stdout",
                    "output_type": "stream",
                    "text": [
                        "\u001b[1m23/23\u001b[0m \u001b[32m━━━━━━━━━━━━━━━━━━━━\u001b[0m\u001b[37m\u001b[0m \u001b[1m0s\u001b[0m 2ms/step \n",
                        "{'twotower_test_mse': 0.16912125051021576, 'twotower_test_rmse_scaled': 0.4104522466659546, 'twotower_test_rmse_orig': 0.820904552936554}\n"
                    ]
                },
                {
                    "data": {
                        "image/png": "[encoded data removed]",
                        "text/plain": [
                            "<Figure size 600x400 with 1 Axes>"
                        ]
                    },
                    "metadata": {},
                    "output_type": "display_data"
                },
                {
                    "name": "stdout",
                    "output_type": "stream",
                    "text": [
                        "Saved figure -> /Users/villafuertech/Documents/Professional/Independent_learning/IBM_Machine_learning/Capstone_project/recsys-capstone/reports/figures/twotower_training_curves.png\n"
                    ]
                },
                {
                    "name": "stderr",
                    "output_type": "stream",
                    "text": [
                        "/var/folders/q0/bm9058_95z16l6j28pkf1z580000gn/T/ipykernel_65365/2574413240.py:19: DeprecationWarning: datetime.datetime.utcnow() is deprecated and scheduled for removal in a future version. Use timezone-aware objects to represent datetimes in UTC: datetime.datetime.now(datetime.UTC).\n",
                        "  'timestamp': datetime.utcnow().isoformat(),\n"
                    ]
                }
            ],
            "source": [
                "tt_mse, tt_rmse = tt.evaluate(x_test, y_test, verbose=0)\n",
                "tt_pred_scaled = tt.predict(x_test, batch_size=1024).ravel()\n",
                "tt_pred_orig = np.clip(inv_scale(tt_pred_scaled), MIN_R, MAX_R)\n",
                "tt_rmse_orig = float(np.sqrt(np.mean((tt_pred_orig - inv_scale(y_test))**2)))\n",
                "print({'twotower_test_mse': float(tt_mse), 'twotower_test_rmse_scaled': float(tt_rmse), 'twotower_test_rmse_orig': tt_rmse_orig})\n",
                "\n",
                "# Plot curves\n",
                "plt.figure(figsize=(6,4))\n",
                "plt.plot(hist_tt.history['loss'], label='train MSE')\n",
                "plt.plot(hist_tt.history['val_loss'], label='val MSE')\n",
                "plt.xlabel('Epoch'); plt.ylabel('MSE'); plt.title('TwoTower Training Curves'); plt.legend(); plt.tight_layout()\n",
                "fig_path_tt = REPORTS_FIG_DIR / 'twotower_training_curves.png'\n",
                "plt.savefig(fig_path_tt, dpi=150)\n",
                "plt.show()\n",
                "print('Saved figure ->', fig_path_tt)\n",
                "\n",
                "# Append metrics\n",
                "metrics_row_tt = {\n",
                "    'timestamp': datetime.utcnow().isoformat(),\n",
                "    'model': 'TwoTowerMLP_v1',\n",
                "    'embedding_size': 32,\n",
                "    'test_mse_scaled': float(tt_mse),\n",
                "    'test_rmse_scaled': float(tt_rmse),\n",
                "    'test_rmse_original': tt_rmse_orig\n",
                "}\n",
                "pd.DataFrame([metrics_row_tt]).to_csv(PROCESSED_DIR / 'recommender_eval.csv', mode='a', index=False, header=False)\n",
                "with open(LOGS_DIR / 'training_log.txt', 'a') as f:\n",
                "    f.write(json.dumps(metrics_row_tt) + '\\n')"
            ]
        },
        {
            "cell_type": "markdown",
            "id": "sample-recs-hdr",
            "metadata": {},
            "source": [
                "### (Bonus) Generate sample recommendations for one user and save"
            ]
        },
        {
            "cell_type": "code",
            "execution_count": 16,
            "id": "sample-recs",
            "metadata": {},
            "outputs": [
                {
                    "data": {
                        "text/html": [
                            "<div>\n",
                            "<style scoped>\n",
                            "    .dataframe tbody tr th:only-of-type {\n",
                            "        vertical-align: middle;\n",
                            "    }\n",
                            "\n",
                            "    .dataframe tbody tr th {\n",
                            "        vertical-align: top;\n",
                            "    }\n",
                            "\n",
                            "    .dataframe thead th {\n",
                            "        text-align: right;\n",
                            "    }\n",
                            "</style>\n",
                            "<table border=\"1\" class=\"dataframe\">\n",
                            "  <thead>\n",
                            "    <tr style=\"text-align: right;\">\n",
                            "      <th></th>\n",
                            "      <th>user_id</th>\n",
                            "      <th>item_id</th>\n",
                            "      <th>score</th>\n",
                            "    </tr>\n",
                            "  </thead>\n",
                            "  <tbody>\n",
                            "    <tr>\n",
                            "      <th>0</th>\n",
                            "      <td>211093</td>\n",
                            "      <td>BD0141EN</td>\n",
                            "      <td>0.567619</td>\n",
                            "    </tr>\n",
                            "    <tr>\n",
                            "      <th>1</th>\n",
                            "      <td>211093</td>\n",
                            "      <td>RP0105EN</td>\n",
                            "      <td>0.563063</td>\n",
                            "    </tr>\n",
                            "    <tr>\n",
                            "      <th>2</th>\n",
                            "      <td>211093</td>\n",
                            "      <td>BD0151EN</td>\n",
                            "      <td>0.554654</td>\n",
                            "    </tr>\n",
                            "    <tr>\n",
                            "      <th>3</th>\n",
                            "      <td>211093</td>\n",
                            "      <td>GPXX0T0FEN</td>\n",
                            "      <td>0.548297</td>\n",
                            "    </tr>\n",
                            "    <tr>\n",
                            "      <th>4</th>\n",
                            "      <td>211093</td>\n",
                            "      <td>SC0105EN</td>\n",
                            "      <td>0.538768</td>\n",
                            "    </tr>\n",
                            "    <tr>\n",
                            "      <th>5</th>\n",
                            "      <td>211093</td>\n",
                            "      <td>PA0107EN</td>\n",
                            "      <td>0.534622</td>\n",
                            "    </tr>\n",
                            "    <tr>\n",
                            "      <th>6</th>\n",
                            "      <td>211093</td>\n",
                            "      <td>BD0145EN</td>\n",
                            "      <td>0.534576</td>\n",
                            "    </tr>\n",
                            "    <tr>\n",
                            "      <th>7</th>\n",
                            "      <td>211093</td>\n",
                            "      <td>ML0120ENv3</td>\n",
                            "      <td>0.532312</td>\n",
                            "    </tr>\n",
                            "    <tr>\n",
                            "      <th>8</th>\n",
                            "      <td>211093</td>\n",
                            "      <td>CB0103EN</td>\n",
                            "      <td>0.528356</td>\n",
                            "    </tr>\n",
                            "    <tr>\n",
                            "      <th>9</th>\n",
                            "      <td>211093</td>\n",
                            "      <td>DV0151EN</td>\n",
                            "      <td>0.527181</td>\n",
                            "    </tr>\n",
                            "  </tbody>\n",
                            "</table>\n",
                            "</div>"
                        ],
                        "text/plain": [
                            "   user_id     item_id     score\n",
                            "0   211093    BD0141EN  0.567619\n",
                            "1   211093    RP0105EN  0.563063\n",
                            "2   211093    BD0151EN  0.554654\n",
                            "3   211093  GPXX0T0FEN  0.548297\n",
                            "4   211093    SC0105EN  0.538768\n",
                            "5   211093    PA0107EN  0.534622\n",
                            "6   211093    BD0145EN  0.534576\n",
                            "7   211093  ML0120ENv3  0.532312\n",
                            "8   211093    CB0103EN  0.528356\n",
                            "9   211093    DV0151EN  0.527181"
                        ]
                    },
                    "execution_count": 16,
                    "metadata": {},
                    "output_type": "execute_result"
                }
            ],
            "source": [
                "def topk_for_user(model, user_idx, known_item_idx_set, k=10, batch=2048):\n",
                "    all_items = np.arange(num_items, dtype='int32')\n",
                "    mask = np.array([it not in known_item_idx_set for it in all_items])\n",
                "    cand_items = all_items[mask]\n",
                "    user_col = np.full_like(cand_items, user_idx)\n",
                "    X = np.stack([user_col, cand_items], axis=1)\n",
                "    preds = model.predict(X, batch_size=batch, verbose=0).ravel()\n",
                "    order = np.argsort(-preds)[:k]\n",
                "    return cand_items[order], preds[order]\n",
                "\n",
                "# Pick a user from test split (by encoded index)\n",
                "u0 = int(x_test[0,0])\n",
                "user_rows = encoded_df[encoded_df['user']==u0]\n",
                "known_items = set(user_rows['item'].tolist())\n",
                "rec_items, rec_scores = topk_for_user(tt, u0, known_items, k=10)\n",
                "rec_df = pd.DataFrame({\n",
                "    'user_id': idx2uid[u0],\n",
                "    'item_id': [idx2iid[i] for i in rec_items],\n",
                "    'score': rec_scores\n",
                "})\n",
                "rec_path = PROCESSED_DIR / 'sample_recs.csv'\n",
                "rec_df.to_csv(rec_path, index=False)\n",
                "rec_df.head(10)"
            ]
        },
        {
            "cell_type": "markdown",
            "id": "summary",
            "metadata": {},
            "source": [
                "## Summary\n",
                "\n",
                "- Trained **baseline dot-product** and **Two-Tower MLP** recommenders.\n",
                "- Saved artifacts:\n",
                "  - Models → `models/RecommenderNet_baseline.keras`, `models/TwoTowerMLP_v1.keras`\n",
                "  - Training curves → `reports/figures/*.png`\n",
                "  - Metrics → `data/processed/recommender_eval.csv`\n",
                "  - Embeddings → `data/processed/user_embeddings_baseline.csv`, `data/processed/item_embeddings_baseline.csv`\n",
                "  - Sample recommendations → `data/processed/sample_recs.csv`\n",
                "- Logged runs to `logs/training_log.txt`."
            ]
        },
        {
            "cell_type": "markdown",
            "id": "authors",
            "metadata": {},
            "source": [
                "## Authors\n",
                "[Yan Luo](https://www.linkedin.com/in/yan-luo-96288783/)"
            ]
        },
        {
            "cell_type": "markdown",
            "id": "copyright",
            "metadata": {},
            "source": [
                "Copyright © 2021–2025 IBM Corporation. All rights reserved."
            ]
        }
    ],
    "metadata": {
        "kernelspec": {
            "display_name": "Python (global-jlab)",
            "language": "python",
            "name": "global-jlab"
        },
        "language_info": {
            "codemirror_mode": {
                "name": "ipython",
                "version": 3
            },
            "file_extension": ".py",
            "mimetype": "text/x-python",
            "name": "python",
            "nbconvert_exporter": "python",
            "pygments_lexer": "ipython3",
            "version": "3.12.11"
        }
    },
    "nbformat": 4,
    "nbformat_minor": 5
}
