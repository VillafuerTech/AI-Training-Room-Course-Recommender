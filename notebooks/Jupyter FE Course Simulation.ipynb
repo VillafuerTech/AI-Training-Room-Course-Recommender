{
 "cells": [
  {
   "cell_type": "markdown",
   "id": "7c84bb3d-382a-4f35-b7d2-c323ef8d4adb",
   "metadata": {},
   "source": [
    "<p style=\"text-align:center\">\n",
    "    <a href=\"https://skills.network/?utm_medium=Exinfluencer&utm_source=Exinfluencer&utm_content=000026UJ&utm_term=10006555&utm_id=NA-SkillsNetwork-Channel-SkillsNetworkCoursesIBMML321ENSkillsNetwork817-2022-01-01\" target=\"_blank\">\n",
    "    <img src=\"https://cf-courses-data.s3.us.cloud-object-storage.appdomain.cloud/assets/logos/SN_web_lightmode.png\" width=\"200\" alt=\"Skills Network Logo\">\n",
    "    </a>\n",
    "</p>\n"
   ]
  },
  {
   "cell_type": "markdown",
   "id": "e2421e13-53ca-4bea-9371-53cc02dd7c5b",
   "metadata": {},
   "source": [
    "# **Calculate Course Similarity using BoW Features**\n"
   ]
  },
  {
   "cell_type": "markdown",
   "id": "04f328a5-fddf-4da7-af8d-1e50814f707b",
   "metadata": {},
   "source": [
    "Estimated time needed: **45** minutes\n"
   ]
  },
  {
   "cell_type": "markdown",
   "id": "dac6ec54-2c6b-4652-aa7c-2df4736a1da9",
   "metadata": {},
   "source": [
    "Similarity measurement between items is the foundation of many recommendation algorithms, especially for content-based recommendation algorithms. For example, if a new course is similar to user's enrolled courses, we could recommend that new similar course to the user. Or If user A is similar to user B, then we can recommend some of user B's courses to user A (the unseen courses) because user A and user B may have similar interests.\n"
   ]
  },
  {
   "cell_type": "markdown",
   "id": "a849240f-dacd-4ab3-a395-a812364d6ee5",
   "metadata": {},
   "source": [
    "In a previous course, you learned many similarity measurements such as `consine`, `jaccard index`, or `euclidean distance`, and these methods need to work on either two vectors or two sets (sometimes even matrices or tensors). \n",
    "\n",
    "In previous labs, we extracted the BoW features from course textual content. Given the course BoW feature vectors, we can easily apply similarity measurement to calculate the course similarity as shown in the below figure.\n"
   ]
  },
  {
   "cell_type": "markdown",
   "id": "5d886e45-5fe1-4ed7-9c13-292527348918",
   "metadata": {},
   "source": [
    "![](https://cf-courses-data.s3.us.cloud-object-storage.appdomain.cloud/IBM-ML321EN-SkillsNetwork/labs/module_2/images/course_sim.png)\n"
   ]
  },
  {
   "cell_type": "markdown",
   "id": "a3bc614e-8df1-49dc-b641-72534e548405",
   "metadata": {},
   "source": [
    "## Objectives\n"
   ]
  },
  {
   "cell_type": "markdown",
   "id": "e752bd61-a57f-4acf-8680-86130872a3b9",
   "metadata": {},
   "source": [
    "After completing this lab you will be able to:\n"
   ]
  },
  {
   "cell_type": "markdown",
   "id": "de05cafc-83b8-4f3f-a7ca-9f2a834a6614",
   "metadata": {},
   "source": [
    "* Calculate the similarity between any two courses using BoW feature vectors\n"
   ]
  },
  {
   "cell_type": "markdown",
   "id": "fe62377b-e547-4b42-a698-08d4652b7832",
   "metadata": {},
   "source": [
    "----\n"
   ]
  },
  {
   "cell_type": "markdown",
   "id": "759afdcb-5754-47b5-80ee-fb45fc64f3a2",
   "metadata": {},
   "source": [
    "## Prepare and setup lab environment\n"
   ]
  },
  {
   "cell_type": "markdown",
   "id": "b300b51b-8ec2-4bb5-b953-ffe3c084ed15",
   "metadata": {},
   "source": [
    "First let's install and import required libraries:\n"
   ]
  },
  {
   "cell_type": "code",
   "execution_count": 56,
   "id": "961036e2-0ab6-4358-bd53-e74f42c47cd2",
   "metadata": {},
   "outputs": [
    {
     "name": "stdout",
     "output_type": "stream",
     "text": [
      "Requirement already satisfied: nltk in /Users/villafuertech/Documents/Professional/Independent_learning/IBM_Machine_learning/Capstone_project/recsys-capstone/.venv/lib/python3.12/site-packages (3.6.7)\n",
      "Requirement already satisfied: click in /Users/villafuertech/Documents/Professional/Independent_learning/IBM_Machine_learning/Capstone_project/recsys-capstone/.venv/lib/python3.12/site-packages (from nltk) (8.2.1)\n",
      "Requirement already satisfied: joblib in /Users/villafuertech/Documents/Professional/Independent_learning/IBM_Machine_learning/Capstone_project/recsys-capstone/.venv/lib/python3.12/site-packages (from nltk) (1.5.2)\n",
      "Requirement already satisfied: regex>=2021.8.3 in /Users/villafuertech/Documents/Professional/Independent_learning/IBM_Machine_learning/Capstone_project/recsys-capstone/.venv/lib/python3.12/site-packages (from nltk) (2025.9.1)\n",
      "Requirement already satisfied: tqdm in /Users/villafuertech/Documents/Professional/Independent_learning/IBM_Machine_learning/Capstone_project/recsys-capstone/.venv/lib/python3.12/site-packages (from nltk) (4.67.1)\n",
      "\n",
      "\u001b[1m[\u001b[0m\u001b[34;49mnotice\u001b[0m\u001b[1;39;49m]\u001b[0m\u001b[39;49m A new release of pip is available: \u001b[0m\u001b[31;49m24.2\u001b[0m\u001b[39;49m -> \u001b[0m\u001b[32;49m25.2\u001b[0m\n",
      "\u001b[1m[\u001b[0m\u001b[34;49mnotice\u001b[0m\u001b[1;39;49m]\u001b[0m\u001b[39;49m To update, run: \u001b[0m\u001b[32;49mpip install --upgrade pip\u001b[0m\n",
      "Requirement already satisfied: gensim in /Users/villafuertech/Documents/Professional/Independent_learning/IBM_Machine_learning/Capstone_project/recsys-capstone/.venv/lib/python3.12/site-packages (4.3.3)\n",
      "Requirement already satisfied: numpy<2.0,>=1.18.5 in /Users/villafuertech/Documents/Professional/Independent_learning/IBM_Machine_learning/Capstone_project/recsys-capstone/.venv/lib/python3.12/site-packages (from gensim) (1.26.4)\n",
      "Requirement already satisfied: scipy<1.14.0,>=1.7.0 in /Users/villafuertech/Documents/Professional/Independent_learning/IBM_Machine_learning/Capstone_project/recsys-capstone/.venv/lib/python3.12/site-packages (from gensim) (1.13.1)\n",
      "Requirement already satisfied: smart-open>=1.8.1 in /Users/villafuertech/Documents/Professional/Independent_learning/IBM_Machine_learning/Capstone_project/recsys-capstone/.venv/lib/python3.12/site-packages (from gensim) (7.3.1)\n",
      "Requirement already satisfied: wrapt in /Users/villafuertech/Documents/Professional/Independent_learning/IBM_Machine_learning/Capstone_project/recsys-capstone/.venv/lib/python3.12/site-packages (from smart-open>=1.8.1->gensim) (1.17.3)\n",
      "\n",
      "\u001b[1m[\u001b[0m\u001b[34;49mnotice\u001b[0m\u001b[1;39;49m]\u001b[0m\u001b[39;49m A new release of pip is available: \u001b[0m\u001b[31;49m24.2\u001b[0m\u001b[39;49m -> \u001b[0m\u001b[32;49m25.2\u001b[0m\n",
      "\u001b[1m[\u001b[0m\u001b[34;49mnotice\u001b[0m\u001b[1;39;49m]\u001b[0m\u001b[39;49m To update, run: \u001b[0m\u001b[32;49mpip install --upgrade pip\u001b[0m\n",
      "\u001b[31mERROR: Ignored the following yanked versions: 1.11.0, 1.14.0rc1\u001b[0m\u001b[31m\n",
      "\u001b[0m\u001b[31mERROR: Ignored the following versions that require a different python version: 1.10.0 Requires-Python <3.12,>=3.8; 1.10.0rc1 Requires-Python <3.12,>=3.8; 1.10.0rc2 Requires-Python <3.12,>=3.8; 1.10.1 Requires-Python <3.12,>=3.8; 1.6.2 Requires-Python >=3.7,<3.10; 1.6.3 Requires-Python >=3.7,<3.10; 1.7.0 Requires-Python >=3.7,<3.10; 1.7.1 Requires-Python >=3.7,<3.10; 1.7.2 Requires-Python >=3.7,<3.11; 1.7.3 Requires-Python >=3.7,<3.11; 1.8.0 Requires-Python >=3.8,<3.11; 1.8.0rc1 Requires-Python >=3.8,<3.11; 1.8.0rc2 Requires-Python >=3.8,<3.11; 1.8.0rc3 Requires-Python >=3.8,<3.11; 1.8.0rc4 Requires-Python >=3.8,<3.11; 1.8.1 Requires-Python >=3.8,<3.11; 1.9.0 Requires-Python >=3.8,<3.12; 1.9.0rc1 Requires-Python >=3.8,<3.12; 1.9.0rc2 Requires-Python >=3.8,<3.12; 1.9.0rc3 Requires-Python >=3.8,<3.12; 1.9.1 Requires-Python >=3.8,<3.12\u001b[0m\u001b[31m\n",
      "\u001b[0m\u001b[31mERROR: Could not find a version that satisfies the requirement scipy==1.10 (from versions: 0.8.0, 0.9.0, 0.10.0, 0.10.1, 0.11.0, 0.12.0, 0.12.1, 0.13.0, 0.13.1, 0.13.2, 0.13.3, 0.14.0, 0.14.1, 0.15.0, 0.15.1, 0.16.0, 0.16.1, 0.17.0, 0.17.1, 0.18.0, 0.18.1, 0.19.0, 0.19.1, 1.0.0, 1.0.1, 1.1.0, 1.2.0, 1.2.1, 1.2.2, 1.2.3, 1.3.0, 1.3.1, 1.3.2, 1.3.3, 1.4.0, 1.4.1, 1.5.0, 1.5.1, 1.5.2, 1.5.3, 1.5.4, 1.6.0, 1.6.1, 1.9.2, 1.9.3, 1.11.0rc1, 1.11.0rc2, 1.11.1, 1.11.2, 1.11.3, 1.11.4, 1.12.0rc1, 1.12.0rc2, 1.12.0, 1.13.0rc1, 1.13.0, 1.13.1, 1.14.0rc2, 1.14.0, 1.14.1, 1.15.0rc1, 1.15.0rc2, 1.15.0, 1.15.1, 1.15.2, 1.15.3, 1.16.0rc1, 1.16.0rc2, 1.16.0, 1.16.1)\u001b[0m\u001b[31m\n",
      "\u001b[0m\n",
      "\u001b[1m[\u001b[0m\u001b[34;49mnotice\u001b[0m\u001b[1;39;49m]\u001b[0m\u001b[39;49m A new release of pip is available: \u001b[0m\u001b[31;49m24.2\u001b[0m\u001b[39;49m -> \u001b[0m\u001b[32;49m25.2\u001b[0m\n",
      "\u001b[1m[\u001b[0m\u001b[34;49mnotice\u001b[0m\u001b[1;39;49m]\u001b[0m\u001b[39;49m To update, run: \u001b[0m\u001b[32;49mpip install --upgrade pip\u001b[0m\n",
      "\u001b[31mERROR: No matching distribution found for scipy==1.10\u001b[0m\u001b[31m\n",
      "\u001b[0mRequirement already satisfied: pandas in /Users/villafuertech/Documents/Professional/Independent_learning/IBM_Machine_learning/Capstone_project/recsys-capstone/.venv/lib/python3.12/site-packages (2.3.2)\n",
      "Requirement already satisfied: numpy>=1.26.0 in /Users/villafuertech/Documents/Professional/Independent_learning/IBM_Machine_learning/Capstone_project/recsys-capstone/.venv/lib/python3.12/site-packages (from pandas) (1.26.4)\n",
      "Requirement already satisfied: python-dateutil>=2.8.2 in /Users/villafuertech/Documents/Professional/Independent_learning/IBM_Machine_learning/Capstone_project/recsys-capstone/.venv/lib/python3.12/site-packages (from pandas) (2.9.0.post0)\n",
      "Requirement already satisfied: pytz>=2020.1 in /Users/villafuertech/Documents/Professional/Independent_learning/IBM_Machine_learning/Capstone_project/recsys-capstone/.venv/lib/python3.12/site-packages (from pandas) (2025.2)\n",
      "Requirement already satisfied: tzdata>=2022.7 in /Users/villafuertech/Documents/Professional/Independent_learning/IBM_Machine_learning/Capstone_project/recsys-capstone/.venv/lib/python3.12/site-packages (from pandas) (2025.2)\n",
      "Requirement already satisfied: six>=1.5 in /Users/villafuertech/Documents/Professional/Independent_learning/IBM_Machine_learning/Capstone_project/recsys-capstone/.venv/lib/python3.12/site-packages (from python-dateutil>=2.8.2->pandas) (1.17.0)\n",
      "\n",
      "\u001b[1m[\u001b[0m\u001b[34;49mnotice\u001b[0m\u001b[1;39;49m]\u001b[0m\u001b[39;49m A new release of pip is available: \u001b[0m\u001b[31;49m24.2\u001b[0m\u001b[39;49m -> \u001b[0m\u001b[32;49m25.2\u001b[0m\n",
      "\u001b[1m[\u001b[0m\u001b[34;49mnotice\u001b[0m\u001b[1;39;49m]\u001b[0m\u001b[39;49m To update, run: \u001b[0m\u001b[32;49mpip install --upgrade pip\u001b[0m\n",
      "Requirement already satisfied: matplotlib in /Users/villafuertech/Documents/Professional/Independent_learning/IBM_Machine_learning/Capstone_project/recsys-capstone/.venv/lib/python3.12/site-packages (3.10.6)\n",
      "Requirement already satisfied: contourpy>=1.0.1 in /Users/villafuertech/Documents/Professional/Independent_learning/IBM_Machine_learning/Capstone_project/recsys-capstone/.venv/lib/python3.12/site-packages (from matplotlib) (1.3.3)\n",
      "Requirement already satisfied: cycler>=0.10 in /Users/villafuertech/Documents/Professional/Independent_learning/IBM_Machine_learning/Capstone_project/recsys-capstone/.venv/lib/python3.12/site-packages (from matplotlib) (0.12.1)\n",
      "Requirement already satisfied: fonttools>=4.22.0 in /Users/villafuertech/Documents/Professional/Independent_learning/IBM_Machine_learning/Capstone_project/recsys-capstone/.venv/lib/python3.12/site-packages (from matplotlib) (4.59.2)\n",
      "Requirement already satisfied: kiwisolver>=1.3.1 in /Users/villafuertech/Documents/Professional/Independent_learning/IBM_Machine_learning/Capstone_project/recsys-capstone/.venv/lib/python3.12/site-packages (from matplotlib) (1.4.9)\n",
      "Requirement already satisfied: numpy>=1.23 in /Users/villafuertech/Documents/Professional/Independent_learning/IBM_Machine_learning/Capstone_project/recsys-capstone/.venv/lib/python3.12/site-packages (from matplotlib) (1.26.4)\n",
      "Requirement already satisfied: packaging>=20.0 in /Users/villafuertech/Documents/Professional/Independent_learning/IBM_Machine_learning/Capstone_project/recsys-capstone/.venv/lib/python3.12/site-packages (from matplotlib) (25.0)\n",
      "Requirement already satisfied: pillow>=8 in /Users/villafuertech/Documents/Professional/Independent_learning/IBM_Machine_learning/Capstone_project/recsys-capstone/.venv/lib/python3.12/site-packages (from matplotlib) (11.3.0)\n",
      "Requirement already satisfied: pyparsing>=2.3.1 in /Users/villafuertech/Documents/Professional/Independent_learning/IBM_Machine_learning/Capstone_project/recsys-capstone/.venv/lib/python3.12/site-packages (from matplotlib) (3.2.3)\n",
      "Requirement already satisfied: python-dateutil>=2.7 in /Users/villafuertech/Documents/Professional/Independent_learning/IBM_Machine_learning/Capstone_project/recsys-capstone/.venv/lib/python3.12/site-packages (from matplotlib) (2.9.0.post0)\n",
      "Requirement already satisfied: six>=1.5 in /Users/villafuertech/Documents/Professional/Independent_learning/IBM_Machine_learning/Capstone_project/recsys-capstone/.venv/lib/python3.12/site-packages (from python-dateutil>=2.7->matplotlib) (1.17.0)\n",
      "\n",
      "\u001b[1m[\u001b[0m\u001b[34;49mnotice\u001b[0m\u001b[1;39;49m]\u001b[0m\u001b[39;49m A new release of pip is available: \u001b[0m\u001b[31;49m24.2\u001b[0m\u001b[39;49m -> \u001b[0m\u001b[32;49m25.2\u001b[0m\n",
      "\u001b[1m[\u001b[0m\u001b[34;49mnotice\u001b[0m\u001b[1;39;49m]\u001b[0m\u001b[39;49m To update, run: \u001b[0m\u001b[32;49mpip install --upgrade pip\u001b[0m\n",
      "Requirement already satisfied: seaborn in /Users/villafuertech/Documents/Professional/Independent_learning/IBM_Machine_learning/Capstone_project/recsys-capstone/.venv/lib/python3.12/site-packages (0.13.2)\n",
      "Requirement already satisfied: numpy!=1.24.0,>=1.20 in /Users/villafuertech/Documents/Professional/Independent_learning/IBM_Machine_learning/Capstone_project/recsys-capstone/.venv/lib/python3.12/site-packages (from seaborn) (1.26.4)\n",
      "Requirement already satisfied: pandas>=1.2 in /Users/villafuertech/Documents/Professional/Independent_learning/IBM_Machine_learning/Capstone_project/recsys-capstone/.venv/lib/python3.12/site-packages (from seaborn) (2.3.2)\n",
      "Requirement already satisfied: matplotlib!=3.6.1,>=3.4 in /Users/villafuertech/Documents/Professional/Independent_learning/IBM_Machine_learning/Capstone_project/recsys-capstone/.venv/lib/python3.12/site-packages (from seaborn) (3.10.6)\n",
      "Requirement already satisfied: contourpy>=1.0.1 in /Users/villafuertech/Documents/Professional/Independent_learning/IBM_Machine_learning/Capstone_project/recsys-capstone/.venv/lib/python3.12/site-packages (from matplotlib!=3.6.1,>=3.4->seaborn) (1.3.3)\n",
      "Requirement already satisfied: cycler>=0.10 in /Users/villafuertech/Documents/Professional/Independent_learning/IBM_Machine_learning/Capstone_project/recsys-capstone/.venv/lib/python3.12/site-packages (from matplotlib!=3.6.1,>=3.4->seaborn) (0.12.1)\n",
      "Requirement already satisfied: fonttools>=4.22.0 in /Users/villafuertech/Documents/Professional/Independent_learning/IBM_Machine_learning/Capstone_project/recsys-capstone/.venv/lib/python3.12/site-packages (from matplotlib!=3.6.1,>=3.4->seaborn) (4.59.2)\n",
      "Requirement already satisfied: kiwisolver>=1.3.1 in /Users/villafuertech/Documents/Professional/Independent_learning/IBM_Machine_learning/Capstone_project/recsys-capstone/.venv/lib/python3.12/site-packages (from matplotlib!=3.6.1,>=3.4->seaborn) (1.4.9)\n",
      "Requirement already satisfied: packaging>=20.0 in /Users/villafuertech/Documents/Professional/Independent_learning/IBM_Machine_learning/Capstone_project/recsys-capstone/.venv/lib/python3.12/site-packages (from matplotlib!=3.6.1,>=3.4->seaborn) (25.0)\n",
      "Requirement already satisfied: pillow>=8 in /Users/villafuertech/Documents/Professional/Independent_learning/IBM_Machine_learning/Capstone_project/recsys-capstone/.venv/lib/python3.12/site-packages (from matplotlib!=3.6.1,>=3.4->seaborn) (11.3.0)\n",
      "Requirement already satisfied: pyparsing>=2.3.1 in /Users/villafuertech/Documents/Professional/Independent_learning/IBM_Machine_learning/Capstone_project/recsys-capstone/.venv/lib/python3.12/site-packages (from matplotlib!=3.6.1,>=3.4->seaborn) (3.2.3)\n",
      "Requirement already satisfied: python-dateutil>=2.7 in /Users/villafuertech/Documents/Professional/Independent_learning/IBM_Machine_learning/Capstone_project/recsys-capstone/.venv/lib/python3.12/site-packages (from matplotlib!=3.6.1,>=3.4->seaborn) (2.9.0.post0)\n",
      "Requirement already satisfied: pytz>=2020.1 in /Users/villafuertech/Documents/Professional/Independent_learning/IBM_Machine_learning/Capstone_project/recsys-capstone/.venv/lib/python3.12/site-packages (from pandas>=1.2->seaborn) (2025.2)\n",
      "Requirement already satisfied: tzdata>=2022.7 in /Users/villafuertech/Documents/Professional/Independent_learning/IBM_Machine_learning/Capstone_project/recsys-capstone/.venv/lib/python3.12/site-packages (from pandas>=1.2->seaborn) (2025.2)\n",
      "Requirement already satisfied: six>=1.5 in /Users/villafuertech/Documents/Professional/Independent_learning/IBM_Machine_learning/Capstone_project/recsys-capstone/.venv/lib/python3.12/site-packages (from python-dateutil>=2.7->matplotlib!=3.6.1,>=3.4->seaborn) (1.17.0)\n",
      "\n",
      "\u001b[1m[\u001b[0m\u001b[34;49mnotice\u001b[0m\u001b[1;39;49m]\u001b[0m\u001b[39;49m A new release of pip is available: \u001b[0m\u001b[31;49m24.2\u001b[0m\u001b[39;49m -> \u001b[0m\u001b[32;49m25.2\u001b[0m\n",
      "\u001b[1m[\u001b[0m\u001b[34;49mnotice\u001b[0m\u001b[1;39;49m]\u001b[0m\u001b[39;49m To update, run: \u001b[0m\u001b[32;49mpip install --upgrade pip\u001b[0m\n",
      "Requirement already satisfied: scikit-learn in /Users/villafuertech/Documents/Professional/Independent_learning/IBM_Machine_learning/Capstone_project/recsys-capstone/.venv/lib/python3.12/site-packages (1.7.1)\n",
      "Requirement already satisfied: numpy>=1.22.0 in /Users/villafuertech/Documents/Professional/Independent_learning/IBM_Machine_learning/Capstone_project/recsys-capstone/.venv/lib/python3.12/site-packages (from scikit-learn) (1.26.4)\n",
      "Requirement already satisfied: scipy>=1.8.0 in /Users/villafuertech/Documents/Professional/Independent_learning/IBM_Machine_learning/Capstone_project/recsys-capstone/.venv/lib/python3.12/site-packages (from scikit-learn) (1.13.1)\n",
      "Requirement already satisfied: joblib>=1.2.0 in /Users/villafuertech/Documents/Professional/Independent_learning/IBM_Machine_learning/Capstone_project/recsys-capstone/.venv/lib/python3.12/site-packages (from scikit-learn) (1.5.2)\n",
      "Requirement already satisfied: threadpoolctl>=3.1.0 in /Users/villafuertech/Documents/Professional/Independent_learning/IBM_Machine_learning/Capstone_project/recsys-capstone/.venv/lib/python3.12/site-packages (from scikit-learn) (3.6.0)\n",
      "\n",
      "\u001b[1m[\u001b[0m\u001b[34;49mnotice\u001b[0m\u001b[1;39;49m]\u001b[0m\u001b[39;49m A new release of pip is available: \u001b[0m\u001b[31;49m24.2\u001b[0m\u001b[39;49m -> \u001b[0m\u001b[32;49m25.2\u001b[0m\n",
      "\u001b[1m[\u001b[0m\u001b[34;49mnotice\u001b[0m\u001b[1;39;49m]\u001b[0m\u001b[39;49m To update, run: \u001b[0m\u001b[32;49mpip install --upgrade pip\u001b[0m\n"
     ]
    }
   ],
   "source": [
    "!pip install nltk\n",
    "!pip install gensim\n",
    "!pip install scipy==1.10\n",
    "!pip install pandas\n",
    "!pip install matplotlib\n",
    "!pip install seaborn\n",
    "!pip install scikit-learn"
   ]
  },
  {
   "cell_type": "code",
   "execution_count": 57,
   "id": "b16a12b5-906b-490d-b9cf-9a1affaa29c0",
   "metadata": {},
   "outputs": [],
   "source": [
    "import seaborn as sns\n",
    "import matplotlib.pyplot as plt\n",
    "import pandas as pd\n",
    "import numpy as np\n",
    "import gensim\n",
    "import pandas as pd\n",
    "import nltk as nltk\n",
    "\n",
    "from scipy.spatial.distance import cosine\n",
    "from nltk.corpus import stopwords\n",
    "from nltk.tokenize import word_tokenize\n",
    "from nltk import ngrams\n",
    "from gensim import corpora\n",
    "\n",
    "%matplotlib inline"
   ]
  },
  {
   "cell_type": "code",
   "execution_count": 58,
   "id": "a0784984-8fdb-4cfd-8390-b18d293103d2",
   "metadata": {},
   "outputs": [],
   "source": [
    "# also set a random state\n",
    "rs = 123"
   ]
  },
  {
   "cell_type": "markdown",
   "id": "d74ac1ee-4137-46fe-8672-612cadee389e",
   "metadata": {},
   "source": [
    "### Calculate the consine similarity between two example courses\n"
   ]
  },
  {
   "cell_type": "markdown",
   "id": "2f915110-3915-4eca-b05d-70a9c0303920",
   "metadata": {},
   "source": [
    "Suppose we have two simple example courses:\n"
   ]
  },
  {
   "cell_type": "code",
   "execution_count": 59,
   "id": "149b4bb6-487e-49da-bd23-04a6676fc73c",
   "metadata": {},
   "outputs": [],
   "source": [
    "course1 = \"machine learning for everyone\""
   ]
  },
  {
   "cell_type": "code",
   "execution_count": 60,
   "id": "1ac93031-15f3-46a0-a7b5-6f7e8d2b3554",
   "metadata": {},
   "outputs": [],
   "source": [
    "course2 = \"machine learning for beginners\""
   ]
  },
  {
   "cell_type": "markdown",
   "id": "f9ccd072-19b4-4542-ab36-9ca42f400680",
   "metadata": {},
   "source": [
    "Next we can quickly tokenize them using the split() method (or using `word_tokenize()` method provided in `nltk` as we did in the previous lab).\n"
   ]
  },
  {
   "cell_type": "code",
   "execution_count": 61,
   "id": "d5f9ed61-ea0e-46cb-a704-1289ee0abfab",
   "metadata": {},
   "outputs": [],
   "source": [
    "tokens = set(course1.split() + course2.split())"
   ]
  },
  {
   "cell_type": "code",
   "execution_count": 62,
   "id": "f6e8fe44-b52a-4c41-9ce4-98db55521ab2",
   "metadata": {},
   "outputs": [
    {
     "data": {
      "text/plain": [
       "['machine', 'for', 'learning', 'everyone', 'beginners']"
      ]
     },
     "execution_count": 62,
     "metadata": {},
     "output_type": "execute_result"
    }
   ],
   "source": [
    "tokens = list(tokens)\n",
    "tokens"
   ]
  },
  {
   "cell_type": "markdown",
   "id": "f8eae2b3-d94a-4248-93da-96fbb91f0a28",
   "metadata": {},
   "source": [
    "then generate BoW features (token counts) for these two courses (or using `tokens_dict.doc2bow()` method provided in `nltk`, similar to what we did in the previous lab).\n"
   ]
  },
  {
   "cell_type": "code",
   "execution_count": 63,
   "id": "4a05e47b-2e8c-441a-84b0-1194d1dc851c",
   "metadata": {},
   "outputs": [],
   "source": [
    "def generate_sparse_bow(course, tokens):\n",
    "    \"\"\"\n",
    "    Generate a sparse bag-of-words (BoW) representation for a given course.\n",
    "\n",
    "    Parameters:\n",
    "    course (str): The input course text to generate the BoW representation for.\n",
    "\n",
    "    Returns:\n",
    "    list: A sparse BoW representation where each element corresponds to the presence (1) or absence (0)\n",
    "    of a word in the input course text.\n",
    "    \"\"\"\n",
    "\n",
    "    # Initialize an empty list to store the BoW vector\n",
    "    bow_vector = []\n",
    "\n",
    "    # Tokenize the course text by splitting it into words\n",
    "    words = course.split()\n",
    "\n",
    "    # Iterate through all unique words (tokens) in the course\n",
    "    for token in set(tokens):\n",
    "        # Check if the token is present in the course text\n",
    "        if token in words:\n",
    "            # If the token is present, append 1 to the BoW vector\n",
    "            bow_vector.append(1)\n",
    "        else:\n",
    "            # If the token is not present, append 0 to the BoW vector\n",
    "            bow_vector.append(0)\n",
    "\n",
    "    # Return the sparse BoW vector\n",
    "    return bow_vector\n"
   ]
  },
  {
   "cell_type": "code",
   "execution_count": 64,
   "id": "140557ea-844d-4317-98f1-fc763f87db6f",
   "metadata": {},
   "outputs": [
    {
     "data": {
      "text/plain": [
       "[1, 1, 1, 1, 0]"
      ]
     },
     "execution_count": 64,
     "metadata": {},
     "output_type": "execute_result"
    }
   ],
   "source": [
    "bow1 = generate_sparse_bow(course1,tokens)\n",
    "bow1"
   ]
  },
  {
   "cell_type": "code",
   "execution_count": 65,
   "id": "22dc2887-9eab-46d1-8dec-49bab76d8519",
   "metadata": {},
   "outputs": [
    {
     "data": {
      "text/plain": [
       "[1, 1, 1, 0, 1]"
      ]
     },
     "execution_count": 65,
     "metadata": {},
     "output_type": "execute_result"
    }
   ],
   "source": [
    "bow2 = generate_sparse_bow(course2,tokens)\n",
    "bow2"
   ]
  },
  {
   "cell_type": "markdown",
   "id": "7d5262b6-3821-4fc6-8ee1-0f1c6090842b",
   "metadata": {},
   "source": [
    "From the above cell outputs, we can see the two vectors are very similar. Only two dimensions are different.\n"
   ]
  },
  {
   "cell_type": "markdown",
   "id": "a78f3107-0c44-478d-a02b-97d6376a9df1",
   "metadata": {},
   "source": [
    "Now we can quickly apply the cosine similarity measurement on the two vectors:\n"
   ]
  },
  {
   "cell_type": "code",
   "execution_count": 66,
   "id": "d8c672c7-02b3-4965-bdff-46c20dcad065",
   "metadata": {},
   "outputs": [],
   "source": [
    "cos_sim = 1 - cosine(bow1, bow2)"
   ]
  },
  {
   "cell_type": "code",
   "execution_count": 67,
   "id": "c4dd7da3-83ba-4c37-8233-e3bcea951de6",
   "metadata": {},
   "outputs": [
    {
     "name": "stdout",
     "output_type": "stream",
     "text": [
      "The cosine similarity between course `machine learning for everyone` and course `machine learning for beginners` is 75.0%\n"
     ]
    }
   ],
   "source": [
    "print(f\"The cosine similarity between course `{course1}` and course `{course2}` is {round(cos_sim, 2) * 100}%\")"
   ]
  },
  {
   "cell_type": "markdown",
   "id": "c767b37e-a6da-4f11-9c6d-461ffe2a264a",
   "metadata": {},
   "source": [
    "_Practice: Try other similarity measurements such as Euclidean Distance or Jaccard index._\n"
   ]
  },
  {
   "cell_type": "code",
   "execution_count": 68,
   "id": "7154863a-06d4-4715-ad02-6137f0c86385",
   "metadata": {},
   "outputs": [
    {
     "data": {
      "text/plain": [
       "0.6"
      ]
     },
     "execution_count": 68,
     "metadata": {},
     "output_type": "execute_result"
    }
   ],
   "source": [
    "# WRITE YOUR CODE HERE\n",
    "from sklearn.metrics import jaccard_score\n",
    "\n",
    "jaccard_score(bow1, bow2)\n",
    "\n"
   ]
  },
  {
   "cell_type": "code",
   "execution_count": 85,
   "metadata": {},
   "outputs": [
    {
     "data": {
      "text/plain": [
       "1.4142135623730951"
      ]
     },
     "execution_count": 85,
     "metadata": {},
     "output_type": "execute_result"
    }
   ],
   "source": [
    "from scipy.spatial.distance import euclidean\n",
    "\n",
    "euclidean(np.array(bow1) , np.array(bow2))"
   ]
  },
  {
   "cell_type": "markdown",
   "id": "dfa0b5b2-dc94-4b84-a4e7-b80d1332b14b",
   "metadata": {},
   "source": [
    "For Example: Euclidean distance between 2 points $p$ and $q$ can be summarized by this equation: $d(p,q)={\\sqrt {(p_{1}-q_{1})^{2}+(p_{2}-q_{2})^{2}+(p_{3}-q_{3})^{2}}}$. You can use `euclidean(p,q)` function from ```scipy``` package to calculate it. \n"
   ]
  },
  {
   "cell_type": "markdown",
   "id": "2b01370d-58d7-4764-a172-75558f0c0a66",
   "metadata": {},
   "source": [
    "### TASK: Find similar courses to the course `Machine Learning with Python`\n"
   ]
  },
  {
   "cell_type": "markdown",
   "id": "e6ce3baf-a501-478b-a5eb-7bffeadd0b6f",
   "metadata": {},
   "source": [
    "Now you have learned how to calculate cosine similarity between two sample BoW feature vectors. Let's work on some real course BoW feature vectors.\n"
   ]
  },
  {
   "cell_type": "code",
   "execution_count": 69,
   "id": "1033134f-67d2-4b81-bc22-aac12ebbe249",
   "metadata": {},
   "outputs": [],
   "source": [
    "# Load the BoW features as Pandas dataframe\n",
    "bows_url = \"https://cf-courses-data.s3.us.cloud-object-storage.appdomain.cloud/IBM-ML321EN-SkillsNetwork/labs/datasets/courses_bows.csv\"\n",
    "bows_df = pd.read_csv(bows_url)\n",
    "bows_df = bows_df[['doc_id', 'token', 'bow']]"
   ]
  },
  {
   "cell_type": "code",
   "execution_count": 70,
   "id": "ac68bef8-2453-45b0-88a5-5bec3e315238",
   "metadata": {},
   "outputs": [
    {
     "data": {
      "text/html": [
       "<div>\n",
       "<style scoped>\n",
       "    .dataframe tbody tr th:only-of-type {\n",
       "        vertical-align: middle;\n",
       "    }\n",
       "\n",
       "    .dataframe tbody tr th {\n",
       "        vertical-align: top;\n",
       "    }\n",
       "\n",
       "    .dataframe thead th {\n",
       "        text-align: right;\n",
       "    }\n",
       "</style>\n",
       "<table border=\"1\" class=\"dataframe\">\n",
       "  <thead>\n",
       "    <tr style=\"text-align: right;\">\n",
       "      <th></th>\n",
       "      <th>doc_id</th>\n",
       "      <th>token</th>\n",
       "      <th>bow</th>\n",
       "    </tr>\n",
       "  </thead>\n",
       "  <tbody>\n",
       "    <tr>\n",
       "      <th>0</th>\n",
       "      <td>ML0201EN</td>\n",
       "      <td>ai</td>\n",
       "      <td>2</td>\n",
       "    </tr>\n",
       "    <tr>\n",
       "      <th>1</th>\n",
       "      <td>ML0201EN</td>\n",
       "      <td>apps</td>\n",
       "      <td>2</td>\n",
       "    </tr>\n",
       "    <tr>\n",
       "      <th>2</th>\n",
       "      <td>ML0201EN</td>\n",
       "      <td>build</td>\n",
       "      <td>2</td>\n",
       "    </tr>\n",
       "    <tr>\n",
       "      <th>3</th>\n",
       "      <td>ML0201EN</td>\n",
       "      <td>cloud</td>\n",
       "      <td>1</td>\n",
       "    </tr>\n",
       "    <tr>\n",
       "      <th>4</th>\n",
       "      <td>ML0201EN</td>\n",
       "      <td>coming</td>\n",
       "      <td>1</td>\n",
       "    </tr>\n",
       "    <tr>\n",
       "      <th>5</th>\n",
       "      <td>ML0201EN</td>\n",
       "      <td>create</td>\n",
       "      <td>1</td>\n",
       "    </tr>\n",
       "    <tr>\n",
       "      <th>6</th>\n",
       "      <td>ML0201EN</td>\n",
       "      <td>data</td>\n",
       "      <td>1</td>\n",
       "    </tr>\n",
       "    <tr>\n",
       "      <th>7</th>\n",
       "      <td>ML0201EN</td>\n",
       "      <td>developer</td>\n",
       "      <td>1</td>\n",
       "    </tr>\n",
       "    <tr>\n",
       "      <th>8</th>\n",
       "      <td>ML0201EN</td>\n",
       "      <td>found</td>\n",
       "      <td>1</td>\n",
       "    </tr>\n",
       "    <tr>\n",
       "      <th>9</th>\n",
       "      <td>ML0201EN</td>\n",
       "      <td>fun</td>\n",
       "      <td>1</td>\n",
       "    </tr>\n",
       "  </tbody>\n",
       "</table>\n",
       "</div>"
      ],
      "text/plain": [
       "     doc_id      token  bow\n",
       "0  ML0201EN         ai    2\n",
       "1  ML0201EN       apps    2\n",
       "2  ML0201EN      build    2\n",
       "3  ML0201EN      cloud    1\n",
       "4  ML0201EN     coming    1\n",
       "5  ML0201EN     create    1\n",
       "6  ML0201EN       data    1\n",
       "7  ML0201EN  developer    1\n",
       "8  ML0201EN      found    1\n",
       "9  ML0201EN        fun    1"
      ]
     },
     "execution_count": 70,
     "metadata": {},
     "output_type": "execute_result"
    }
   ],
   "source": [
    "bows_df.head(10)"
   ]
  },
  {
   "cell_type": "markdown",
   "id": "3bf447ec-228c-4a85-8abe-8d263252d560",
   "metadata": {},
   "source": [
    "The `bows_df` dataframe contains the BoW features vectors for each course, in a vertical and dense format. It has three columns `doc_id` represents the course id, `token` represents the token value, and `bow` represents the BoW value (token count).\n"
   ]
  },
  {
   "cell_type": "markdown",
   "id": "7b2a15b6-376b-41c5-8343-3d0ee988f410",
   "metadata": {},
   "source": [
    "Then, let's load another course content dataset which contains the course title and description:\n"
   ]
  },
  {
   "cell_type": "code",
   "execution_count": 71,
   "id": "8144652d-8166-468e-8c43-51f273b5953d",
   "metadata": {},
   "outputs": [],
   "source": [
    "# Load the course dataframe\n",
    "course_url = \"https://cf-courses-data.s3.us.cloud-object-storage.appdomain.cloud/IBM-ML321EN-SkillsNetwork/labs/datasets/course_processed.csv\"\n",
    "course_df = pd.read_csv(course_url)"
   ]
  },
  {
   "cell_type": "code",
   "execution_count": 72,
   "id": "031e4a56-88b8-46c4-bc77-51b7cc93e9e6",
   "metadata": {},
   "outputs": [
    {
     "data": {
      "text/html": [
       "<div>\n",
       "<style scoped>\n",
       "    .dataframe tbody tr th:only-of-type {\n",
       "        vertical-align: middle;\n",
       "    }\n",
       "\n",
       "    .dataframe tbody tr th {\n",
       "        vertical-align: top;\n",
       "    }\n",
       "\n",
       "    .dataframe thead th {\n",
       "        text-align: right;\n",
       "    }\n",
       "</style>\n",
       "<table border=\"1\" class=\"dataframe\">\n",
       "  <thead>\n",
       "    <tr style=\"text-align: right;\">\n",
       "      <th></th>\n",
       "      <th>COURSE_ID</th>\n",
       "      <th>TITLE</th>\n",
       "      <th>DESCRIPTION</th>\n",
       "    </tr>\n",
       "  </thead>\n",
       "  <tbody>\n",
       "    <tr>\n",
       "      <th>0</th>\n",
       "      <td>ML0201EN</td>\n",
       "      <td>robots are coming  build iot apps with watson ...</td>\n",
       "      <td>have fun with iot and learn along the way  if ...</td>\n",
       "    </tr>\n",
       "    <tr>\n",
       "      <th>1</th>\n",
       "      <td>ML0122EN</td>\n",
       "      <td>accelerating deep learning with gpu</td>\n",
       "      <td>training complex deep learning models with lar...</td>\n",
       "    </tr>\n",
       "    <tr>\n",
       "      <th>2</th>\n",
       "      <td>GPXX0ZG0EN</td>\n",
       "      <td>consuming restful services using the reactive ...</td>\n",
       "      <td>learn how to use a reactive jax rs client to a...</td>\n",
       "    </tr>\n",
       "    <tr>\n",
       "      <th>3</th>\n",
       "      <td>RP0105EN</td>\n",
       "      <td>analyzing big data in r using apache spark</td>\n",
       "      <td>apache spark is a popular cluster computing fr...</td>\n",
       "    </tr>\n",
       "    <tr>\n",
       "      <th>4</th>\n",
       "      <td>GPXX0Z2PEN</td>\n",
       "      <td>containerizing  packaging  and running a sprin...</td>\n",
       "      <td>learn how to containerize  package  and run a ...</td>\n",
       "    </tr>\n",
       "    <tr>\n",
       "      <th>5</th>\n",
       "      <td>CNSC02EN</td>\n",
       "      <td>cloud native security conference   data security</td>\n",
       "      <td>introduction to data security on cloud</td>\n",
       "    </tr>\n",
       "    <tr>\n",
       "      <th>6</th>\n",
       "      <td>DX0106EN</td>\n",
       "      <td>data science bootcamp with r for university pr...</td>\n",
       "      <td>a multi day intensive  in person data science ...</td>\n",
       "    </tr>\n",
       "    <tr>\n",
       "      <th>7</th>\n",
       "      <td>GPXX0FTCEN</td>\n",
       "      <td>learn how to use docker containers for iterati...</td>\n",
       "      <td>learn how to use docker containers for iterati...</td>\n",
       "    </tr>\n",
       "    <tr>\n",
       "      <th>8</th>\n",
       "      <td>RAVSCTEST1</td>\n",
       "      <td>scorm test 1</td>\n",
       "      <td>scron test course</td>\n",
       "    </tr>\n",
       "    <tr>\n",
       "      <th>9</th>\n",
       "      <td>GPXX06RFEN</td>\n",
       "      <td>create your first mongodb database</td>\n",
       "      <td>in this guided project  you will get started w...</td>\n",
       "    </tr>\n",
       "  </tbody>\n",
       "</table>\n",
       "</div>"
      ],
      "text/plain": [
       "    COURSE_ID                                              TITLE  \\\n",
       "0    ML0201EN  robots are coming  build iot apps with watson ...   \n",
       "1    ML0122EN                accelerating deep learning with gpu   \n",
       "2  GPXX0ZG0EN  consuming restful services using the reactive ...   \n",
       "3    RP0105EN         analyzing big data in r using apache spark   \n",
       "4  GPXX0Z2PEN  containerizing  packaging  and running a sprin...   \n",
       "5    CNSC02EN   cloud native security conference   data security   \n",
       "6    DX0106EN  data science bootcamp with r for university pr...   \n",
       "7  GPXX0FTCEN  learn how to use docker containers for iterati...   \n",
       "8  RAVSCTEST1                                       scorm test 1   \n",
       "9  GPXX06RFEN                 create your first mongodb database   \n",
       "\n",
       "                                         DESCRIPTION  \n",
       "0  have fun with iot and learn along the way  if ...  \n",
       "1  training complex deep learning models with lar...  \n",
       "2  learn how to use a reactive jax rs client to a...  \n",
       "3  apache spark is a popular cluster computing fr...  \n",
       "4  learn how to containerize  package  and run a ...  \n",
       "5             introduction to data security on cloud  \n",
       "6  a multi day intensive  in person data science ...  \n",
       "7  learn how to use docker containers for iterati...  \n",
       "8                                  scron test course  \n",
       "9  in this guided project  you will get started w...  "
      ]
     },
     "execution_count": 72,
     "metadata": {},
     "output_type": "execute_result"
    }
   ],
   "source": [
    "course_df.head(10)"
   ]
  },
  {
   "cell_type": "markdown",
   "id": "75e51723-8337-480a-8670-d37c089afe5f",
   "metadata": {},
   "source": [
    "Given course ID `ML0101ENv3`, let's find out its title and description:\n"
   ]
  },
  {
   "cell_type": "code",
   "execution_count": 73,
   "id": "7dea9a56-9d93-467e-a8e3-2e43a7df899b",
   "metadata": {},
   "outputs": [
    {
     "data": {
      "text/html": [
       "<div>\n",
       "<style scoped>\n",
       "    .dataframe tbody tr th:only-of-type {\n",
       "        vertical-align: middle;\n",
       "    }\n",
       "\n",
       "    .dataframe tbody tr th {\n",
       "        vertical-align: top;\n",
       "    }\n",
       "\n",
       "    .dataframe thead th {\n",
       "        text-align: right;\n",
       "    }\n",
       "</style>\n",
       "<table border=\"1\" class=\"dataframe\">\n",
       "  <thead>\n",
       "    <tr style=\"text-align: right;\">\n",
       "      <th></th>\n",
       "      <th>COURSE_ID</th>\n",
       "      <th>TITLE</th>\n",
       "      <th>DESCRIPTION</th>\n",
       "    </tr>\n",
       "  </thead>\n",
       "  <tbody>\n",
       "    <tr>\n",
       "      <th>158</th>\n",
       "      <td>ML0101ENv3</td>\n",
       "      <td>machine learning with python</td>\n",
       "      <td>machine learning can be an incredibly benefici...</td>\n",
       "    </tr>\n",
       "  </tbody>\n",
       "</table>\n",
       "</div>"
      ],
      "text/plain": [
       "      COURSE_ID                         TITLE  \\\n",
       "158  ML0101ENv3  machine learning with python   \n",
       "\n",
       "                                           DESCRIPTION  \n",
       "158  machine learning can be an incredibly benefici...  "
      ]
     },
     "execution_count": 73,
     "metadata": {},
     "output_type": "execute_result"
    }
   ],
   "source": [
    "course_df[course_df['COURSE_ID'] == 'ML0101ENv3']"
   ]
  },
  {
   "cell_type": "markdown",
   "id": "d79a716c-c930-4a56-8bc8-f2317651a7eb",
   "metadata": {},
   "source": [
    "We can see it is a machine learning with Python course so we can expect any machine learning or Python related courses would be similar.\n"
   ]
  },
  {
   "cell_type": "markdown",
   "id": "cb91d7e3-18aa-4401-a43f-bf64b08e278e",
   "metadata": {},
   "source": [
    "Then, let's print its associated BoW features:\n"
   ]
  },
  {
   "cell_type": "code",
   "execution_count": 74,
   "id": "9638f356-0e15-4bce-985e-8cc3eb9f3c5e",
   "metadata": {},
   "outputs": [
    {
     "data": {
      "text/html": [
       "<div>\n",
       "<style scoped>\n",
       "    .dataframe tbody tr th:only-of-type {\n",
       "        vertical-align: middle;\n",
       "    }\n",
       "\n",
       "    .dataframe tbody tr th {\n",
       "        vertical-align: top;\n",
       "    }\n",
       "\n",
       "    .dataframe thead th {\n",
       "        text-align: right;\n",
       "    }\n",
       "</style>\n",
       "<table border=\"1\" class=\"dataframe\">\n",
       "  <thead>\n",
       "    <tr style=\"text-align: right;\">\n",
       "      <th></th>\n",
       "      <th>doc_id</th>\n",
       "      <th>token</th>\n",
       "      <th>bow</th>\n",
       "    </tr>\n",
       "  </thead>\n",
       "  <tbody>\n",
       "    <tr>\n",
       "      <th>2747</th>\n",
       "      <td>ML0101ENv3</td>\n",
       "      <td>course</td>\n",
       "      <td>1</td>\n",
       "    </tr>\n",
       "    <tr>\n",
       "      <th>2748</th>\n",
       "      <td>ML0101ENv3</td>\n",
       "      <td>learning</td>\n",
       "      <td>4</td>\n",
       "    </tr>\n",
       "    <tr>\n",
       "      <th>2749</th>\n",
       "      <td>ML0101ENv3</td>\n",
       "      <td>machine</td>\n",
       "      <td>3</td>\n",
       "    </tr>\n",
       "    <tr>\n",
       "      <th>2750</th>\n",
       "      <td>ML0101ENv3</td>\n",
       "      <td>need</td>\n",
       "      <td>1</td>\n",
       "    </tr>\n",
       "    <tr>\n",
       "      <th>2751</th>\n",
       "      <td>ML0101ENv3</td>\n",
       "      <td>get</td>\n",
       "      <td>1</td>\n",
       "    </tr>\n",
       "    <tr>\n",
       "      <th>2752</th>\n",
       "      <td>ML0101ENv3</td>\n",
       "      <td>started</td>\n",
       "      <td>1</td>\n",
       "    </tr>\n",
       "    <tr>\n",
       "      <th>2753</th>\n",
       "      <td>ML0101ENv3</td>\n",
       "      <td>python</td>\n",
       "      <td>2</td>\n",
       "    </tr>\n",
       "    <tr>\n",
       "      <th>2754</th>\n",
       "      <td>ML0101ENv3</td>\n",
       "      <td>tool</td>\n",
       "      <td>1</td>\n",
       "    </tr>\n",
       "    <tr>\n",
       "      <th>2755</th>\n",
       "      <td>ML0101ENv3</td>\n",
       "      <td>tools</td>\n",
       "      <td>1</td>\n",
       "    </tr>\n",
       "    <tr>\n",
       "      <th>2756</th>\n",
       "      <td>ML0101ENv3</td>\n",
       "      <td>predict</td>\n",
       "      <td>1</td>\n",
       "    </tr>\n",
       "    <tr>\n",
       "      <th>2757</th>\n",
       "      <td>ML0101ENv3</td>\n",
       "      <td>free</td>\n",
       "      <td>1</td>\n",
       "    </tr>\n",
       "    <tr>\n",
       "      <th>2758</th>\n",
       "      <td>ML0101ENv3</td>\n",
       "      <td>hidden</td>\n",
       "      <td>1</td>\n",
       "    </tr>\n",
       "    <tr>\n",
       "      <th>2759</th>\n",
       "      <td>ML0101ENv3</td>\n",
       "      <td>insights</td>\n",
       "      <td>1</td>\n",
       "    </tr>\n",
       "    <tr>\n",
       "      <th>2760</th>\n",
       "      <td>ML0101ENv3</td>\n",
       "      <td>beneficial</td>\n",
       "      <td>1</td>\n",
       "    </tr>\n",
       "    <tr>\n",
       "      <th>2761</th>\n",
       "      <td>ML0101ENv3</td>\n",
       "      <td>future</td>\n",
       "      <td>1</td>\n",
       "    </tr>\n",
       "    <tr>\n",
       "      <th>2762</th>\n",
       "      <td>ML0101ENv3</td>\n",
       "      <td>trends</td>\n",
       "      <td>1</td>\n",
       "    </tr>\n",
       "    <tr>\n",
       "      <th>2763</th>\n",
       "      <td>ML0101ENv3</td>\n",
       "      <td>give</td>\n",
       "      <td>1</td>\n",
       "    </tr>\n",
       "    <tr>\n",
       "      <th>2764</th>\n",
       "      <td>ML0101ENv3</td>\n",
       "      <td>supervised</td>\n",
       "      <td>1</td>\n",
       "    </tr>\n",
       "    <tr>\n",
       "      <th>2765</th>\n",
       "      <td>ML0101ENv3</td>\n",
       "      <td>unsupervised</td>\n",
       "      <td>1</td>\n",
       "    </tr>\n",
       "  </tbody>\n",
       "</table>\n",
       "</div>"
      ],
      "text/plain": [
       "          doc_id         token  bow\n",
       "2747  ML0101ENv3        course    1\n",
       "2748  ML0101ENv3      learning    4\n",
       "2749  ML0101ENv3       machine    3\n",
       "2750  ML0101ENv3          need    1\n",
       "2751  ML0101ENv3           get    1\n",
       "2752  ML0101ENv3       started    1\n",
       "2753  ML0101ENv3        python    2\n",
       "2754  ML0101ENv3          tool    1\n",
       "2755  ML0101ENv3         tools    1\n",
       "2756  ML0101ENv3       predict    1\n",
       "2757  ML0101ENv3          free    1\n",
       "2758  ML0101ENv3        hidden    1\n",
       "2759  ML0101ENv3      insights    1\n",
       "2760  ML0101ENv3    beneficial    1\n",
       "2761  ML0101ENv3        future    1\n",
       "2762  ML0101ENv3        trends    1\n",
       "2763  ML0101ENv3          give    1\n",
       "2764  ML0101ENv3    supervised    1\n",
       "2765  ML0101ENv3  unsupervised    1"
      ]
     },
     "execution_count": 74,
     "metadata": {},
     "output_type": "execute_result"
    }
   ],
   "source": [
    "ml_course = bows_df[bows_df['doc_id'] == 'ML0101ENv3']\n",
    "ml_course"
   ]
  },
  {
   "cell_type": "markdown",
   "id": "23a4e5ac-7898-451c-91d8-aaece6ce83ec",
   "metadata": {},
   "source": [
    "We can see the BoW feature vector is in vertical format but normally feature vectors are in horizontal format. One way to transpose the feature vector from vertical to horizontal is to use the Pandas `pivot()` method:\n"
   ]
  },
  {
   "cell_type": "code",
   "execution_count": 75,
   "id": "c621f3f1-3a4d-4bd4-b73d-d7568b9585a4",
   "metadata": {},
   "outputs": [
    {
     "data": {
      "text/html": [
       "<div>\n",
       "<style scoped>\n",
       "    .dataframe tbody tr th:only-of-type {\n",
       "        vertical-align: middle;\n",
       "    }\n",
       "\n",
       "    .dataframe tbody tr th {\n",
       "        vertical-align: top;\n",
       "    }\n",
       "\n",
       "    .dataframe thead tr th {\n",
       "        text-align: left;\n",
       "    }\n",
       "</style>\n",
       "<table border=\"1\" class=\"dataframe\">\n",
       "  <thead>\n",
       "    <tr>\n",
       "      <th></th>\n",
       "      <th>doc_id</th>\n",
       "      <th colspan=\"19\" halign=\"left\">bow</th>\n",
       "    </tr>\n",
       "    <tr>\n",
       "      <th>token</th>\n",
       "      <th></th>\n",
       "      <th>beneficial</th>\n",
       "      <th>course</th>\n",
       "      <th>free</th>\n",
       "      <th>future</th>\n",
       "      <th>get</th>\n",
       "      <th>give</th>\n",
       "      <th>hidden</th>\n",
       "      <th>insights</th>\n",
       "      <th>learning</th>\n",
       "      <th>machine</th>\n",
       "      <th>need</th>\n",
       "      <th>predict</th>\n",
       "      <th>python</th>\n",
       "      <th>started</th>\n",
       "      <th>supervised</th>\n",
       "      <th>tool</th>\n",
       "      <th>tools</th>\n",
       "      <th>trends</th>\n",
       "      <th>unsupervised</th>\n",
       "    </tr>\n",
       "  </thead>\n",
       "  <tbody>\n",
       "    <tr>\n",
       "      <th>0</th>\n",
       "      <td>ML0101ENv3</td>\n",
       "      <td>1</td>\n",
       "      <td>1</td>\n",
       "      <td>1</td>\n",
       "      <td>1</td>\n",
       "      <td>1</td>\n",
       "      <td>1</td>\n",
       "      <td>1</td>\n",
       "      <td>1</td>\n",
       "      <td>4</td>\n",
       "      <td>3</td>\n",
       "      <td>1</td>\n",
       "      <td>1</td>\n",
       "      <td>2</td>\n",
       "      <td>1</td>\n",
       "      <td>1</td>\n",
       "      <td>1</td>\n",
       "      <td>1</td>\n",
       "      <td>1</td>\n",
       "      <td>1</td>\n",
       "    </tr>\n",
       "  </tbody>\n",
       "</table>\n",
       "</div>"
      ],
      "text/plain": [
       "           doc_id        bow                                              \\\n",
       "token             beneficial course free future get give hidden insights   \n",
       "0      ML0101ENv3          1      1    1      1   1    1      1        1   \n",
       "\n",
       "                                                                          \\\n",
       "token learning machine need predict python started supervised tool tools   \n",
       "0            4       3    1       1      2       1          1    1     1   \n",
       "\n",
       "                           \n",
       "token trends unsupervised  \n",
       "0          1            1  "
      ]
     },
     "execution_count": 75,
     "metadata": {},
     "output_type": "execute_result"
    }
   ],
   "source": [
    "ml_courseT = ml_course.pivot(index=['doc_id'], columns='token').reset_index(level=[0])\n",
    "ml_courseT"
   ]
  },
  {
   "cell_type": "markdown",
   "id": "c2e49023-eb0e-4c53-9e88-e350dcf92a91",
   "metadata": {},
   "source": [
    "To compare the BoWs of any two courses, which normally have a different set of tokens, we need to create a union token set and then transpose them. We have provided a method called `pivot_two_bows` as follows:\n"
   ]
  },
  {
   "cell_type": "code",
   "execution_count": 76,
   "id": "700a0e36-07ee-447f-a69c-fbe47ab71d5b",
   "metadata": {},
   "outputs": [],
   "source": [
    "def pivot_two_bows(basedoc, comparedoc):\n",
    "    \"\"\"\n",
    "    Pivot two bag-of-words (BoW) representations for comparison.\n",
    "\n",
    "    Parameters:\n",
    "    basedoc (DataFrame): DataFrame containing the bag-of-words representation for the base document.\n",
    "    comparedoc (DataFrame): DataFrame containing the bag-of-words representation for the document to compare.\n",
    "\n",
    "    Returns:\n",
    "    DataFrame: A DataFrame with pivoted BoW representations for the base and compared documents,\n",
    "    facilitating direct comparison of word occurrences between the two documents.\n",
    "    \"\"\"\n",
    "\n",
    "    # Create copies of the input DataFrames to avoid modifying the originals\n",
    "    base = basedoc.copy()\n",
    "    base['type'] = 'base'  # Add a 'type' column indicating base document\n",
    "    compare = comparedoc.copy()\n",
    "    compare['type'] = 'compare'  # Add a 'type' column indicating compared document\n",
    "\n",
    "    # Concatenate the two DataFrames vertically\n",
    "    join = pd.concat([base, compare])\n",
    "\n",
    "    # Pivot the concatenated DataFrame based on 'doc_id' and 'type', with words as columns\n",
    "    joinT = join.pivot(index=['doc_id', 'type'], columns='token').fillna(0).reset_index(level=[0, 1])\n",
    "\n",
    "    # Assign meaningful column names to the pivoted DataFrame\n",
    "    joinT.columns = ['doc_id', 'type'] + [t[1] for t in joinT.columns][2:]\n",
    "\n",
    "    # Return the pivoted DataFrame for comparison\n",
    "    return joinT\n"
   ]
  },
  {
   "cell_type": "code",
   "execution_count": 77,
   "id": "32a71208-f1a8-4185-bd15-74f0ddc2caea",
   "metadata": {},
   "outputs": [],
   "source": [
    "course1 = bows_df[bows_df['doc_id'] == 'ML0151EN']\n",
    "course2 = bows_df[bows_df['doc_id'] == 'ML0101ENv3']"
   ]
  },
  {
   "cell_type": "code",
   "execution_count": 78,
   "id": "ef728a6a-2c8a-40a3-a8e9-63c3d99c76ac",
   "metadata": {},
   "outputs": [
    {
     "data": {
      "text/html": [
       "<div>\n",
       "<style scoped>\n",
       "    .dataframe tbody tr th:only-of-type {\n",
       "        vertical-align: middle;\n",
       "    }\n",
       "\n",
       "    .dataframe tbody tr th {\n",
       "        vertical-align: top;\n",
       "    }\n",
       "\n",
       "    .dataframe thead th {\n",
       "        text-align: right;\n",
       "    }\n",
       "</style>\n",
       "<table border=\"1\" class=\"dataframe\">\n",
       "  <thead>\n",
       "    <tr style=\"text-align: right;\">\n",
       "      <th></th>\n",
       "      <th>doc_id</th>\n",
       "      <th>type</th>\n",
       "      <th>approachable</th>\n",
       "      <th>basics</th>\n",
       "      <th>beneficial</th>\n",
       "      <th>comparison</th>\n",
       "      <th>course</th>\n",
       "      <th>dives</th>\n",
       "      <th>free</th>\n",
       "      <th>future</th>\n",
       "      <th>...</th>\n",
       "      <th>relates</th>\n",
       "      <th>started</th>\n",
       "      <th>statistical</th>\n",
       "      <th>supervised</th>\n",
       "      <th>tool</th>\n",
       "      <th>tools</th>\n",
       "      <th>trends</th>\n",
       "      <th>unsupervised</th>\n",
       "      <th>using</th>\n",
       "      <th>vs</th>\n",
       "    </tr>\n",
       "  </thead>\n",
       "  <tbody>\n",
       "    <tr>\n",
       "      <th>0</th>\n",
       "      <td>ML0101ENv3</td>\n",
       "      <td>compare</td>\n",
       "      <td>0.0</td>\n",
       "      <td>0.0</td>\n",
       "      <td>1.0</td>\n",
       "      <td>0.0</td>\n",
       "      <td>1.0</td>\n",
       "      <td>0.0</td>\n",
       "      <td>1.0</td>\n",
       "      <td>1.0</td>\n",
       "      <td>...</td>\n",
       "      <td>0.0</td>\n",
       "      <td>1.0</td>\n",
       "      <td>0.0</td>\n",
       "      <td>1.0</td>\n",
       "      <td>1.0</td>\n",
       "      <td>1.0</td>\n",
       "      <td>1.0</td>\n",
       "      <td>1.0</td>\n",
       "      <td>0.0</td>\n",
       "      <td>0.0</td>\n",
       "    </tr>\n",
       "    <tr>\n",
       "      <th>1</th>\n",
       "      <td>ML0151EN</td>\n",
       "      <td>base</td>\n",
       "      <td>1.0</td>\n",
       "      <td>1.0</td>\n",
       "      <td>0.0</td>\n",
       "      <td>1.0</td>\n",
       "      <td>1.0</td>\n",
       "      <td>1.0</td>\n",
       "      <td>0.0</td>\n",
       "      <td>0.0</td>\n",
       "      <td>...</td>\n",
       "      <td>1.0</td>\n",
       "      <td>0.0</td>\n",
       "      <td>1.0</td>\n",
       "      <td>1.0</td>\n",
       "      <td>0.0</td>\n",
       "      <td>0.0</td>\n",
       "      <td>0.0</td>\n",
       "      <td>1.0</td>\n",
       "      <td>1.0</td>\n",
       "      <td>1.0</td>\n",
       "    </tr>\n",
       "  </tbody>\n",
       "</table>\n",
       "<p>2 rows × 36 columns</p>\n",
       "</div>"
      ],
      "text/plain": [
       "       doc_id     type  approachable  basics  beneficial  comparison  course  \\\n",
       "0  ML0101ENv3  compare           0.0     0.0         1.0         0.0     1.0   \n",
       "1    ML0151EN     base           1.0     1.0         0.0         1.0     1.0   \n",
       "\n",
       "   dives  free  future  ...  relates  started  statistical  supervised  tool  \\\n",
       "0    0.0   1.0     1.0  ...      0.0      1.0          0.0         1.0   1.0   \n",
       "1    1.0   0.0     0.0  ...      1.0      0.0          1.0         1.0   0.0   \n",
       "\n",
       "   tools  trends  unsupervised  using   vs  \n",
       "0    1.0     1.0           1.0    0.0  0.0  \n",
       "1    0.0     0.0           1.0    1.0  1.0  \n",
       "\n",
       "[2 rows x 36 columns]"
      ]
     },
     "execution_count": 78,
     "metadata": {},
     "output_type": "execute_result"
    }
   ],
   "source": [
    "bow_vectors = pivot_two_bows(course1, course2)\n",
    "bow_vectors"
   ]
  },
  {
   "cell_type": "markdown",
   "id": "e8ea2803-0814-42fa-b1c5-f4230bea9541",
   "metadata": {},
   "source": [
    "Similarly, we can use the cosine method to calculate their similarity:\n"
   ]
  },
  {
   "cell_type": "code",
   "execution_count": 79,
   "id": "94741395-c961-47f7-b27d-b6c0dd828137",
   "metadata": {},
   "outputs": [
    {
     "data": {
      "text/plain": [
       "0.662622139954909"
      ]
     },
     "execution_count": 79,
     "metadata": {},
     "output_type": "execute_result"
    }
   ],
   "source": [
    "similarity = 1 - cosine(bow_vectors.iloc[0, 2:], bow_vectors.iloc[1, 2:])\n",
    "similarity"
   ]
  },
  {
   "cell_type": "markdown",
   "id": "b79342d2-4ece-48eb-89ae-f8d3b1c7bfab",
   "metadata": {},
   "source": [
    "Now it's your turn to perform a task of finding all courses similar to the course `Machine Learning with Python`:\n"
   ]
  },
  {
   "cell_type": "code",
   "execution_count": 80,
   "id": "4a89e57e-de70-4748-915e-68e78de628e3",
   "metadata": {},
   "outputs": [
    {
     "data": {
      "text/html": [
       "<div>\n",
       "<style scoped>\n",
       "    .dataframe tbody tr th:only-of-type {\n",
       "        vertical-align: middle;\n",
       "    }\n",
       "\n",
       "    .dataframe tbody tr th {\n",
       "        vertical-align: top;\n",
       "    }\n",
       "\n",
       "    .dataframe thead th {\n",
       "        text-align: right;\n",
       "    }\n",
       "</style>\n",
       "<table border=\"1\" class=\"dataframe\">\n",
       "  <thead>\n",
       "    <tr style=\"text-align: right;\">\n",
       "      <th></th>\n",
       "      <th>COURSE_ID</th>\n",
       "      <th>TITLE</th>\n",
       "      <th>DESCRIPTION</th>\n",
       "    </tr>\n",
       "  </thead>\n",
       "  <tbody>\n",
       "    <tr>\n",
       "      <th>158</th>\n",
       "      <td>ML0101ENv3</td>\n",
       "      <td>machine learning with python</td>\n",
       "      <td>machine learning can be an incredibly benefici...</td>\n",
       "    </tr>\n",
       "  </tbody>\n",
       "</table>\n",
       "</div>"
      ],
      "text/plain": [
       "      COURSE_ID                         TITLE  \\\n",
       "158  ML0101ENv3  machine learning with python   \n",
       "\n",
       "                                           DESCRIPTION  \n",
       "158  machine learning can be an incredibly benefici...  "
      ]
     },
     "execution_count": 80,
     "metadata": {},
     "output_type": "execute_result"
    }
   ],
   "source": [
    "course_df[course_df['COURSE_ID'] == 'ML0101ENv3']"
   ]
  },
  {
   "cell_type": "markdown",
   "id": "0086ed19-8197-46af-ae67-4c8611e58c54",
   "metadata": {},
   "source": [
    "You can set a similarity threshold such as 0.5 to determine if two courses are similar enough.\n"
   ]
  },
  {
   "cell_type": "markdown",
   "id": "45090fd3-2245-42af-89c7-cada23067687",
   "metadata": {},
   "source": [
    "_TODO: Find courses which are similar to course `Machine Learning with Python (ML0101ENv3)`, you also need to show the title and descriptions of those courses._\n"
   ]
  },
  {
   "cell_type": "code",
   "execution_count": 103,
   "id": "6bec7fa5-90d5-4e30-a81e-1ac2d51032db",
   "metadata": {},
   "outputs": [
    {
     "data": {
      "text/plain": [
       "['excourse08',\n",
       " 'ST0101EN',\n",
       " 'excourse93',\n",
       " 'CB0103EN',\n",
       " 'RP0101EN',\n",
       " 'excourse87',\n",
       " 'excourse61',\n",
       " 'PA0103EN',\n",
       " 'DW0101EN',\n",
       " 'excourse92',\n",
       " 'excourse56',\n",
       " 'excourse62',\n",
       " 'excourse64',\n",
       " 'excourse47',\n",
       " 'GPXX04P5EN',\n",
       " 'GPXX06RFEN',\n",
       " 'BD0121EN',\n",
       " 'GPXX07UGEN',\n",
       " 'CO0101EN',\n",
       " 'SC0105EN',\n",
       " 'excourse07',\n",
       " 'excourse51',\n",
       " 'DA0201EN',\n",
       " 'excourse16',\n",
       " 'GPXX03HFEN',\n",
       " 'CB0101EN',\n",
       " 'excourse14',\n",
       " 'TMP0105EN',\n",
       " 'excourse12',\n",
       " 'GPXX04TNEN',\n",
       " 'excourse04',\n",
       " 'GPXX0UN5EN',\n",
       " 'excourse84',\n",
       " 'excourse85',\n",
       " 'excourse50',\n",
       " 'GPXX0YBFEN',\n",
       " 'excourse39',\n",
       " 'DX0108EN',\n",
       " 'GPXX04XJEN',\n",
       " 'GPXX0742EN',\n",
       " 'BD0137EN',\n",
       " 'excourse55',\n",
       " 'GPXX0KY1EN',\n",
       " 'RP0105EN',\n",
       " 'BD0133EN',\n",
       " 'DV0151EN',\n",
       " 'excourse44',\n",
       " 'excourse21',\n",
       " 'TA0106EN',\n",
       " 'CC0150EN',\n",
       " 'GPXX0ZG0EN',\n",
       " 'SC0103EN',\n",
       " 'GPXX0YMEEN',\n",
       " 'excourse68',\n",
       " 'excourse03',\n",
       " 'CL0101EN',\n",
       " 'excourse27',\n",
       " 'GPXX0G3KEN',\n",
       " 'excourse90',\n",
       " 'excourse74',\n",
       " 'excourse88',\n",
       " 'excourse78',\n",
       " 'ML0151EN',\n",
       " 'excourse15',\n",
       " 'DS0301EN',\n",
       " 'excourse59',\n",
       " 'EE0101EN',\n",
       " 'BD0143EN',\n",
       " 'BD0123EN',\n",
       " 'GPXX0ZYVEN',\n",
       " 'GPXX01RYEN',\n",
       " 'GPXX0SDXEN',\n",
       " 'GPXX0XV3EN',\n",
       " 'ML0120ENv2',\n",
       " 'excourse35',\n",
       " 'BD0212EN',\n",
       " 'PY0101EN',\n",
       " 'ML0101EN',\n",
       " 'TA0105',\n",
       " 'SW0201EN',\n",
       " 'CC0250EN',\n",
       " 'DA0151EN',\n",
       " 'BD0141EN',\n",
       " 'OS0101EN',\n",
       " 'GPXX0YXHEN',\n",
       " 'GPXX06KEEN',\n",
       " 'excourse36',\n",
       " 'excourse72',\n",
       " 'excourse82',\n",
       " 'excourse52',\n",
       " 'excourse02',\n",
       " 'LB0105ENv1',\n",
       " 'GPXX0UMSEN',\n",
       " 'GPXX06ZLEN',\n",
       " 'TA0105EN',\n",
       " 'GPXX0ZMZEN',\n",
       " 'GPXX0WRDEN',\n",
       " 'GPXX0A1YEN',\n",
       " 'TMP0106',\n",
       " 'BD0223EN',\n",
       " 'AI0111EN',\n",
       " 'ML0101ENv3',\n",
       " 'CP0101EN',\n",
       " 'GPXX0QQ3EN',\n",
       " 'excourse65',\n",
       " 'DX0107EN',\n",
       " 'GPXX0TY1EN',\n",
       " 'ML0120EN',\n",
       " 'DS0132EN',\n",
       " 'excourse60',\n",
       " 'GPXX0PG8EN',\n",
       " 'LB0101ENv1',\n",
       " 'excourse45',\n",
       " 'GPXX0I4FEN',\n",
       " 'DAI101EN',\n",
       " 'GPXX01AVEN',\n",
       " 'GPXX0KHHEN',\n",
       " 'DJ0101EN',\n",
       " 'GPXX0BSAEN',\n",
       " 'excourse53',\n",
       " 'excourse25',\n",
       " 'BD0135EN',\n",
       " 'GPXX0XFQEN',\n",
       " 'GPXX0W7KEN',\n",
       " 'DB0111EN',\n",
       " 'excourse01',\n",
       " 'excourse19',\n",
       " 'ML0111EN',\n",
       " 'CC0101EN',\n",
       " 'BENTEST4',\n",
       " 'HCC104EN',\n",
       " 'CO0201EN',\n",
       " 'GPXX0WTIEN',\n",
       " 'CC0103EN',\n",
       " 'GPXX0Q8AEN',\n",
       " 'excourse42',\n",
       " 'CNSC02EN',\n",
       " 'GPXX048OEN',\n",
       " 'excourse29',\n",
       " 'GPXX0M6UEN',\n",
       " 'GPXX0QR3EN',\n",
       " 'GPXX0T3CEN',\n",
       " 'DB0113EN',\n",
       " 'GPXX0JZ4EN',\n",
       " 'ML0109EN',\n",
       " 'GPXX01DCEN',\n",
       " 'DS0101EN',\n",
       " 'excourse10',\n",
       " 'excourse30',\n",
       " 'BD0153EN',\n",
       " 'GPXX0M7ZEN',\n",
       " 'WA0101EN',\n",
       " 'excourse38',\n",
       " 'DS0110EN',\n",
       " 'PHPM002EN',\n",
       " 'BD0151EN',\n",
       " 'TMP0101EN',\n",
       " 'excourse48',\n",
       " 'excourse09',\n",
       " 'CB0201EN',\n",
       " 'excourse49',\n",
       " 'CO0401EN',\n",
       " 'GPXX0435EN',\n",
       " 'CO0193EN',\n",
       " 'GPXX0BUBEN',\n",
       " 'excourse46',\n",
       " 'BD0115EN',\n",
       " 'excourse17',\n",
       " 'GPXX0MP0EN',\n",
       " 'GPXX0Z2PEN',\n",
       " 'SC0101EN',\n",
       " 'IT0101EN',\n",
       " 'excourse76',\n",
       " 'BD0145EN',\n",
       " 'excourse40',\n",
       " 'BD0211EN',\n",
       " 'GPXX0PICEN',\n",
       " 'GPXX0QJFEN',\n",
       " 'GPXX0FTCEN',\n",
       " 'GPXX0HAAEN',\n",
       " 'ML0122EN',\n",
       " 'GPXX0ADEN',\n",
       " 'ML0122ENv3',\n",
       " 'BC0201EN',\n",
       " 'CO0301EN',\n",
       " 'GPXX0QS6EN',\n",
       " 'excourse81',\n",
       " 'CC0201EN',\n",
       " 'GPXX0E3QEN',\n",
       " 'DB0115EN',\n",
       " 'GPXX0HC7EN',\n",
       " 'excourse22',\n",
       " 'excourse33',\n",
       " 'excourse83',\n",
       " 'excourse70',\n",
       " 'GPXX097UEN',\n",
       " 'BD0221EN',\n",
       " 'GPXX0IHMEN',\n",
       " 'RP0103EN',\n",
       " 'excourse71',\n",
       " 'LB0111EN',\n",
       " 'excourse75',\n",
       " 'ST0201EN',\n",
       " 'excourse57',\n",
       " 'GPXX0725EN',\n",
       " 'CC0120EN',\n",
       " 'PA0101EN',\n",
       " 'BD0101EN',\n",
       " 'DX0106EN',\n",
       " 'GPXX0JLHEN',\n",
       " 'GPXX0T0FEN',\n",
       " 'GPXX0QTEEN',\n",
       " 'GPXX0NHZEN',\n",
       " 'excourse41',\n",
       " 'GPXX07REN',\n",
       " 'excourse13',\n",
       " 'excourse54',\n",
       " 'GPXX0G31EN',\n",
       " 'LB0107ENv1',\n",
       " 'excourse67',\n",
       " 'GPXX04HEEN',\n",
       " 'DV0101EN',\n",
       " 'ML0201EN',\n",
       " 'excourse11',\n",
       " 'GPXX0RL8EN',\n",
       " 'GPXX05RDEN',\n",
       " 'GPXX0HZ2EN',\n",
       " 'SN0111EN',\n",
       " 'GPXX0QU9EN',\n",
       " 'DB0101EN',\n",
       " 'ML0120ENv3',\n",
       " 'RP0151EN',\n",
       " 'ML0122ENv1',\n",
       " 'GPXX0LLEEN',\n",
       " 'BD0111EN',\n",
       " 'excourse43',\n",
       " 'SECM03EN',\n",
       " 'excourse18',\n",
       " 'DE0205EN',\n",
       " 'GPXX05LMEN',\n",
       " 'excourse89',\n",
       " 'GPXX05P1EN',\n",
       " 'CO0302EN',\n",
       " 'DP0101EN',\n",
       " 'CC0210EN',\n",
       " 'GPXX07YGEN',\n",
       " 'excourse06',\n",
       " 'GPXX04V3EN',\n",
       " 'ML0115EN',\n",
       " 'GPXX0G81EN',\n",
       " 'GPXX08WYEN',\n",
       " 'GPXX04MXEN',\n",
       " 'GPXX0RQLEN',\n",
       " 'QC0101EN',\n",
       " 'excourse24',\n",
       " 'LB0109ENv1',\n",
       " 'excourse63',\n",
       " 'CC0271EN',\n",
       " 'DB0151EN',\n",
       " 'DS0103EN',\n",
       " 'excourse79',\n",
       " 'PA0107EN',\n",
       " 'excourse32',\n",
       " 'ST0301EN',\n",
       " 'excourse73',\n",
       " 'GPXX0XENEN',\n",
       " 'DS0107',\n",
       " 'excourse66',\n",
       " 'ML0103EN',\n",
       " 'SW0101EN',\n",
       " 'excourse28',\n",
       " 'excourse58',\n",
       " 'GPXX0MIIEN',\n",
       " 'HCC105EN',\n",
       " 'BD0131EN',\n",
       " 'LB0103ENv1',\n",
       " 'excourse23',\n",
       " 'excourse31',\n",
       " 'excourse69',\n",
       " 'GPXX0FFCEN',\n",
       " 'GPXX0JGFEN',\n",
       " 'GPXX0D14EN',\n",
       " 'excourse86',\n",
       " 'GPXX0KV4EN',\n",
       " 'excourse20',\n",
       " 'BC0202EN',\n",
       " 'TMP107',\n",
       " 'excourse05',\n",
       " 'excourse26',\n",
       " 'DS0201EN',\n",
       " 'CB0105ENv1',\n",
       " 'DS0321EN',\n",
       " 'WA0103EN',\n",
       " 'GPXX0IBEN',\n",
       " 'CC0121EN',\n",
       " 'excourse91',\n",
       " 'PA0109EN',\n",
       " 'DA0101EN',\n",
       " 'excourse80',\n",
       " 'RP0103',\n",
       " 'excourse34',\n",
       " 'COM001EN',\n",
       " 'BC0101EN',\n",
       " 'DS0105EN',\n",
       " 'excourse37',\n",
       " 'RAVSCTEST1',\n",
       " 'excourse77']"
      ]
     },
     "execution_count": 103,
     "metadata": {},
     "output_type": "execute_result"
    }
   ],
   "source": [
    "# WRITE YOUR CODE HERE\n",
    "\n",
    "## For each course other than ML0101ENv3, use pivot_course_rows to convert it with course ML0101ENv3 into horizontal two BoW feature vectors\n",
    "## Then use the cosine method to calculate the similarity\n",
    "## Report all courses with similarities larger than a specific threshold (such as 0.5)\n",
    "\n",
    "docs = set(bows_df['doc_id'])\n",
    "docs = list(docs)\n",
    "docs\n"
   ]
  },
  {
   "cell_type": "code",
   "execution_count": null,
   "metadata": {},
   "outputs": [
    {
     "name": "stdout",
     "output_type": "stream",
     "text": [
      "0.6347547807096177\n",
      "0.662622139954909\n",
      "0.5490400192158565\n",
      "0.5217491947499509\n",
      "0.6120541193300345\n"
     ]
    },
    {
     "ename": "ValueError",
     "evalue": "('Lengths must match to compare', (307,), (5,))",
     "output_type": "error",
     "traceback": [
      "\u001b[31m---------------------------------------------------------------------------\u001b[39m",
      "\u001b[31mValueError\u001b[39m                                Traceback (most recent call last)",
      "\u001b[36mCell\u001b[39m\u001b[36m \u001b[39m\u001b[32mIn[109]\u001b[39m\u001b[32m, line 14\u001b[39m\n\u001b[32m     11\u001b[39m         similar_courses.append(i)\n\u001b[32m     12\u001b[39m similar_courses\n\u001b[32m---> \u001b[39m\u001b[32m14\u001b[39m course_df[\u001b[43mcourse_df\u001b[49m\u001b[43m[\u001b[49m\u001b[33;43m'\u001b[39;49m\u001b[33;43mCOURSE_ID\u001b[39;49m\u001b[33;43m'\u001b[39;49m\u001b[43m]\u001b[49m\u001b[43m \u001b[49m\u001b[43m==\u001b[49m\u001b[43m \u001b[49m\u001b[43msimilar_courses\u001b[49m]\n",
      "\u001b[36mFile \u001b[39m\u001b[32m~/Documents/Professional/Independent_learning/IBM_Machine_learning/Capstone_project/recsys-capstone/.venv/lib/python3.12/site-packages/pandas/core/ops/common.py:76\u001b[39m, in \u001b[36m_unpack_zerodim_and_defer.<locals>.new_method\u001b[39m\u001b[34m(self, other)\u001b[39m\n\u001b[32m     72\u001b[39m             \u001b[38;5;28;01mreturn\u001b[39;00m \u001b[38;5;28mNotImplemented\u001b[39m\n\u001b[32m     74\u001b[39m other = item_from_zerodim(other)\n\u001b[32m---> \u001b[39m\u001b[32m76\u001b[39m \u001b[38;5;28;01mreturn\u001b[39;00m \u001b[43mmethod\u001b[49m\u001b[43m(\u001b[49m\u001b[38;5;28;43mself\u001b[39;49m\u001b[43m,\u001b[49m\u001b[43m \u001b[49m\u001b[43mother\u001b[49m\u001b[43m)\u001b[49m\n",
      "\u001b[36mFile \u001b[39m\u001b[32m~/Documents/Professional/Independent_learning/IBM_Machine_learning/Capstone_project/recsys-capstone/.venv/lib/python3.12/site-packages/pandas/core/arraylike.py:40\u001b[39m, in \u001b[36mOpsMixin.__eq__\u001b[39m\u001b[34m(self, other)\u001b[39m\n\u001b[32m     38\u001b[39m \u001b[38;5;129m@unpack_zerodim_and_defer\u001b[39m(\u001b[33m\"\u001b[39m\u001b[33m__eq__\u001b[39m\u001b[33m\"\u001b[39m)\n\u001b[32m     39\u001b[39m \u001b[38;5;28;01mdef\u001b[39;00m\u001b[38;5;250m \u001b[39m\u001b[34m__eq__\u001b[39m(\u001b[38;5;28mself\u001b[39m, other):\n\u001b[32m---> \u001b[39m\u001b[32m40\u001b[39m     \u001b[38;5;28;01mreturn\u001b[39;00m \u001b[38;5;28;43mself\u001b[39;49m\u001b[43m.\u001b[49m\u001b[43m_cmp_method\u001b[49m\u001b[43m(\u001b[49m\u001b[43mother\u001b[49m\u001b[43m,\u001b[49m\u001b[43m \u001b[49m\u001b[43moperator\u001b[49m\u001b[43m.\u001b[49m\u001b[43meq\u001b[49m\u001b[43m)\u001b[49m\n",
      "\u001b[36mFile \u001b[39m\u001b[32m~/Documents/Professional/Independent_learning/IBM_Machine_learning/Capstone_project/recsys-capstone/.venv/lib/python3.12/site-packages/pandas/core/series.py:6130\u001b[39m, in \u001b[36mSeries._cmp_method\u001b[39m\u001b[34m(self, other, op)\u001b[39m\n\u001b[32m   6127\u001b[39m lvalues = \u001b[38;5;28mself\u001b[39m._values\n\u001b[32m   6128\u001b[39m rvalues = extract_array(other, extract_numpy=\u001b[38;5;28;01mTrue\u001b[39;00m, extract_range=\u001b[38;5;28;01mTrue\u001b[39;00m)\n\u001b[32m-> \u001b[39m\u001b[32m6130\u001b[39m res_values = \u001b[43mops\u001b[49m\u001b[43m.\u001b[49m\u001b[43mcomparison_op\u001b[49m\u001b[43m(\u001b[49m\u001b[43mlvalues\u001b[49m\u001b[43m,\u001b[49m\u001b[43m \u001b[49m\u001b[43mrvalues\u001b[49m\u001b[43m,\u001b[49m\u001b[43m \u001b[49m\u001b[43mop\u001b[49m\u001b[43m)\u001b[49m\n\u001b[32m   6132\u001b[39m \u001b[38;5;28;01mreturn\u001b[39;00m \u001b[38;5;28mself\u001b[39m._construct_result(res_values, name=res_name)\n",
      "\u001b[36mFile \u001b[39m\u001b[32m~/Documents/Professional/Independent_learning/IBM_Machine_learning/Capstone_project/recsys-capstone/.venv/lib/python3.12/site-packages/pandas/core/ops/array_ops.py:321\u001b[39m, in \u001b[36mcomparison_op\u001b[39m\u001b[34m(left, right, op)\u001b[39m\n\u001b[32m    316\u001b[39m \u001b[38;5;28;01mif\u001b[39;00m \u001b[38;5;28misinstance\u001b[39m(rvalues, (np.ndarray, ABCExtensionArray)):\n\u001b[32m    317\u001b[39m     \u001b[38;5;66;03m# TODO: make this treatment consistent across ops and classes.\u001b[39;00m\n\u001b[32m    318\u001b[39m     \u001b[38;5;66;03m#  We are not catching all listlikes here (e.g. frozenset, tuple)\u001b[39;00m\n\u001b[32m    319\u001b[39m     \u001b[38;5;66;03m#  The ambiguous case is object-dtype.  See GH#27803\u001b[39;00m\n\u001b[32m    320\u001b[39m     \u001b[38;5;28;01mif\u001b[39;00m \u001b[38;5;28mlen\u001b[39m(lvalues) != \u001b[38;5;28mlen\u001b[39m(rvalues):\n\u001b[32m--> \u001b[39m\u001b[32m321\u001b[39m         \u001b[38;5;28;01mraise\u001b[39;00m \u001b[38;5;167;01mValueError\u001b[39;00m(\n\u001b[32m    322\u001b[39m             \u001b[33m\"\u001b[39m\u001b[33mLengths must match to compare\u001b[39m\u001b[33m\"\u001b[39m, lvalues.shape, rvalues.shape\n\u001b[32m    323\u001b[39m         )\n\u001b[32m    325\u001b[39m \u001b[38;5;28;01mif\u001b[39;00m should_extension_dispatch(lvalues, rvalues) \u001b[38;5;129;01mor\u001b[39;00m (\n\u001b[32m    326\u001b[39m     (\u001b[38;5;28misinstance\u001b[39m(rvalues, (Timedelta, BaseOffset, Timestamp)) \u001b[38;5;129;01mor\u001b[39;00m right \u001b[38;5;129;01mis\u001b[39;00m NaT)\n\u001b[32m    327\u001b[39m     \u001b[38;5;129;01mand\u001b[39;00m lvalues.dtype != \u001b[38;5;28mobject\u001b[39m\n\u001b[32m    328\u001b[39m ):\n\u001b[32m    329\u001b[39m     \u001b[38;5;66;03m# Call the method on lvalues\u001b[39;00m\n\u001b[32m    330\u001b[39m     res_values = op(lvalues, rvalues)\n",
      "\u001b[31mValueError\u001b[39m: ('Lengths must match to compare', (307,), (5,))"
     ]
    }
   ],
   "source": [
    "similar_courses = []\n",
    "course1 = bows_df[bows_df['doc_id'] =='ML0101ENv3']\n",
    "for i in docs:\n",
    "    if i == 'ML0101ENv3':\n",
    "        continue\n",
    "    course2 = bows_df[bows_df['doc_id'] == i] \n",
    "    courses = pivot_two_bows(course1, course2)\n",
    "    similarity = (1 - cosine(courses.iloc[0, 2:], courses.iloc[1, 2:]))\n",
    "    if similarity > 0.5:\n",
    "        print(similarity)\n",
    "        similar_courses.append(i)\n",
    "similar_courses\n"
   ]
  },
  {
   "cell_type": "code",
   "execution_count": 115,
   "metadata": {},
   "outputs": [
    {
     "data": {
      "text/html": [
       "<div>\n",
       "<style scoped>\n",
       "    .dataframe tbody tr th:only-of-type {\n",
       "        vertical-align: middle;\n",
       "    }\n",
       "\n",
       "    .dataframe tbody tr th {\n",
       "        vertical-align: top;\n",
       "    }\n",
       "\n",
       "    .dataframe thead th {\n",
       "        text-align: right;\n",
       "    }\n",
       "</style>\n",
       "<table border=\"1\" class=\"dataframe\">\n",
       "  <thead>\n",
       "    <tr style=\"text-align: right;\">\n",
       "      <th></th>\n",
       "      <th>COURSE_ID</th>\n",
       "      <th>TITLE</th>\n",
       "      <th>DESCRIPTION</th>\n",
       "    </tr>\n",
       "  </thead>\n",
       "  <tbody>\n",
       "    <tr>\n",
       "      <th>157</th>\n",
       "      <td>ML0109EN</td>\n",
       "      <td>machine learning   dimensionality reduction</td>\n",
       "      <td>machine learning   dimensionality reduction</td>\n",
       "    </tr>\n",
       "    <tr>\n",
       "      <th>200</th>\n",
       "      <td>ML0151EN</td>\n",
       "      <td>machine learning with r</td>\n",
       "      <td>this machine learning with r course dives into...</td>\n",
       "    </tr>\n",
       "    <tr>\n",
       "      <th>259</th>\n",
       "      <td>excourse46</td>\n",
       "      <td>machine learning</td>\n",
       "      <td>machine learning is the science of getting com...</td>\n",
       "    </tr>\n",
       "    <tr>\n",
       "      <th>260</th>\n",
       "      <td>excourse47</td>\n",
       "      <td>machine learning for all</td>\n",
       "      <td>machine learning  often called artificial inte...</td>\n",
       "    </tr>\n",
       "    <tr>\n",
       "      <th>273</th>\n",
       "      <td>excourse60</td>\n",
       "      <td>introduction to tensorflow for artificial inte...</td>\n",
       "      <td>if you are a software developer who wants to b...</td>\n",
       "    </tr>\n",
       "  </tbody>\n",
       "</table>\n",
       "</div>"
      ],
      "text/plain": [
       "      COURSE_ID                                              TITLE  \\\n",
       "157    ML0109EN        machine learning   dimensionality reduction   \n",
       "200    ML0151EN                            machine learning with r   \n",
       "259  excourse46                                   machine learning   \n",
       "260  excourse47                           machine learning for all   \n",
       "273  excourse60  introduction to tensorflow for artificial inte...   \n",
       "\n",
       "                                           DESCRIPTION  \n",
       "157        machine learning   dimensionality reduction  \n",
       "200  this machine learning with r course dives into...  \n",
       "259  machine learning is the science of getting com...  \n",
       "260  machine learning  often called artificial inte...  \n",
       "273  if you are a software developer who wants to b...  "
      ]
     },
     "execution_count": 115,
     "metadata": {},
     "output_type": "execute_result"
    }
   ],
   "source": [
    "course_df[course_df['COURSE_ID'].isin(similar_courses)]"
   ]
  },
  {
   "cell_type": "markdown",
   "id": "0ac4a68e-6d23-4d97-95dd-263a0ca84d62",
   "metadata": {},
   "source": [
    "<details>\n",
    "    <summary>Click here for Hints</summary>\n",
    "    \n",
    "You can use `bows_df[bows_df['doc_id'] == 'ML0101ENv3']` to find 'ML0101ENv3' course bow. Then in a similar matter you can find bows for each course_id that's not 'ML0101ENv3'. Then you can join 2 bows by using predefined `pivot_two_bows` function and calculate the similarity as we just did using the cosine method. Print the course ids with similarity>0.5 \n",
    "</details>\n"
   ]
  },
  {
   "cell_type": "markdown",
   "id": "7c0daf8b-f73a-40e4-bf7a-7f76d9309b5b",
   "metadata": {},
   "source": [
    "### Summary\n"
   ]
  },
  {
   "cell_type": "markdown",
   "id": "11eca24e-cc3c-4725-83f9-ead28a822e99",
   "metadata": {},
   "source": [
    "Congratulations, you have finished the course similarity lab. In this lab, you used cosine and course BoW features to calculate the similarities among courses. Such similarity measurement is the core of many content-based recommender systems, which you will learn and practice in the later labs.\n"
   ]
  },
  {
   "cell_type": "markdown",
   "id": "3034cb93-2317-447a-a366-fd2c4749a790",
   "metadata": {},
   "source": [
    "## Authors\n"
   ]
  },
  {
   "cell_type": "markdown",
   "id": "12172935-005b-4f52-857f-112123898f68",
   "metadata": {},
   "source": [
    "[Yan Luo](https://www.linkedin.com/in/yan-luo-96288783/)\n"
   ]
  },
  {
   "cell_type": "markdown",
   "id": "dcac7e28-4bf4-4dc8-b897-a690a870339b",
   "metadata": {},
   "source": [
    "### Other Contributors\n"
   ]
  },
  {
   "cell_type": "markdown",
   "id": "fb8f3d93-185b-4876-9de9-e746b241be53",
   "metadata": {},
   "source": [
    "```toggle## Change Log\n",
    "```\n"
   ]
  },
  {
   "cell_type": "markdown",
   "id": "5ca38918-c1f3-475e-a16c-9d92a21b62a3",
   "metadata": {},
   "source": [
    "```toggle|Date (YYYY-MM-DD)|Version|Changed By|Change Description|\n",
    "```\n",
    "```toggle|-|-|-|-|\n",
    "```\n",
    "```toggle|2021-10-25|1.0|Yan|Created the initial version|\n",
    "```\n"
   ]
  },
  {
   "cell_type": "markdown",
   "id": "cfc366a1-41f2-4a56-a523-adf69789823a",
   "metadata": {},
   "source": [
    "Copyright © 2021 IBM Corporation. All rights reserved.\n"
   ]
  }
 ],
 "metadata": {
  "kernelspec": {
   "display_name": ".venv",
   "language": "python",
   "name": "python3"
  },
  "language_info": {
   "codemirror_mode": {
    "name": "ipython",
    "version": 3
   },
   "file_extension": ".py",
   "mimetype": "text/x-python",
   "name": "python",
   "nbconvert_exporter": "python",
   "pygments_lexer": "ipython3",
   "version": "3.12.7"
  },
  "prev_pub_hash": "fe64f6b0eef7c68ad33bd3860c93e16dead786ea94d3124912229fd158017944"
 },
 "nbformat": 4,
 "nbformat_minor": 4
}
