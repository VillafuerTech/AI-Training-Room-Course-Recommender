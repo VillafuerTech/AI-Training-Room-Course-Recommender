{
    "cells": [
        {
            "cell_type": "markdown",
            "id": "hdr-skillnet",
            "metadata": {},
            "source": [
                "<p style=\"text-align:center\">\\n\n",
                "    <a href=\"https://skills.network/?utm_medium=Exinfluencer&utm_source=Exinfluencer&utm_content=000026UJ&utm_term=10006555&utm_id=NA-SkillsNetwork-Channel-SkillsNetworkCoursesIBMML321ENSkillsNetwork817-2022-01-01\" target=\"_blank\">\\n\n",
                "    <img src=\"https://cf-courses-data.s3.us.cloud-object-storage.appdomain.cloud/assets/logos/SN_web_lightmode.png\" width=\"200\" alt=\"Skills Network Logo\">\\n\n",
                "    </a>\\n\n",
                "</p>\\n"
            ]
        },
        {
            "cell_type": "markdown",
            "id": "title",
            "metadata": {},
            "source": [
                "# **Regression-based Rating Score Prediction using Embedding Features**"
            ]
        },
        {
            "cell_type": "markdown",
            "id": "est",
            "metadata": {},
            "source": [
                "Estimated time needed: **45–60** minutes"
            ]
        },
        {
            "cell_type": "markdown",
            "id": "intro1",
            "metadata": {},
            "source": [
                "From the neural CF lab you exported user/item embeddings. Here we treat the problem as a standard **regression** task: combine the two embedding vectors into a single feature vector **X**, and learn a mapping to the numeric rating **y**."
            ]
        },
        {
            "cell_type": "markdown",
            "id": "obj",
            "metadata": {},
            "source": [
                "## Objectives\n",
                "\n",
                "After completing this lab you will be able to:\n",
                "\n",
                "* Build and evaluate linear models (Linear/Ridge/Lasso/ElasticNet) to predict ratings from combined embeddings\n",
                "* Explore aggregation strategies (sum / product / concatenation)\n",
                "* Save artifacts and metrics into your project structure"
            ]
        },
        {
            "cell_type": "markdown",
            "id": "setup",
            "metadata": {},
            "source": [
                "----\n",
                "## Prepare and setup lab environment"
            ]
        },
        {
            "cell_type": "markdown",
            "id": "pip",
            "metadata": {},
            "source": [
                "Install required packages if needed."
            ]
        },
        {
            "cell_type": "code",
            "execution_count": 1,
            "id": "pip-install",
            "metadata": {},
            "outputs": [
                {
                    "name": "stdout",
                    "output_type": "stream",
                    "text": [
                        "Note: you may need to restart the kernel to use updated packages.\n"
                    ]
                }
            ],
            "source": [
                "%pip install -q scikit-learn pandas matplotlib joblib"
            ]
        },
        {
            "cell_type": "code",
            "execution_count": 2,
            "id": "imports",
            "metadata": {},
            "outputs": [],
            "source": [
                "import os, json\n",
                "from pathlib import Path\n",
                "from datetime import datetime\n",
                "import numpy as np\n",
                "import pandas as pd\n",
                "import matplotlib.pyplot as plt\n",
                "import joblib\n",
                "\n",
                "from sklearn.model_selection import train_test_split, GridSearchCV\n",
                "from sklearn.linear_model import LinearRegression, Ridge, Lasso, ElasticNet\n",
                "from sklearn.preprocessing import StandardScaler\n",
                "from sklearn.pipeline import Pipeline\n",
                "from sklearn.metrics import mean_squared_error\n",
                "\n",
                "# also set a random state\n",
                "rs = 123\n",
                "np.random.seed(rs)"
            ]
        },
        {
            "cell_type": "markdown",
            "id": "paths",
            "metadata": {},
            "source": [
                "### Project paths (respect your repo layout)"
            ]
        },
        {
            "cell_type": "code",
            "execution_count": 3,
            "id": "paths-code",
            "metadata": {},
            "outputs": [
                {
                    "name": "stdout",
                    "output_type": "stream",
                    "text": [
                        "PROJECT_ROOT: /Users/villafuertech/Documents/Professional/Independent_learning/IBM_Machine_learning/Capstone_project/recsys-capstone\n"
                    ]
                }
            ],
            "source": [
                "CWD = Path.cwd().resolve()\n",
                "if CWD.name == 'notebooks' and (CWD.parent / 'data').exists():\n",
                "    PROJECT_ROOT = CWD.parent\n",
                "elif (CWD / 'data').exists():\n",
                "    PROJECT_ROOT = CWD\n",
                "else:\n",
                "    PROJECT_ROOT = CWD  # fallback\n",
                "\n",
                "DATA_DIR = PROJECT_ROOT / 'data'\n",
                "EXTERNAL_DIR = DATA_DIR / 'external'\n",
                "PROCESSED_DIR = DATA_DIR / 'processed'\n",
                "REPORTS_FIG_DIR = PROJECT_ROOT / 'reports' / 'figures'\n",
                "LOGS_DIR = PROJECT_ROOT / 'logs'\n",
                "MODELS_DIR = PROJECT_ROOT / 'models'\n",
                "\n",
                "for d in [EXTERNAL_DIR, PROCESSED_DIR, REPORTS_FIG_DIR, LOGS_DIR, MODELS_DIR]:\n",
                "    d.mkdir(parents=True, exist_ok=True)\n",
                "\n",
                "print('PROJECT_ROOT:', PROJECT_ROOT)"
            ]
        },
        {
            "cell_type": "markdown",
            "id": "load",
            "metadata": {},
            "source": [
                "## Load datasets"
            ]
        },
        {
            "cell_type": "code",
            "execution_count": 4,
            "id": "load-datasets",
            "metadata": {},
            "outputs": [
                {
                    "name": "stdout",
                    "output_type": "stream",
                    "text": [
                        "ratings: (233306, 3) | user_emb: (33901, 17) | item_emb: (126, 17)\n"
                    ]
                },
                {
                    "data": {
                        "text/html": [
                            "<div>\n",
                            "<style scoped>\n",
                            "    .dataframe tbody tr th:only-of-type {\n",
                            "        vertical-align: middle;\n",
                            "    }\n",
                            "\n",
                            "    .dataframe tbody tr th {\n",
                            "        vertical-align: top;\n",
                            "    }\n",
                            "\n",
                            "    .dataframe thead th {\n",
                            "        text-align: right;\n",
                            "    }\n",
                            "</style>\n",
                            "<table border=\"1\" class=\"dataframe\">\n",
                            "  <thead>\n",
                            "    <tr style=\"text-align: right;\">\n",
                            "      <th></th>\n",
                            "      <th>user</th>\n",
                            "      <th>item</th>\n",
                            "      <th>rating</th>\n",
                            "    </tr>\n",
                            "  </thead>\n",
                            "  <tbody>\n",
                            "    <tr>\n",
                            "      <th>0</th>\n",
                            "      <td>1889878</td>\n",
                            "      <td>CC0101EN</td>\n",
                            "      <td>5</td>\n",
                            "    </tr>\n",
                            "    <tr>\n",
                            "      <th>1</th>\n",
                            "      <td>1342067</td>\n",
                            "      <td>CL0101EN</td>\n",
                            "      <td>3</td>\n",
                            "    </tr>\n",
                            "    <tr>\n",
                            "      <th>2</th>\n",
                            "      <td>1990814</td>\n",
                            "      <td>ML0120ENv3</td>\n",
                            "      <td>5</td>\n",
                            "    </tr>\n",
                            "  </tbody>\n",
                            "</table>\n",
                            "</div>"
                        ],
                        "text/plain": [
                            "      user        item  rating\n",
                            "0  1889878    CC0101EN       5\n",
                            "1  1342067    CL0101EN       3\n",
                            "2  1990814  ML0120ENv3       5"
                        ]
                    },
                    "execution_count": 4,
                    "metadata": {},
                    "output_type": "execute_result"
                }
            ],
            "source": [
                "# Prefer local rating CSV if present; otherwise use hosted fallback\n",
                "rating_local = EXTERNAL_DIR / 'course_ratings.csv'\n",
                "rating_url = \"https://cf-courses-data.s3.us.cloud-object-storage.appdomain.cloud/IBMSkillsNetwork-ML0321EN-Coursera/labs/v2/module_3/ratings.csv\"\n",
                "rating_df = pd.read_csv(rating_local) if rating_local.exists() else pd.read_csv(rating_url)\n",
                "\n",
                "# Prefer embeddings exported by the CF-ANN notebook; otherwise hosted fallbacks\n",
                "user_emb_local = PROCESSED_DIR / 'user_embeddings_baseline.csv'\n",
                "item_emb_local = PROCESSED_DIR / 'item_embeddings_baseline.csv'\n",
                "user_emb_url = \"https://cf-courses-data.s3.us.cloud-object-storage.appdomain.cloud/IBM-ML321EN-SkillsNetwork/labs/datasets/user_embeddings.csv\"\n",
                "item_emb_url = \"https://cf-courses-data.s3.us.cloud-object-storage.appdomain.cloud/IBM-ML321EN-SkillsNetwork/labs/datasets/course_embeddings.csv\"\n",
                "\n",
                "user_emb_raw = pd.read_csv(user_emb_local) if user_emb_local.exists() else pd.read_csv(user_emb_url)\n",
                "item_emb_raw = pd.read_csv(item_emb_local) if item_emb_local.exists() else pd.read_csv(item_emb_url)\n",
                "\n",
                "rating_df = rating_df[['user','item','rating']].copy()\n",
                "print('ratings:', rating_df.shape, '| user_emb:', user_emb_raw.shape, '| item_emb:', item_emb_raw.shape)\n",
                "rating_df.head(3)"
            ]
        },
        {
            "cell_type": "markdown",
            "id": "normalize",
            "metadata": {},
            "source": [
                "### Normalize embedding column names\n",
                "\n",
                "We ensure the embedding DataFrames have a consistent format:\n",
                "- user id column named `user`\n",
                "- item id column named `item`\n",
                "- feature columns named `UFeature0..` and `CFeature0..`"
            ]
        },
        {
            "cell_type": "code",
            "execution_count": 5,
            "id": "norm-code",
            "metadata": {},
            "outputs": [
                {
                    "name": "stdout",
                    "output_type": "stream",
                    "text": [
                        "16 user features | 16 item features\n"
                    ]
                },
                {
                    "data": {
                        "text/html": [
                            "<div>\n",
                            "<style scoped>\n",
                            "    .dataframe tbody tr th:only-of-type {\n",
                            "        vertical-align: middle;\n",
                            "    }\n",
                            "\n",
                            "    .dataframe tbody tr th {\n",
                            "        vertical-align: top;\n",
                            "    }\n",
                            "\n",
                            "    .dataframe thead th {\n",
                            "        text-align: right;\n",
                            "    }\n",
                            "</style>\n",
                            "<table border=\"1\" class=\"dataframe\">\n",
                            "  <thead>\n",
                            "    <tr style=\"text-align: right;\">\n",
                            "      <th></th>\n",
                            "      <th>user</th>\n",
                            "      <th>UFeature0</th>\n",
                            "      <th>UFeature1</th>\n",
                            "      <th>UFeature2</th>\n",
                            "      <th>UFeature3</th>\n",
                            "      <th>UFeature4</th>\n",
                            "      <th>UFeature5</th>\n",
                            "      <th>UFeature6</th>\n",
                            "      <th>UFeature7</th>\n",
                            "      <th>UFeature8</th>\n",
                            "      <th>UFeature9</th>\n",
                            "      <th>UFeature10</th>\n",
                            "      <th>UFeature11</th>\n",
                            "      <th>UFeature12</th>\n",
                            "      <th>UFeature13</th>\n",
                            "      <th>UFeature14</th>\n",
                            "      <th>UFeature15</th>\n",
                            "    </tr>\n",
                            "  </thead>\n",
                            "  <tbody>\n",
                            "    <tr>\n",
                            "      <th>0</th>\n",
                            "      <td>1889878</td>\n",
                            "      <td>0.033022</td>\n",
                            "      <td>0.068657</td>\n",
                            "      <td>0.004409</td>\n",
                            "      <td>0.003708</td>\n",
                            "      <td>0.064142</td>\n",
                            "      <td>-0.034011</td>\n",
                            "      <td>-0.027975</td>\n",
                            "      <td>-0.002681</td>\n",
                            "      <td>0.015392</td>\n",
                            "      <td>-0.074402</td>\n",
                            "      <td>0.020501</td>\n",
                            "      <td>0.046947</td>\n",
                            "      <td>0.067408</td>\n",
                            "      <td>-0.027664</td>\n",
                            "      <td>0.025213</td>\n",
                            "      <td>-0.055095</td>\n",
                            "    </tr>\n",
                            "    <tr>\n",
                            "      <th>1</th>\n",
                            "      <td>1342067</td>\n",
                            "      <td>-0.009976</td>\n",
                            "      <td>-0.019721</td>\n",
                            "      <td>-0.006740</td>\n",
                            "      <td>0.005201</td>\n",
                            "      <td>-0.032104</td>\n",
                            "      <td>0.029420</td>\n",
                            "      <td>0.030979</td>\n",
                            "      <td>0.029344</td>\n",
                            "      <td>-0.000229</td>\n",
                            "      <td>-0.021921</td>\n",
                            "      <td>-0.007147</td>\n",
                            "      <td>-0.000556</td>\n",
                            "      <td>-0.000393</td>\n",
                            "      <td>-0.009939</td>\n",
                            "      <td>-0.014357</td>\n",
                            "      <td>0.021424</td>\n",
                            "    </tr>\n",
                            "  </tbody>\n",
                            "</table>\n",
                            "</div>"
                        ],
                        "text/plain": [
                            "      user  UFeature0  UFeature1  UFeature2  UFeature3  UFeature4  UFeature5  \\\n",
                            "0  1889878   0.033022   0.068657   0.004409   0.003708   0.064142  -0.034011   \n",
                            "1  1342067  -0.009976  -0.019721  -0.006740   0.005201  -0.032104   0.029420   \n",
                            "\n",
                            "   UFeature6  UFeature7  UFeature8  UFeature9  UFeature10  UFeature11  \\\n",
                            "0  -0.027975  -0.002681   0.015392  -0.074402    0.020501    0.046947   \n",
                            "1   0.030979   0.029344  -0.000229  -0.021921   -0.007147   -0.000556   \n",
                            "\n",
                            "   UFeature12  UFeature13  UFeature14  UFeature15  \n",
                            "0    0.067408   -0.027664    0.025213   -0.055095  \n",
                            "1   -0.000393   -0.009939   -0.014357    0.021424  "
                        ]
                    },
                    "metadata": {},
                    "output_type": "display_data"
                },
                {
                    "data": {
                        "text/html": [
                            "<div>\n",
                            "<style scoped>\n",
                            "    .dataframe tbody tr th:only-of-type {\n",
                            "        vertical-align: middle;\n",
                            "    }\n",
                            "\n",
                            "    .dataframe tbody tr th {\n",
                            "        vertical-align: top;\n",
                            "    }\n",
                            "\n",
                            "    .dataframe thead th {\n",
                            "        text-align: right;\n",
                            "    }\n",
                            "</style>\n",
                            "<table border=\"1\" class=\"dataframe\">\n",
                            "  <thead>\n",
                            "    <tr style=\"text-align: right;\">\n",
                            "      <th></th>\n",
                            "      <th>item</th>\n",
                            "      <th>CFeature0</th>\n",
                            "      <th>CFeature1</th>\n",
                            "      <th>CFeature2</th>\n",
                            "      <th>CFeature3</th>\n",
                            "      <th>CFeature4</th>\n",
                            "      <th>CFeature5</th>\n",
                            "      <th>CFeature6</th>\n",
                            "      <th>CFeature7</th>\n",
                            "      <th>CFeature8</th>\n",
                            "      <th>CFeature9</th>\n",
                            "      <th>CFeature10</th>\n",
                            "      <th>CFeature11</th>\n",
                            "      <th>CFeature12</th>\n",
                            "      <th>CFeature13</th>\n",
                            "      <th>CFeature14</th>\n",
                            "      <th>CFeature15</th>\n",
                            "    </tr>\n",
                            "  </thead>\n",
                            "  <tbody>\n",
                            "    <tr>\n",
                            "      <th>0</th>\n",
                            "      <td>CC0101EN</td>\n",
                            "      <td>-0.172086</td>\n",
                            "      <td>-0.033214</td>\n",
                            "      <td>0.107699</td>\n",
                            "      <td>0.231775</td>\n",
                            "      <td>0.008553</td>\n",
                            "      <td>-0.325155</td>\n",
                            "      <td>0.177375</td>\n",
                            "      <td>-0.036309</td>\n",
                            "      <td>0.127059</td>\n",
                            "      <td>0.129681</td>\n",
                            "      <td>-0.134265</td>\n",
                            "      <td>0.119908</td>\n",
                            "      <td>0.119611</td>\n",
                            "      <td>0.111782</td>\n",
                            "      <td>-0.280107</td>\n",
                            "      <td>-0.041800</td>\n",
                            "    </tr>\n",
                            "    <tr>\n",
                            "      <th>1</th>\n",
                            "      <td>CL0101EN</td>\n",
                            "      <td>-0.037116</td>\n",
                            "      <td>0.177518</td>\n",
                            "      <td>-0.004479</td>\n",
                            "      <td>0.133399</td>\n",
                            "      <td>0.072230</td>\n",
                            "      <td>0.015994</td>\n",
                            "      <td>-0.054191</td>\n",
                            "      <td>-0.181337</td>\n",
                            "      <td>0.088625</td>\n",
                            "      <td>0.157015</td>\n",
                            "      <td>-0.133860</td>\n",
                            "      <td>0.055236</td>\n",
                            "      <td>-0.148096</td>\n",
                            "      <td>-0.042896</td>\n",
                            "      <td>0.122026</td>\n",
                            "      <td>-0.078289</td>\n",
                            "    </tr>\n",
                            "  </tbody>\n",
                            "</table>\n",
                            "</div>"
                        ],
                        "text/plain": [
                            "       item  CFeature0  CFeature1  CFeature2  CFeature3  CFeature4  CFeature5  \\\n",
                            "0  CC0101EN  -0.172086  -0.033214   0.107699   0.231775   0.008553  -0.325155   \n",
                            "1  CL0101EN  -0.037116   0.177518  -0.004479   0.133399   0.072230   0.015994   \n",
                            "\n",
                            "   CFeature6  CFeature7  CFeature8  CFeature9  CFeature10  CFeature11  \\\n",
                            "0   0.177375  -0.036309   0.127059   0.129681   -0.134265    0.119908   \n",
                            "1  -0.054191  -0.181337   0.088625   0.157015   -0.133860    0.055236   \n",
                            "\n",
                            "   CFeature12  CFeature13  CFeature14  CFeature15  \n",
                            "0    0.119611    0.111782   -0.280107   -0.041800  \n",
                            "1   -0.148096   -0.042896    0.122026   -0.078289  "
                        ]
                    },
                    "metadata": {},
                    "output_type": "display_data"
                }
            ],
            "source": [
                "def normalize_user_emb(df):\n",
                "    df = df.copy()\n",
                "    id_col = 'user' if 'user' in df.columns else ('user_id' if 'user_id' in df.columns else None)\n",
                "    assert id_col is not None, 'User embedding must include user or user_id column'\n",
                "    feat_cols = [c for c in df.columns if c != id_col]\n",
                "    rename_map = {id_col: 'user'}\n",
                "    for i, c in enumerate(feat_cols):\n",
                "        rename_map[c] = f'UFeature{i}'\n",
                "    out = df.rename(columns=rename_map)\n",
                "    return out, [f'UFeature{i}' for i in range(len(feat_cols))]\n",
                "\n",
                "def normalize_item_emb(df):\n",
                "    df = df.copy()\n",
                "    id_col = 'item' if 'item' in df.columns else ('item_id' if 'item_id' in df.columns else None)\n",
                "    assert id_col is not None, 'Item embedding must include item or item_id column'\n",
                "    feat_cols = [c for c in df.columns if c != id_col]\n",
                "    rename_map = {id_col: 'item'}\n",
                "    for i, c in enumerate(feat_cols):\n",
                "        rename_map[c] = f'CFeature{i}'\n",
                "    out = df.rename(columns=rename_map)\n",
                "    return out, [f'CFeature{i}' for i in range(len(feat_cols))]\n",
                "\n",
                "user_emb, u_features = normalize_user_emb(user_emb_raw)\n",
                "item_emb, c_features = normalize_item_emb(item_emb_raw)\n",
                "\n",
                "print(len(u_features), 'user features |', len(c_features), 'item features')\n",
                "display(user_emb.head(2))\n",
                "display(item_emb.head(2))"
            ]
        },
        {
            "cell_type": "markdown",
            "id": "merge",
            "metadata": {},
            "source": [
                "### Merge embeddings into the rating dataframe"
            ]
        },
        {
            "cell_type": "code",
            "execution_count": 6,
            "id": "merge-code",
            "metadata": {},
            "outputs": [
                {
                    "name": "stdout",
                    "output_type": "stream",
                    "text": [
                        "(233306, 35)\n"
                    ]
                },
                {
                    "data": {
                        "text/html": [
                            "<div>\n",
                            "<style scoped>\n",
                            "    .dataframe tbody tr th:only-of-type {\n",
                            "        vertical-align: middle;\n",
                            "    }\n",
                            "\n",
                            "    .dataframe tbody tr th {\n",
                            "        vertical-align: top;\n",
                            "    }\n",
                            "\n",
                            "    .dataframe thead th {\n",
                            "        text-align: right;\n",
                            "    }\n",
                            "</style>\n",
                            "<table border=\"1\" class=\"dataframe\">\n",
                            "  <thead>\n",
                            "    <tr style=\"text-align: right;\">\n",
                            "      <th></th>\n",
                            "      <th>user</th>\n",
                            "      <th>item</th>\n",
                            "      <th>rating</th>\n",
                            "      <th>UFeature0</th>\n",
                            "      <th>UFeature1</th>\n",
                            "      <th>UFeature2</th>\n",
                            "      <th>UFeature3</th>\n",
                            "      <th>UFeature4</th>\n",
                            "      <th>UFeature5</th>\n",
                            "      <th>UFeature6</th>\n",
                            "      <th>...</th>\n",
                            "      <th>CFeature6</th>\n",
                            "      <th>CFeature7</th>\n",
                            "      <th>CFeature8</th>\n",
                            "      <th>CFeature9</th>\n",
                            "      <th>CFeature10</th>\n",
                            "      <th>CFeature11</th>\n",
                            "      <th>CFeature12</th>\n",
                            "      <th>CFeature13</th>\n",
                            "      <th>CFeature14</th>\n",
                            "      <th>CFeature15</th>\n",
                            "    </tr>\n",
                            "  </thead>\n",
                            "  <tbody>\n",
                            "    <tr>\n",
                            "      <th>0</th>\n",
                            "      <td>1889878</td>\n",
                            "      <td>CC0101EN</td>\n",
                            "      <td>5</td>\n",
                            "      <td>0.033022</td>\n",
                            "      <td>0.068657</td>\n",
                            "      <td>0.004409</td>\n",
                            "      <td>0.003708</td>\n",
                            "      <td>0.064142</td>\n",
                            "      <td>-0.034011</td>\n",
                            "      <td>-0.027975</td>\n",
                            "      <td>...</td>\n",
                            "      <td>0.177375</td>\n",
                            "      <td>-0.036309</td>\n",
                            "      <td>0.127059</td>\n",
                            "      <td>0.129681</td>\n",
                            "      <td>-0.134265</td>\n",
                            "      <td>0.119908</td>\n",
                            "      <td>0.119611</td>\n",
                            "      <td>0.111782</td>\n",
                            "      <td>-0.280107</td>\n",
                            "      <td>-0.041800</td>\n",
                            "    </tr>\n",
                            "    <tr>\n",
                            "      <th>1</th>\n",
                            "      <td>1342067</td>\n",
                            "      <td>CL0101EN</td>\n",
                            "      <td>3</td>\n",
                            "      <td>-0.009976</td>\n",
                            "      <td>-0.019721</td>\n",
                            "      <td>-0.006740</td>\n",
                            "      <td>0.005201</td>\n",
                            "      <td>-0.032104</td>\n",
                            "      <td>0.029420</td>\n",
                            "      <td>0.030979</td>\n",
                            "      <td>...</td>\n",
                            "      <td>-0.054191</td>\n",
                            "      <td>-0.181337</td>\n",
                            "      <td>0.088625</td>\n",
                            "      <td>0.157015</td>\n",
                            "      <td>-0.133860</td>\n",
                            "      <td>0.055236</td>\n",
                            "      <td>-0.148096</td>\n",
                            "      <td>-0.042896</td>\n",
                            "      <td>0.122026</td>\n",
                            "      <td>-0.078289</td>\n",
                            "    </tr>\n",
                            "    <tr>\n",
                            "      <th>2</th>\n",
                            "      <td>1990814</td>\n",
                            "      <td>ML0120ENv3</td>\n",
                            "      <td>5</td>\n",
                            "      <td>-0.078293</td>\n",
                            "      <td>0.022187</td>\n",
                            "      <td>0.010924</td>\n",
                            "      <td>0.002994</td>\n",
                            "      <td>0.018679</td>\n",
                            "      <td>-0.044196</td>\n",
                            "      <td>0.033823</td>\n",
                            "      <td>...</td>\n",
                            "      <td>-0.130364</td>\n",
                            "      <td>0.094914</td>\n",
                            "      <td>-0.096233</td>\n",
                            "      <td>0.002598</td>\n",
                            "      <td>-0.029295</td>\n",
                            "      <td>0.035682</td>\n",
                            "      <td>-0.102239</td>\n",
                            "      <td>-0.131291</td>\n",
                            "      <td>0.090083</td>\n",
                            "      <td>-0.058062</td>\n",
                            "    </tr>\n",
                            "  </tbody>\n",
                            "</table>\n",
                            "<p>3 rows × 35 columns</p>\n",
                            "</div>"
                        ],
                        "text/plain": [
                            "      user        item  rating  UFeature0  UFeature1  UFeature2  UFeature3  \\\n",
                            "0  1889878    CC0101EN       5   0.033022   0.068657   0.004409   0.003708   \n",
                            "1  1342067    CL0101EN       3  -0.009976  -0.019721  -0.006740   0.005201   \n",
                            "2  1990814  ML0120ENv3       5  -0.078293   0.022187   0.010924   0.002994   \n",
                            "\n",
                            "   UFeature4  UFeature5  UFeature6  ...  CFeature6  CFeature7  CFeature8  \\\n",
                            "0   0.064142  -0.034011  -0.027975  ...   0.177375  -0.036309   0.127059   \n",
                            "1  -0.032104   0.029420   0.030979  ...  -0.054191  -0.181337   0.088625   \n",
                            "2   0.018679  -0.044196   0.033823  ...  -0.130364   0.094914  -0.096233   \n",
                            "\n",
                            "   CFeature9  CFeature10  CFeature11  CFeature12  CFeature13  CFeature14  \\\n",
                            "0   0.129681   -0.134265    0.119908    0.119611    0.111782   -0.280107   \n",
                            "1   0.157015   -0.133860    0.055236   -0.148096   -0.042896    0.122026   \n",
                            "2   0.002598   -0.029295    0.035682   -0.102239   -0.131291    0.090083   \n",
                            "\n",
                            "   CFeature15  \n",
                            "0   -0.041800  \n",
                            "1   -0.078289  \n",
                            "2   -0.058062  \n",
                            "\n",
                            "[3 rows x 35 columns]"
                        ]
                    },
                    "execution_count": 6,
                    "metadata": {},
                    "output_type": "execute_result"
                }
            ],
            "source": [
                "merged = rating_df.merge(user_emb, on='user', how='left').merge(item_emb, on='item', how='left')\n",
                "merged = merged.fillna(0)\n",
                "print(merged.shape)\n",
                "merged.head(3)"
            ]
        },
        {
            "cell_type": "markdown",
            "id": "aggregate",
            "metadata": {},
            "source": [
                "### Build regression datasets (aggregation strategies)\n",
                "\n",
                "We create three views of the combined features:\n",
                "\n",
                "- **sum**: element-wise add user and item embeddings (size = k)\n",
                "- **prod**: element-wise Hadamard product (size = k)\n",
                "- **concat**: concatenation `[user_emb, item_emb]` (size = 2k)"
            ]
        },
        {
            "cell_type": "code",
            "execution_count": 7,
            "id": "build-Xy",
            "metadata": {},
            "outputs": [
                {
                    "name": "stdout",
                    "output_type": "stream",
                    "text": [
                        "sum → X: (233306, 16) | y: (233306,)\n",
                        "prod → X: (233306, 16) | y: (233306,)\n",
                        "concat → X: (233306, 32) | y: (233306,)\n"
                    ]
                }
            ],
            "source": [
                "U = merged[u_features].values.astype('float32')\n",
                "C = merged[c_features].values.astype('float32')\n",
                "y = merged['rating'].astype('float32').values\n",
                "\n",
                "assert U.shape[1] == C.shape[1], 'User and item embedding dims must match for sum/prod'\n",
                "k = U.shape[1]\n",
                "\n",
                "X_sum = (U + C)\n",
                "X_prod = (U * C)\n",
                "X_concat = np.concatenate([U, C], axis=1)\n",
                "\n",
                "def split(X, y, test_size=0.3, rs=rs):\n",
                "    return train_test_split(X, y, test_size=test_size, random_state=rs)\n",
                "\n",
                "Xy_sets = {}\n",
                "for name, X in [('sum', X_sum), ('prod', X_prod), ('concat', X_concat)]:\n",
                "    X_train, X_test, y_train, y_test = split(X, y)\n",
                "    Xy_sets[name] = (X_train, X_test, y_train, y_test)\n",
                "    print(name, '→ X:', X.shape, '| y:', y.shape)"
            ]
        },
        {
            "cell_type": "markdown",
            "id": "ratings-uniq",
            "metadata": {},
            "source": [
                "Quick look at unique rating values:"
            ]
        },
        {
            "cell_type": "code",
            "execution_count": 8,
            "id": "y-unique",
            "metadata": {},
            "outputs": [
                {
                    "data": {
                        "text/plain": [
                            "[np.float32(3.0), np.float32(4.0), np.float32(5.0)]"
                        ]
                    },
                    "execution_count": 8,
                    "metadata": {},
                    "output_type": "execute_result"
                }
            ],
            "source": [
                "sorted(np.unique(y))"
            ]
        },
        {
            "cell_type": "markdown",
            "id": "models",
            "metadata": {},
            "source": [
                "## Train & evaluate models\n",
                "\n",
                "We will:\n",
                "- Train a **LinearRegression** baseline\n",
                "- Hyperparameter-tune **Ridge**, **Lasso**, **ElasticNet** via GridSearchCV\n",
                "- Evaluate by **RMSE** on the test split\n",
                "- Compare across aggregation strategies\n",
                "- Save artifacts (metrics and best model)"
            ]
        },
        {
            "cell_type": "code",
            "execution_count": 9,
            "id": "train-eval",
            "metadata": {},
            "outputs": [
                {
                    "name": "stderr",
                    "output_type": "stream",
                    "text": [
                        "/Users/villafuertech/.venvs/jlab/lib/python3.12/site-packages/sklearn/linear_model/_coordinate_descent.py:695: ConvergenceWarning: Objective did not converge. You might want to increase the number of iterations, check the scale of the features or consider increasing regularisation. Duality gap: 1.112e+01, tolerance: 7.267e+00\n",
                        "  model = cd_fast.enet_coordinate_descent(\n"
                    ]
                },
                {
                    "data": {
                        "text/html": [
                            "<div>\n",
                            "<style scoped>\n",
                            "    .dataframe tbody tr th:only-of-type {\n",
                            "        vertical-align: middle;\n",
                            "    }\n",
                            "\n",
                            "    .dataframe tbody tr th {\n",
                            "        vertical-align: top;\n",
                            "    }\n",
                            "\n",
                            "    .dataframe thead th {\n",
                            "        text-align: right;\n",
                            "    }\n",
                            "</style>\n",
                            "<table border=\"1\" class=\"dataframe\">\n",
                            "  <thead>\n",
                            "    <tr style=\"text-align: right;\">\n",
                            "      <th></th>\n",
                            "      <th>agg</th>\n",
                            "      <th>model</th>\n",
                            "      <th>rmse</th>\n",
                            "      <th>best_params</th>\n",
                            "    </tr>\n",
                            "  </thead>\n",
                            "  <tbody>\n",
                            "    <tr>\n",
                            "      <th>0</th>\n",
                            "      <td>concat</td>\n",
                            "      <td>LinearRegression</td>\n",
                            "      <td>0.800425</td>\n",
                            "      <td>{}</td>\n",
                            "    </tr>\n",
                            "    <tr>\n",
                            "      <th>1</th>\n",
                            "      <td>concat</td>\n",
                            "      <td>Ridge</td>\n",
                            "      <td>0.800426</td>\n",
                            "      <td>{'model__alpha': 30.0}</td>\n",
                            "    </tr>\n",
                            "    <tr>\n",
                            "      <th>2</th>\n",
                            "      <td>concat</td>\n",
                            "      <td>Lasso</td>\n",
                            "      <td>0.800517</td>\n",
                            "      <td>{'model__alpha': 0.0005}</td>\n",
                            "    </tr>\n",
                            "    <tr>\n",
                            "      <th>3</th>\n",
                            "      <td>concat</td>\n",
                            "      <td>ElasticNet</td>\n",
                            "      <td>0.800694</td>\n",
                            "      <td>{'model__alpha': 0.01, 'model__l1_ratio': 0.1}</td>\n",
                            "    </tr>\n",
                            "    <tr>\n",
                            "      <th>4</th>\n",
                            "      <td>concat</td>\n",
                            "      <td>BaselineMean</td>\n",
                            "      <td>0.813818</td>\n",
                            "      <td>{}</td>\n",
                            "    </tr>\n",
                            "    <tr>\n",
                            "      <th>5</th>\n",
                            "      <td>prod</td>\n",
                            "      <td>Ridge</td>\n",
                            "      <td>0.556259</td>\n",
                            "      <td>{'model__alpha': 0.01}</td>\n",
                            "    </tr>\n",
                            "    <tr>\n",
                            "      <th>6</th>\n",
                            "      <td>prod</td>\n",
                            "      <td>LinearRegression</td>\n",
                            "      <td>0.556263</td>\n",
                            "      <td>{}</td>\n",
                            "    </tr>\n",
                            "    <tr>\n",
                            "      <th>7</th>\n",
                            "      <td>prod</td>\n",
                            "      <td>ElasticNet</td>\n",
                            "      <td>0.556270</td>\n",
                            "      <td>{'model__alpha': 0.0001, 'model__l1_ratio': 0.1}</td>\n",
                            "    </tr>\n",
                            "    <tr>\n",
                            "      <th>8</th>\n",
                            "      <td>prod</td>\n",
                            "      <td>Lasso</td>\n",
                            "      <td>0.556306</td>\n",
                            "      <td>{'model__alpha': 0.0001}</td>\n",
                            "    </tr>\n",
                            "    <tr>\n",
                            "      <th>9</th>\n",
                            "      <td>prod</td>\n",
                            "      <td>BaselineMean</td>\n",
                            "      <td>0.813818</td>\n",
                            "      <td>{}</td>\n",
                            "    </tr>\n",
                            "    <tr>\n",
                            "      <th>10</th>\n",
                            "      <td>sum</td>\n",
                            "      <td>LinearRegression</td>\n",
                            "      <td>0.812057</td>\n",
                            "      <td>{}</td>\n",
                            "    </tr>\n",
                            "    <tr>\n",
                            "      <th>11</th>\n",
                            "      <td>sum</td>\n",
                            "      <td>Ridge</td>\n",
                            "      <td>0.812057</td>\n",
                            "      <td>{'model__alpha': 30.0}</td>\n",
                            "    </tr>\n",
                            "    <tr>\n",
                            "      <th>12</th>\n",
                            "      <td>sum</td>\n",
                            "      <td>ElasticNet</td>\n",
                            "      <td>0.812099</td>\n",
                            "      <td>{'model__alpha': 0.001, 'model__l1_ratio': 0.3}</td>\n",
                            "    </tr>\n",
                            "    <tr>\n",
                            "      <th>13</th>\n",
                            "      <td>sum</td>\n",
                            "      <td>Lasso</td>\n",
                            "      <td>0.812128</td>\n",
                            "      <td>{'model__alpha': 0.0005}</td>\n",
                            "    </tr>\n",
                            "    <tr>\n",
                            "      <th>14</th>\n",
                            "      <td>sum</td>\n",
                            "      <td>BaselineMean</td>\n",
                            "      <td>0.813818</td>\n",
                            "      <td>{}</td>\n",
                            "    </tr>\n",
                            "  </tbody>\n",
                            "</table>\n",
                            "</div>"
                        ],
                        "text/plain": [
                            "       agg             model      rmse  \\\n",
                            "0   concat  LinearRegression  0.800425   \n",
                            "1   concat             Ridge  0.800426   \n",
                            "2   concat             Lasso  0.800517   \n",
                            "3   concat        ElasticNet  0.800694   \n",
                            "4   concat      BaselineMean  0.813818   \n",
                            "5     prod             Ridge  0.556259   \n",
                            "6     prod  LinearRegression  0.556263   \n",
                            "7     prod        ElasticNet  0.556270   \n",
                            "8     prod             Lasso  0.556306   \n",
                            "9     prod      BaselineMean  0.813818   \n",
                            "10     sum  LinearRegression  0.812057   \n",
                            "11     sum             Ridge  0.812057   \n",
                            "12     sum        ElasticNet  0.812099   \n",
                            "13     sum             Lasso  0.812128   \n",
                            "14     sum      BaselineMean  0.813818   \n",
                            "\n",
                            "                                         best_params  \n",
                            "0                                                 {}  \n",
                            "1                             {'model__alpha': 30.0}  \n",
                            "2                           {'model__alpha': 0.0005}  \n",
                            "3     {'model__alpha': 0.01, 'model__l1_ratio': 0.1}  \n",
                            "4                                                 {}  \n",
                            "5                             {'model__alpha': 0.01}  \n",
                            "6                                                 {}  \n",
                            "7   {'model__alpha': 0.0001, 'model__l1_ratio': 0.1}  \n",
                            "8                           {'model__alpha': 0.0001}  \n",
                            "9                                                 {}  \n",
                            "10                                                {}  \n",
                            "11                            {'model__alpha': 30.0}  \n",
                            "12   {'model__alpha': 0.001, 'model__l1_ratio': 0.3}  \n",
                            "13                          {'model__alpha': 0.0005}  \n",
                            "14                                                {}  "
                        ]
                    },
                    "execution_count": 9,
                    "metadata": {},
                    "output_type": "execute_result"
                }
            ],
            "source": [
                "def rmse(y_true, y_pred):\n",
                "    return float(np.sqrt(mean_squared_error(y_true, y_pred)))\n",
                "\n",
                "results = []\n",
                "best_estimators = {}  # (agg, model) -> fitted estimator/pipeline\n",
                "\n",
                "for agg_name, (X_train, X_test, y_train, y_test) in Xy_sets.items():\n",
                "    # Baseline (global mean on train)\n",
                "    baseline_pred = np.full_like(y_test, fill_value=y_train.mean(), dtype='float32')\n",
                "    r_base = rmse(y_test, baseline_pred)\n",
                "    results.append({'agg': agg_name, 'model': 'BaselineMean', 'rmse': r_base, 'best_params': {}})\n",
                "\n",
                "    # 1) Linear Regression (no regularization) with StandardScaler\n",
                "    lin = Pipeline([\n",
                "        ('scaler', StandardScaler(with_mean=True, with_std=True)),\n",
                "        ('model', LinearRegression())\n",
                "    ])\n",
                "    lin.fit(X_train, y_train)\n",
                "    yhat = lin.predict(X_test)\n",
                "    r_lin = rmse(y_test, yhat)\n",
                "    results.append({'agg': agg_name, 'model': 'LinearRegression', 'rmse': r_lin, 'best_params': {}})\n",
                "    best_estimators[(agg_name, 'LinearRegression')] = lin\n",
                "\n",
                "    # 2) Ridge\n",
                "    ridge = Pipeline([\n",
                "        ('scaler', StandardScaler()),\n",
                "        ('model', Ridge())\n",
                "    ])\n",
                "    ridge_grid = {'model__alpha': [0.01, 0.1, 1.0, 3.0, 10.0, 30.0]}\n",
                "    ridge_cv = GridSearchCV(ridge, ridge_grid, scoring='neg_mean_squared_error', cv=3, n_jobs=-1)\n",
                "    ridge_cv.fit(X_train, y_train)\n",
                "    yhat = ridge_cv.predict(X_test)\n",
                "    r_ridge = rmse(y_test, yhat)\n",
                "    results.append({'agg': agg_name, 'model': 'Ridge', 'rmse': r_ridge, 'best_params': ridge_cv.best_params_})\n",
                "    best_estimators[(agg_name, 'Ridge')] = ridge_cv.best_estimator_\n",
                "\n",
                "    # 3) Lasso\n",
                "    lasso = Pipeline([\n",
                "        ('scaler', StandardScaler()),\n",
                "        ('model', Lasso(max_iter=5000))\n",
                "    ])\n",
                "    lasso_grid = {'model__alpha': [1e-4, 5e-4, 1e-3, 1e-2, 1e-1, 1.0]}\n",
                "    lasso_cv = GridSearchCV(lasso, lasso_grid, scoring='neg_mean_squared_error', cv=3, n_jobs=-1)\n",
                "    lasso_cv.fit(X_train, y_train)\n",
                "    yhat = lasso_cv.predict(X_test)\n",
                "    r_lasso = rmse(y_test, yhat)\n",
                "    results.append({'agg': agg_name, 'model': 'Lasso', 'rmse': r_lasso, 'best_params': lasso_cv.best_params_})\n",
                "    best_estimators[(agg_name, 'Lasso')] = lasso_cv.best_estimator_\n",
                "\n",
                "    # 4) ElasticNet\n",
                "    enet = Pipeline([\n",
                "        ('scaler', StandardScaler()),\n",
                "        ('model', ElasticNet(max_iter=5000))\n",
                "    ])\n",
                "    enet_grid = {\n",
                "        'model__alpha': [1e-4, 5e-4, 1e-3, 1e-2, 1e-1, 1.0],\n",
                "        'model__l1_ratio': [0.1, 0.3, 0.5, 0.7, 0.9]\n",
                "    }\n",
                "    enet_cv = GridSearchCV(enet, enet_grid, scoring='neg_mean_squared_error', cv=3, n_jobs=-1)\n",
                "    enet_cv.fit(X_train, y_train)\n",
                "    yhat = enet_cv.predict(X_test)\n",
                "    r_enet = rmse(y_test, yhat)\n",
                "    results.append({'agg': agg_name, 'model': 'ElasticNet', 'rmse': r_enet, 'best_params': enet_cv.best_params_})\n",
                "    best_estimators[(agg_name, 'ElasticNet')] = enet_cv.best_estimator_\n",
                "\n",
                "results_df = pd.DataFrame(results).sort_values(['agg','rmse']).reset_index(drop=True)\n",
                "results_df"
            ]
        },
        {
            "cell_type": "markdown",
            "id": "save-metrics",
            "metadata": {},
            "source": [
                "### Save metrics table"
            ]
        },
        {
            "cell_type": "code",
            "execution_count": 10,
            "id": "save-metrics-code",
            "metadata": {},
            "outputs": [
                {
                    "name": "stdout",
                    "output_type": "stream",
                    "text": [
                        "Saved: /Users/villafuertech/Documents/Professional/Independent_learning/IBM_Machine_learning/Capstone_project/recsys-capstone/data/processed/regression_results.csv\n"
                    ]
                }
            ],
            "source": [
                "metrics_csv = PROCESSED_DIR / 'regression_results.csv'\n",
                "results_df.to_csv(metrics_csv, index=False)\n",
                "print('Saved:', metrics_csv)"
            ]
        },
        {
            "cell_type": "markdown",
            "id": "plot",
            "metadata": {},
            "source": [
                "### Plot RMSE by model and aggregation"
            ]
        },
        {
            "cell_type": "code",
            "execution_count": 11,
            "id": "plot-code",
            "metadata": {},
            "outputs": [
                {
                    "name": "stdout",
                    "output_type": "stream",
                    "text": [
                        "Saved plot to: /Users/villafuertech/Documents/Professional/Independent_learning/IBM_Machine_learning/Capstone_project/recsys-capstone/reports/figures/regression_rmse_by_model.png\n"
                    ]
                },
                {
                    "data": {
                        "image/png": "[encoded data removed]",
                        "text/plain": [
                            "<Figure size 900x500 with 1 Axes>"
                        ]
                    },
                    "metadata": {},
                    "output_type": "display_data"
                }
            ],
            "source": [
                "plt.figure(figsize=(9,5))\n",
                "order = ['BaselineMean','LinearRegression','Ridge','Lasso','ElasticNet']\n",
                "plot_df = results_df.copy()\n",
                "plot_df['model'] = pd.Categorical(plot_df['model'], categories=order, ordered=True)\n",
                "for i, agg in enumerate(sorted(plot_df['agg'].unique())):\n",
                "    sub = plot_df[plot_df['agg']==agg].sort_values('model')\n",
                "    plt.plot(sub['model'], sub['rmse'], marker='o', label=f'agg={agg}')\n",
                "plt.ylabel('RMSE')\n",
                "plt.xlabel('Model')\n",
                "plt.title('RMSE by model and aggregation strategy')\n",
                "plt.legend()\n",
                "fig_path = REPORTS_FIG_DIR / 'regression_rmse_by_model.png'\n",
                "plt.tight_layout()\n",
                "plt.savefig(fig_path, dpi=150)\n",
                "print('Saved plot to:', fig_path)\n",
                "plt.show()"
            ]
        },
        {
            "cell_type": "markdown",
            "id": "best",
            "metadata": {},
            "source": [
                "### Pick and save the best model"
            ]
        },
        {
            "cell_type": "code",
            "execution_count": 12,
            "id": "best-code",
            "metadata": {},
            "outputs": [
                {
                    "data": {
                        "text/plain": [
                            "{'agg': 'prod',\n",
                            " 'model': 'Ridge',\n",
                            " 'rmse': 0.5562593727179408,\n",
                            " 'best_params': {'model__alpha': 0.01}}"
                        ]
                    },
                    "execution_count": 12,
                    "metadata": {},
                    "output_type": "execute_result"
                }
            ],
            "source": [
                "best_row = results_df.loc[results_df['rmse'].idxmin()].to_dict()\n",
                "best_row"
            ]
        },
        {
            "cell_type": "code",
            "execution_count": 13,
            "id": "save-best-model",
            "metadata": {},
            "outputs": [
                {
                    "name": "stdout",
                    "output_type": "stream",
                    "text": [
                        "Saved best model/meta to: /Users/villafuertech/Documents/Professional/Independent_learning/IBM_Machine_learning/Capstone_project/recsys-capstone/models/best_model_prod_Ridge.joblib | /Users/villafuertech/Documents/Professional/Independent_learning/IBM_Machine_learning/Capstone_project/recsys-capstone/logs/regression_experiment_meta.json\n"
                    ]
                },
                {
                    "name": "stderr",
                    "output_type": "stream",
                    "text": [
                        "/var/folders/q0/bm9058_95z16l6j28pkf1z580000gn/T/ipykernel_72978/2431981481.py:17: DeprecationWarning: datetime.datetime.utcnow() is deprecated and scheduled for removal in a future version. Use timezone-aware objects to represent datetimes in UTC: datetime.datetime.now(datetime.UTC).\n",
                        "  'timestamp': datetime.utcnow().isoformat() + 'Z',\n"
                    ]
                }
            ],
            "source": [
                "best_agg = best_row['agg']\n",
                "best_model_name = best_row['model']\n",
                "if best_model_name == 'BaselineMean':\n",
                "    # for completeness, we keep a simple dict with the mean\n",
                "    # but usually you'd prefer a learned model\n",
                "    X_train, X_test, y_train, y_test = Xy_sets[best_agg]\n",
                "    artifact = {'type': 'baseline_mean', 'mean': float(y_train.mean()), 'agg': best_agg}\n",
                "    model_path = MODELS_DIR / f'best_model_{best_agg}_baseline_mean.json'\n",
                "    with open(model_path, 'w') as f:\n",
                "        json.dump(artifact, f, indent=2)\n",
                "else:\n",
                "    best_est = best_estimators[(best_agg, best_model_name)]\n",
                "    model_path = MODELS_DIR / f'best_model_{best_agg}_{best_model_name}.joblib'\n",
                "    joblib.dump(best_est, model_path)\n",
                "\n",
                "meta = {\n",
                "    'timestamp': datetime.utcnow().isoformat() + 'Z',\n",
                "    'best': best_row,\n",
                "    'model_path': str(model_path)\n",
                "}\n",
                "meta_path = LOGS_DIR / 'regression_experiment_meta.json'\n",
                "with open(meta_path, 'w') as f:\n",
                "    json.dump(meta, f, indent=2)\n",
                "print('Saved best model/meta to:', model_path, '|', meta_path)"
            ]
        },
        {
            "cell_type": "markdown",
            "id": "optional",
            "metadata": {},
            "source": [
                "## Optional: Inspect coefficients / feature importance (linear models)"
            ]
        },
        {
            "cell_type": "code",
            "execution_count": 14,
            "id": "coef-inspect",
            "metadata": {},
            "outputs": [
                {
                    "name": "stdout",
                    "output_type": "stream",
                    "text": [
                        "Top positive weights:\n"
                    ]
                },
                {
                    "data": {
                        "text/plain": [
                            "ProdFeature2     0.104865\n",
                            "ProdFeature8     0.095988\n",
                            "ProdFeature7     0.093744\n",
                            "ProdFeature3     0.091327\n",
                            "ProdFeature14    0.086454\n",
                            "ProdFeature0     0.083782\n",
                            "ProdFeature12    0.083444\n",
                            "ProdFeature5     0.083186\n",
                            "ProdFeature1     0.079255\n",
                            "ProdFeature13    0.078948\n",
                            "dtype: float32"
                        ]
                    },
                    "metadata": {},
                    "output_type": "display_data"
                },
                {
                    "name": "stdout",
                    "output_type": "stream",
                    "text": [
                        "Top negative weights:\n"
                    ]
                },
                {
                    "data": {
                        "text/plain": [
                            "ProdFeature9     0.056637\n",
                            "ProdFeature11    0.056989\n",
                            "ProdFeature4     0.061215\n",
                            "ProdFeature15    0.067262\n",
                            "ProdFeature6     0.071686\n",
                            "ProdFeature10    0.075742\n",
                            "ProdFeature13    0.078948\n",
                            "ProdFeature1     0.079255\n",
                            "ProdFeature5     0.083186\n",
                            "ProdFeature12    0.083444\n",
                            "dtype: float32"
                        ]
                    },
                    "metadata": {},
                    "output_type": "display_data"
                },
                {
                    "name": "stdout",
                    "output_type": "stream",
                    "text": [
                        "Saved: /Users/villafuertech/Documents/Professional/Independent_learning/IBM_Machine_learning/Capstone_project/recsys-capstone/data/processed/coefficients_prod_Ridge.csv\n"
                    ]
                }
            ],
            "source": [
                "if best_model_name in ['LinearRegression','Ridge','Lasso','ElasticNet']:\n",
                "    # unwrap pipeline: scaler + model\n",
                "    best_est = best_estimators[(best_agg, best_model_name)]\n",
                "    model = best_est.named_steps['model']\n",
                "    # Build feature names for the chosen aggregation\n",
                "    if best_agg == 'concat':\n",
                "        feat_names = [f'UFeature{i}' for i in range(k)] + [f'CFeature{i}' for i in range(k)]\n",
                "    elif best_agg == 'sum':\n",
                "        feat_names = [f'SumFeature{i}' for i in range(k)]\n",
                "    else:\n",
                "        feat_names = [f'ProdFeature{i}' for i in range(k)]\n",
                "    coefs = pd.Series(model.coef_.ravel() if hasattr(model, 'coef_') else [], index=feat_names[:len(model.coef_.ravel())])\n",
                "    coef_csv = PROCESSED_DIR / f'coefficients_{best_agg}_{best_model_name}.csv'\n",
                "    coefs.to_csv(coef_csv)\n",
                "    print('Top positive weights:')\n",
                "    display(coefs.sort_values(ascending=False).head(10))\n",
                "    print('Top negative weights:')\n",
                "    display(coefs.sort_values(ascending=True).head(10))\n",
                "    print('Saved:', coef_csv)"
            ]
        },
        {
            "cell_type": "markdown",
            "id": "summary",
            "metadata": {},
            "source": [
                "## Summary\n",
                "\n",
                "In this lab you:\n",
                "\n",
                "- Merged **user** and **item** embeddings into rating rows\n",
                "- Built three **feature aggregation** strategies (sum, product, concat)\n",
                "- Trained **Linear/Ridge/Lasso/ElasticNet** models with proper scaling\n",
                "- Tuned hyperparameters via **GridSearchCV**\n",
                "- Evaluated with **RMSE**, compared to a **BaselineMean**\n",
                "- Saved results to:\n",
                "  - Metrics: `data/processed/regression_results.csv`\n",
                "  - Plot: `reports/figures/regression_rmse_by_model.png`\n",
                "  - Best model + metadata: `models/`, `logs/`\n",
                "\n",
                "You can now load the saved model and score new `(user,item)` pairs by recreating the same aggregation (sum/prod/concat) of the corresponding embeddings and calling `predict()`."
            ]
        },
        {
            "cell_type": "markdown",
            "id": "authors",
            "metadata": {},
            "source": [
                "## Authors\n",
                "\n",
                "[Yan Luo](https://www.linkedin.com/in/yan-luo-96288783/)"
            ]
        },
        {
            "cell_type": "markdown",
            "id": "changelog",
            "metadata": {},
            "source": [
                "### Change Log\n",
                "\n",
                "|Date (YYYY-MM-DD)|Version|Changed By|Change Description|\n",
                "|-|-|-|-|\n",
                "|2021-10-25|1.0|Yan|Created the initial version|\n",
                "|2025-10-05|1.1|You|Completed optional parts (multi-aggregation, GridSearchCV, plots, artifacts)|"
            ]
        },
        {
            "cell_type": "markdown",
            "id": "copyright",
            "metadata": {},
            "source": [
                "Copyright © 2021–2025 IBM Corporation. All rights reserved."
            ]
        }
    ],
    "metadata": {
        "kernelspec": {
            "display_name": "Python (global-jlab)",
            "language": "python",
            "name": "global-jlab"
        },
        "language_info": {
            "codemirror_mode": {
                "name": "ipython",
                "version": 3
            },
            "file_extension": ".py",
            "mimetype": "text/x-python",
            "name": "python",
            "nbconvert_exporter": "python",
            "pygments_lexer": "ipython3",
            "version": "3.12.11"
        }
    },
    "nbformat": 4,
    "nbformat_minor": 4
}
