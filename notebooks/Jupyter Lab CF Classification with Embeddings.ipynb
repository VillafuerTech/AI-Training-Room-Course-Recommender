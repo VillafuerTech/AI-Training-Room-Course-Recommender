{
    "cells": [
        {
            "cell_type": "markdown",
            "id": "hdr-skillnet",
            "metadata": {},
            "source": [
                "<p style=\"text-align:center\">\\n\n",
                "    <a href=\"https://skills.network/?utm_medium=Exinfluencer&utm_source=Exinfluencer&utm_content=000026UJ&utm_term=10006555&utm_id=NA-SkillsNetwork-Channel-SkillsNetworkCoursesIBMML321ENSkillsNetwork817-2022-01-01\" target=\"_blank\">\\n\n",
                "    <img src=\"https://cf-courses-data.s3.us.cloud-object-storage.appdomain.cloud/assets/logos/SN_web_lightmode.png\" width=\"200\" alt=\"Skills Network Logo\">\\n\n",
                "    </a>\\n\n",
                "</p>\\n"
            ]
        },
        {
            "cell_type": "markdown",
            "id": "title",
            "metadata": {},
            "source": [
                "# **Classification-based Rating Mode Prediction using Embedding Features**"
            ]
        },
        {
            "cell_type": "markdown",
            "id": "est",
            "metadata": {},
            "source": [
                "Estimated time needed: **60** minutes"
            ]
        },
        {
            "cell_type": "markdown",
            "id": "intro",
            "metadata": {},
            "source": [
                "We turn rating prediction into a **classification** task by combining user and item embeddings into a single feature vector **X** and predicting categorical rating labels **y**."
            ]
        },
        {
            "cell_type": "markdown",
            "id": "obj",
            "metadata": {},
            "source": [
                "## Objectives\n",
                "\n",
                "After completing this lab you will be able to:\n",
                "\n",
                "* Build classification models to predict rating modes from combined embeddings\n",
                "* Compare aggregation strategies (sum / product / concatenation)\n",
                "* Tune models with GridSearchCV and log artifacts/plots to your repo structure"
            ]
        },
        {
            "cell_type": "markdown",
            "id": "setup",
            "metadata": {},
            "source": [
                "----\n",
                "## Prepare and setup lab environment"
            ]
        },
        {
            "cell_type": "code",
            "execution_count": 1,
            "id": "pip-install",
            "metadata": {},
            "outputs": [
                {
                    "name": "stdout",
                    "output_type": "stream",
                    "text": [
                        "Note: you may need to restart the kernel to use updated packages.\n"
                    ]
                }
            ],
            "source": [
                "%pip install -q scikit-learn pandas matplotlib joblib"
            ]
        },
        {
            "cell_type": "code",
            "execution_count": 2,
            "id": "imports",
            "metadata": {},
            "outputs": [],
            "source": [
                "import os, json\n",
                "from pathlib import Path\n",
                "from datetime import datetime\n",
                "import numpy as np\n",
                "import pandas as pd\n",
                "import matplotlib.pyplot as plt\n",
                "import joblib\n",
                "\n",
                "from sklearn.model_selection import train_test_split, GridSearchCV, StratifiedKFold\n",
                "from sklearn.preprocessing import LabelEncoder, StandardScaler\n",
                "from sklearn.pipeline import Pipeline\n",
                "from sklearn.metrics import (\n",
                "    accuracy_score, precision_recall_fscore_support, classification_report,\n",
                "    ConfusionMatrixDisplay\n",
                ")\n",
                "from sklearn.linear_model import LogisticRegression\n",
                "from sklearn.svm import SVC\n",
                "from sklearn.ensemble import RandomForestClassifier, GradientBoostingClassifier\n",
                "\n",
                "# random seed\n",
                "rs = 123\n",
                "np.random.seed(rs)"
            ]
        },
        {
            "cell_type": "markdown",
            "id": "paths",
            "metadata": {},
            "source": [
                "### Project paths (repo-aware)"
            ]
        },
        {
            "cell_type": "code",
            "execution_count": 3,
            "id": "paths-code",
            "metadata": {},
            "outputs": [
                {
                    "name": "stdout",
                    "output_type": "stream",
                    "text": [
                        "PROJECT_ROOT: /Users/villafuertech/Documents/Professional/Independent_learning/IBM_Machine_learning/Capstone_project/recsys-capstone\n"
                    ]
                }
            ],
            "source": [
                "CWD = Path.cwd().resolve()\n",
                "if CWD.name == 'notebooks' and (CWD.parent / 'data').exists():\n",
                "    PROJECT_ROOT = CWD.parent\n",
                "elif (CWD / 'data').exists():\n",
                "    PROJECT_ROOT = CWD\n",
                "else:\n",
                "    PROJECT_ROOT = CWD\n",
                "\n",
                "DATA_DIR = PROJECT_ROOT / 'data'\n",
                "EXTERNAL_DIR = DATA_DIR / 'external'\n",
                "PROCESSED_DIR = DATA_DIR / 'processed'\n",
                "REPORTS_FIG_DIR = PROJECT_ROOT / 'reports' / 'figures'\n",
                "LOGS_DIR = PROJECT_ROOT / 'logs'\n",
                "MODELS_DIR = PROJECT_ROOT / 'models'\n",
                "\n",
                "for d in [EXTERNAL_DIR, PROCESSED_DIR, REPORTS_FIG_DIR, LOGS_DIR, MODELS_DIR]:\n",
                "    d.mkdir(parents=True, exist_ok=True)\n",
                "\n",
                "print('PROJECT_ROOT:', PROJECT_ROOT)"
            ]
        },
        {
            "cell_type": "markdown",
            "id": "load",
            "metadata": {},
            "source": [
                "## Load datasets (local first, remote fallback)"
            ]
        },
        {
            "cell_type": "code",
            "execution_count": 4,
            "id": "load-datasets",
            "metadata": {},
            "outputs": [
                {
                    "name": "stdout",
                    "output_type": "stream",
                    "text": [
                        "ratings: (233306, 3) | user_emb: (33901, 17) | item_emb: (126, 17)\n"
                    ]
                },
                {
                    "data": {
                        "text/html": [
                            "<div>\n",
                            "<style scoped>\n",
                            "    .dataframe tbody tr th:only-of-type {\n",
                            "        vertical-align: middle;\n",
                            "    }\n",
                            "\n",
                            "    .dataframe tbody tr th {\n",
                            "        vertical-align: top;\n",
                            "    }\n",
                            "\n",
                            "    .dataframe thead th {\n",
                            "        text-align: right;\n",
                            "    }\n",
                            "</style>\n",
                            "<table border=\"1\" class=\"dataframe\">\n",
                            "  <thead>\n",
                            "    <tr style=\"text-align: right;\">\n",
                            "      <th></th>\n",
                            "      <th>user</th>\n",
                            "      <th>item</th>\n",
                            "      <th>rating</th>\n",
                            "    </tr>\n",
                            "  </thead>\n",
                            "  <tbody>\n",
                            "    <tr>\n",
                            "      <th>0</th>\n",
                            "      <td>1889878</td>\n",
                            "      <td>CC0101EN</td>\n",
                            "      <td>5</td>\n",
                            "    </tr>\n",
                            "    <tr>\n",
                            "      <th>1</th>\n",
                            "      <td>1342067</td>\n",
                            "      <td>CL0101EN</td>\n",
                            "      <td>3</td>\n",
                            "    </tr>\n",
                            "    <tr>\n",
                            "      <th>2</th>\n",
                            "      <td>1990814</td>\n",
                            "      <td>ML0120ENv3</td>\n",
                            "      <td>5</td>\n",
                            "    </tr>\n",
                            "  </tbody>\n",
                            "</table>\n",
                            "</div>"
                        ],
                        "text/plain": [
                            "      user        item  rating\n",
                            "0  1889878    CC0101EN       5\n",
                            "1  1342067    CL0101EN       3\n",
                            "2  1990814  ML0120ENv3       5"
                        ]
                    },
                    "execution_count": 4,
                    "metadata": {},
                    "output_type": "execute_result"
                }
            ],
            "source": [
                "# ratings\n",
                "rating_local = EXTERNAL_DIR / 'course_ratings.csv'\n",
                "rating_url = \"https://cf-courses-data.s3.us.cloud-object-storage.appdomain.cloud/IBMSkillsNetwork-ML0321EN-Coursera/labs/v2/module_3/ratings.csv\"\n",
                "rating_df = pd.read_csv(rating_local) if rating_local.exists() else pd.read_csv(rating_url)\n",
                "rating_df = rating_df[['user','item','rating']].copy()\n",
                "\n",
                "# embeddings (prefer ones exported by your CF neural net; else hosted)\n",
                "user_emb_local = PROCESSED_DIR / 'user_embeddings_baseline.csv'\n",
                "item_emb_local = PROCESSED_DIR / 'item_embeddings_baseline.csv'\n",
                "user_emb_url = \"https://cf-courses-data.s3.us.cloud-object-storage.appdomain.cloud/IBM-ML321EN-SkillsNetwork/labs/datasets/user_embeddings.csv\"\n",
                "item_emb_url = \"https://cf-courses-data.s3.us.cloud-object-storage.appdomain.cloud/IBM-ML321EN-SkillsNetwork/labs/datasets/course_embeddings.csv\"\n",
                "\n",
                "user_emb_raw = pd.read_csv(user_emb_local) if user_emb_local.exists() else pd.read_csv(user_emb_url)\n",
                "item_emb_raw = pd.read_csv(item_emb_local) if item_emb_local.exists() else pd.read_csv(item_emb_url)\n",
                "\n",
                "print('ratings:', rating_df.shape, '| user_emb:', user_emb_raw.shape, '| item_emb:', item_emb_raw.shape)\n",
                "rating_df.head(3)"
            ]
        },
        {
            "cell_type": "markdown",
            "id": "normalize",
            "metadata": {},
            "source": [
                "### Normalize embedding column names\n",
                "\n",
                "We enforce:\n",
                "- User id column: `user`; user features: `UFeature0..`\n",
                "- Item id column: `item`; item features: `CFeature0..`"
            ]
        },
        {
            "cell_type": "code",
            "execution_count": 5,
            "id": "norm-code",
            "metadata": {},
            "outputs": [
                {
                    "name": "stdout",
                    "output_type": "stream",
                    "text": [
                        "16 user features | 16 item features\n"
                    ]
                },
                {
                    "data": {
                        "text/html": [
                            "<div>\n",
                            "<style scoped>\n",
                            "    .dataframe tbody tr th:only-of-type {\n",
                            "        vertical-align: middle;\n",
                            "    }\n",
                            "\n",
                            "    .dataframe tbody tr th {\n",
                            "        vertical-align: top;\n",
                            "    }\n",
                            "\n",
                            "    .dataframe thead th {\n",
                            "        text-align: right;\n",
                            "    }\n",
                            "</style>\n",
                            "<table border=\"1\" class=\"dataframe\">\n",
                            "  <thead>\n",
                            "    <tr style=\"text-align: right;\">\n",
                            "      <th></th>\n",
                            "      <th>user</th>\n",
                            "      <th>UFeature0</th>\n",
                            "      <th>UFeature1</th>\n",
                            "      <th>UFeature2</th>\n",
                            "      <th>UFeature3</th>\n",
                            "      <th>UFeature4</th>\n",
                            "      <th>UFeature5</th>\n",
                            "      <th>UFeature6</th>\n",
                            "      <th>UFeature7</th>\n",
                            "      <th>UFeature8</th>\n",
                            "      <th>UFeature9</th>\n",
                            "      <th>UFeature10</th>\n",
                            "      <th>UFeature11</th>\n",
                            "      <th>UFeature12</th>\n",
                            "      <th>UFeature13</th>\n",
                            "      <th>UFeature14</th>\n",
                            "      <th>UFeature15</th>\n",
                            "    </tr>\n",
                            "  </thead>\n",
                            "  <tbody>\n",
                            "    <tr>\n",
                            "      <th>0</th>\n",
                            "      <td>1889878</td>\n",
                            "      <td>0.033022</td>\n",
                            "      <td>0.068657</td>\n",
                            "      <td>0.004409</td>\n",
                            "      <td>0.003708</td>\n",
                            "      <td>0.064142</td>\n",
                            "      <td>-0.034011</td>\n",
                            "      <td>-0.027975</td>\n",
                            "      <td>-0.002681</td>\n",
                            "      <td>0.015392</td>\n",
                            "      <td>-0.074402</td>\n",
                            "      <td>0.020501</td>\n",
                            "      <td>0.046947</td>\n",
                            "      <td>0.067408</td>\n",
                            "      <td>-0.027664</td>\n",
                            "      <td>0.025213</td>\n",
                            "      <td>-0.055095</td>\n",
                            "    </tr>\n",
                            "    <tr>\n",
                            "      <th>1</th>\n",
                            "      <td>1342067</td>\n",
                            "      <td>-0.009976</td>\n",
                            "      <td>-0.019721</td>\n",
                            "      <td>-0.006740</td>\n",
                            "      <td>0.005201</td>\n",
                            "      <td>-0.032104</td>\n",
                            "      <td>0.029420</td>\n",
                            "      <td>0.030979</td>\n",
                            "      <td>0.029344</td>\n",
                            "      <td>-0.000229</td>\n",
                            "      <td>-0.021921</td>\n",
                            "      <td>-0.007147</td>\n",
                            "      <td>-0.000556</td>\n",
                            "      <td>-0.000393</td>\n",
                            "      <td>-0.009939</td>\n",
                            "      <td>-0.014357</td>\n",
                            "      <td>0.021424</td>\n",
                            "    </tr>\n",
                            "  </tbody>\n",
                            "</table>\n",
                            "</div>"
                        ],
                        "text/plain": [
                            "      user  UFeature0  UFeature1  UFeature2  UFeature3  UFeature4  UFeature5  \\\n",
                            "0  1889878   0.033022   0.068657   0.004409   0.003708   0.064142  -0.034011   \n",
                            "1  1342067  -0.009976  -0.019721  -0.006740   0.005201  -0.032104   0.029420   \n",
                            "\n",
                            "   UFeature6  UFeature7  UFeature8  UFeature9  UFeature10  UFeature11  \\\n",
                            "0  -0.027975  -0.002681   0.015392  -0.074402    0.020501    0.046947   \n",
                            "1   0.030979   0.029344  -0.000229  -0.021921   -0.007147   -0.000556   \n",
                            "\n",
                            "   UFeature12  UFeature13  UFeature14  UFeature15  \n",
                            "0    0.067408   -0.027664    0.025213   -0.055095  \n",
                            "1   -0.000393   -0.009939   -0.014357    0.021424  "
                        ]
                    },
                    "metadata": {},
                    "output_type": "display_data"
                },
                {
                    "data": {
                        "text/html": [
                            "<div>\n",
                            "<style scoped>\n",
                            "    .dataframe tbody tr th:only-of-type {\n",
                            "        vertical-align: middle;\n",
                            "    }\n",
                            "\n",
                            "    .dataframe tbody tr th {\n",
                            "        vertical-align: top;\n",
                            "    }\n",
                            "\n",
                            "    .dataframe thead th {\n",
                            "        text-align: right;\n",
                            "    }\n",
                            "</style>\n",
                            "<table border=\"1\" class=\"dataframe\">\n",
                            "  <thead>\n",
                            "    <tr style=\"text-align: right;\">\n",
                            "      <th></th>\n",
                            "      <th>item</th>\n",
                            "      <th>CFeature0</th>\n",
                            "      <th>CFeature1</th>\n",
                            "      <th>CFeature2</th>\n",
                            "      <th>CFeature3</th>\n",
                            "      <th>CFeature4</th>\n",
                            "      <th>CFeature5</th>\n",
                            "      <th>CFeature6</th>\n",
                            "      <th>CFeature7</th>\n",
                            "      <th>CFeature8</th>\n",
                            "      <th>CFeature9</th>\n",
                            "      <th>CFeature10</th>\n",
                            "      <th>CFeature11</th>\n",
                            "      <th>CFeature12</th>\n",
                            "      <th>CFeature13</th>\n",
                            "      <th>CFeature14</th>\n",
                            "      <th>CFeature15</th>\n",
                            "    </tr>\n",
                            "  </thead>\n",
                            "  <tbody>\n",
                            "    <tr>\n",
                            "      <th>0</th>\n",
                            "      <td>CC0101EN</td>\n",
                            "      <td>-0.172086</td>\n",
                            "      <td>-0.033214</td>\n",
                            "      <td>0.107699</td>\n",
                            "      <td>0.231775</td>\n",
                            "      <td>0.008553</td>\n",
                            "      <td>-0.325155</td>\n",
                            "      <td>0.177375</td>\n",
                            "      <td>-0.036309</td>\n",
                            "      <td>0.127059</td>\n",
                            "      <td>0.129681</td>\n",
                            "      <td>-0.134265</td>\n",
                            "      <td>0.119908</td>\n",
                            "      <td>0.119611</td>\n",
                            "      <td>0.111782</td>\n",
                            "      <td>-0.280107</td>\n",
                            "      <td>-0.041800</td>\n",
                            "    </tr>\n",
                            "    <tr>\n",
                            "      <th>1</th>\n",
                            "      <td>CL0101EN</td>\n",
                            "      <td>-0.037116</td>\n",
                            "      <td>0.177518</td>\n",
                            "      <td>-0.004479</td>\n",
                            "      <td>0.133399</td>\n",
                            "      <td>0.072230</td>\n",
                            "      <td>0.015994</td>\n",
                            "      <td>-0.054191</td>\n",
                            "      <td>-0.181337</td>\n",
                            "      <td>0.088625</td>\n",
                            "      <td>0.157015</td>\n",
                            "      <td>-0.133860</td>\n",
                            "      <td>0.055236</td>\n",
                            "      <td>-0.148096</td>\n",
                            "      <td>-0.042896</td>\n",
                            "      <td>0.122026</td>\n",
                            "      <td>-0.078289</td>\n",
                            "    </tr>\n",
                            "  </tbody>\n",
                            "</table>\n",
                            "</div>"
                        ],
                        "text/plain": [
                            "       item  CFeature0  CFeature1  CFeature2  CFeature3  CFeature4  CFeature5  \\\n",
                            "0  CC0101EN  -0.172086  -0.033214   0.107699   0.231775   0.008553  -0.325155   \n",
                            "1  CL0101EN  -0.037116   0.177518  -0.004479   0.133399   0.072230   0.015994   \n",
                            "\n",
                            "   CFeature6  CFeature7  CFeature8  CFeature9  CFeature10  CFeature11  \\\n",
                            "0   0.177375  -0.036309   0.127059   0.129681   -0.134265    0.119908   \n",
                            "1  -0.054191  -0.181337   0.088625   0.157015   -0.133860    0.055236   \n",
                            "\n",
                            "   CFeature12  CFeature13  CFeature14  CFeature15  \n",
                            "0    0.119611    0.111782   -0.280107   -0.041800  \n",
                            "1   -0.148096   -0.042896    0.122026   -0.078289  "
                        ]
                    },
                    "metadata": {},
                    "output_type": "display_data"
                }
            ],
            "source": [
                "def normalize_user_emb(df):\n",
                "    df = df.copy()\n",
                "    id_col = 'user' if 'user' in df.columns else ('user_id' if 'user_id' in df.columns else None)\n",
                "    assert id_col is not None, 'User embedding must include user or user_id column'\n",
                "    feat_cols = [c for c in df.columns if c != id_col]\n",
                "    rename_map = {id_col: 'user'}\n",
                "    for i, c in enumerate(feat_cols):\n",
                "        rename_map[c] = f'UFeature{i}'\n",
                "    out = df.rename(columns=rename_map)\n",
                "    return out, [f'UFeature{i}' for i in range(len(feat_cols))]\n",
                "\n",
                "def normalize_item_emb(df):\n",
                "    df = df.copy()\n",
                "    id_col = 'item' if 'item' in df.columns else ('item_id' if 'item_id' in df.columns else None)\n",
                "    assert id_col is not None, 'Item embedding must include item or item_id column'\n",
                "    feat_cols = [c for c in df.columns if c != id_col]\n",
                "    rename_map = {id_col: 'item'}\n",
                "    for i, c in enumerate(feat_cols):\n",
                "        rename_map[c] = f'CFeature{i}'\n",
                "    out = df.rename(columns=rename_map)\n",
                "    return out, [f'CFeature{i}' for i in range(len(feat_cols))]\n",
                "\n",
                "user_emb, u_features = normalize_user_emb(user_emb_raw)\n",
                "item_emb, c_features = normalize_item_emb(item_emb_raw)\n",
                "\n",
                "print(len(u_features), 'user features |', len(c_features), 'item features')\n",
                "display(user_emb.head(2))\n",
                "display(item_emb.head(2))"
            ]
        },
        {
            "cell_type": "markdown",
            "id": "merge",
            "metadata": {},
            "source": [
                "### Merge embeddings into the rating rows"
            ]
        },
        {
            "cell_type": "code",
            "execution_count": 6,
            "id": "merge-code",
            "metadata": {},
            "outputs": [
                {
                    "name": "stdout",
                    "output_type": "stream",
                    "text": [
                        "(233306, 35)\n"
                    ]
                },
                {
                    "data": {
                        "text/html": [
                            "<div>\n",
                            "<style scoped>\n",
                            "    .dataframe tbody tr th:only-of-type {\n",
                            "        vertical-align: middle;\n",
                            "    }\n",
                            "\n",
                            "    .dataframe tbody tr th {\n",
                            "        vertical-align: top;\n",
                            "    }\n",
                            "\n",
                            "    .dataframe thead th {\n",
                            "        text-align: right;\n",
                            "    }\n",
                            "</style>\n",
                            "<table border=\"1\" class=\"dataframe\">\n",
                            "  <thead>\n",
                            "    <tr style=\"text-align: right;\">\n",
                            "      <th></th>\n",
                            "      <th>user</th>\n",
                            "      <th>item</th>\n",
                            "      <th>rating</th>\n",
                            "      <th>UFeature0</th>\n",
                            "      <th>UFeature1</th>\n",
                            "      <th>UFeature2</th>\n",
                            "      <th>UFeature3</th>\n",
                            "      <th>UFeature4</th>\n",
                            "      <th>UFeature5</th>\n",
                            "      <th>UFeature6</th>\n",
                            "      <th>...</th>\n",
                            "      <th>CFeature6</th>\n",
                            "      <th>CFeature7</th>\n",
                            "      <th>CFeature8</th>\n",
                            "      <th>CFeature9</th>\n",
                            "      <th>CFeature10</th>\n",
                            "      <th>CFeature11</th>\n",
                            "      <th>CFeature12</th>\n",
                            "      <th>CFeature13</th>\n",
                            "      <th>CFeature14</th>\n",
                            "      <th>CFeature15</th>\n",
                            "    </tr>\n",
                            "  </thead>\n",
                            "  <tbody>\n",
                            "    <tr>\n",
                            "      <th>0</th>\n",
                            "      <td>1889878</td>\n",
                            "      <td>CC0101EN</td>\n",
                            "      <td>5</td>\n",
                            "      <td>0.033022</td>\n",
                            "      <td>0.068657</td>\n",
                            "      <td>0.004409</td>\n",
                            "      <td>0.003708</td>\n",
                            "      <td>0.064142</td>\n",
                            "      <td>-0.034011</td>\n",
                            "      <td>-0.027975</td>\n",
                            "      <td>...</td>\n",
                            "      <td>0.177375</td>\n",
                            "      <td>-0.036309</td>\n",
                            "      <td>0.127059</td>\n",
                            "      <td>0.129681</td>\n",
                            "      <td>-0.134265</td>\n",
                            "      <td>0.119908</td>\n",
                            "      <td>0.119611</td>\n",
                            "      <td>0.111782</td>\n",
                            "      <td>-0.280107</td>\n",
                            "      <td>-0.041800</td>\n",
                            "    </tr>\n",
                            "    <tr>\n",
                            "      <th>1</th>\n",
                            "      <td>1342067</td>\n",
                            "      <td>CL0101EN</td>\n",
                            "      <td>3</td>\n",
                            "      <td>-0.009976</td>\n",
                            "      <td>-0.019721</td>\n",
                            "      <td>-0.006740</td>\n",
                            "      <td>0.005201</td>\n",
                            "      <td>-0.032104</td>\n",
                            "      <td>0.029420</td>\n",
                            "      <td>0.030979</td>\n",
                            "      <td>...</td>\n",
                            "      <td>-0.054191</td>\n",
                            "      <td>-0.181337</td>\n",
                            "      <td>0.088625</td>\n",
                            "      <td>0.157015</td>\n",
                            "      <td>-0.133860</td>\n",
                            "      <td>0.055236</td>\n",
                            "      <td>-0.148096</td>\n",
                            "      <td>-0.042896</td>\n",
                            "      <td>0.122026</td>\n",
                            "      <td>-0.078289</td>\n",
                            "    </tr>\n",
                            "    <tr>\n",
                            "      <th>2</th>\n",
                            "      <td>1990814</td>\n",
                            "      <td>ML0120ENv3</td>\n",
                            "      <td>5</td>\n",
                            "      <td>-0.078293</td>\n",
                            "      <td>0.022187</td>\n",
                            "      <td>0.010924</td>\n",
                            "      <td>0.002994</td>\n",
                            "      <td>0.018679</td>\n",
                            "      <td>-0.044196</td>\n",
                            "      <td>0.033823</td>\n",
                            "      <td>...</td>\n",
                            "      <td>-0.130364</td>\n",
                            "      <td>0.094914</td>\n",
                            "      <td>-0.096233</td>\n",
                            "      <td>0.002598</td>\n",
                            "      <td>-0.029295</td>\n",
                            "      <td>0.035682</td>\n",
                            "      <td>-0.102239</td>\n",
                            "      <td>-0.131291</td>\n",
                            "      <td>0.090083</td>\n",
                            "      <td>-0.058062</td>\n",
                            "    </tr>\n",
                            "  </tbody>\n",
                            "</table>\n",
                            "<p>3 rows × 35 columns</p>\n",
                            "</div>"
                        ],
                        "text/plain": [
                            "      user        item  rating  UFeature0  UFeature1  UFeature2  UFeature3  \\\n",
                            "0  1889878    CC0101EN       5   0.033022   0.068657   0.004409   0.003708   \n",
                            "1  1342067    CL0101EN       3  -0.009976  -0.019721  -0.006740   0.005201   \n",
                            "2  1990814  ML0120ENv3       5  -0.078293   0.022187   0.010924   0.002994   \n",
                            "\n",
                            "   UFeature4  UFeature5  UFeature6  ...  CFeature6  CFeature7  CFeature8  \\\n",
                            "0   0.064142  -0.034011  -0.027975  ...   0.177375  -0.036309   0.127059   \n",
                            "1  -0.032104   0.029420   0.030979  ...  -0.054191  -0.181337   0.088625   \n",
                            "2   0.018679  -0.044196   0.033823  ...  -0.130364   0.094914  -0.096233   \n",
                            "\n",
                            "   CFeature9  CFeature10  CFeature11  CFeature12  CFeature13  CFeature14  \\\n",
                            "0   0.129681   -0.134265    0.119908    0.119611    0.111782   -0.280107   \n",
                            "1   0.157015   -0.133860    0.055236   -0.148096   -0.042896    0.122026   \n",
                            "2   0.002598   -0.029295    0.035682   -0.102239   -0.131291    0.090083   \n",
                            "\n",
                            "   CFeature15  \n",
                            "0   -0.041800  \n",
                            "1   -0.078289  \n",
                            "2   -0.058062  \n",
                            "\n",
                            "[3 rows x 35 columns]"
                        ]
                    },
                    "execution_count": 6,
                    "metadata": {},
                    "output_type": "execute_result"
                }
            ],
            "source": [
                "merged = rating_df.merge(user_emb, on='user', how='left').merge(item_emb, on='item', how='left')\n",
                "merged = merged.fillna(0)\n",
                "print(merged.shape)\n",
                "merged.head(3)"
            ]
        },
        {
            "cell_type": "markdown",
            "id": "aggregate",
            "metadata": {},
            "source": [
                "### Build classification datasets (aggregation strategies)\n",
                "\n",
                "We prepare three feature sets:\n",
                "\n",
                "- **sum**: element-wise add (size = k)\n",
                "- **prod**: element-wise product (size = k)\n",
                "- **concat**: concatenation (size = 2k)"
            ]
        },
        {
            "cell_type": "code",
            "execution_count": 7,
            "id": "build-Xy",
            "metadata": {},
            "outputs": [
                {
                    "name": "stdout",
                    "output_type": "stream",
                    "text": [
                        "Classes: [np.int64(3), np.int64(4), np.int64(5)]\n",
                        "sum → X: (233306, 16), y: (233306,)\n",
                        "prod → X: (233306, 16), y: (233306,)\n",
                        "concat → X: (233306, 32), y: (233306,)\n"
                    ]
                }
            ],
            "source": [
                "U = merged[u_features].values.astype('float32')\n",
                "C = merged[c_features].values.astype('float32')\n",
                "y_raw = merged['rating'].values  # categorical labels\n",
                "\n",
                "if U.shape[1] != C.shape[1]:\n",
                "    print('Warning: user/item embedding dims differ; sum/prod disabled. Using concat only.')\n",
                "    X_sets = {'concat': np.concatenate([U, C], axis=1)}\n",
                "else:\n",
                "    X_sets = {\n",
                "        'sum': U + C,\n",
                "        'prod': U * C,\n",
                "        'concat': np.concatenate([U, C], axis=1)\n",
                "    }\n",
                "\n",
                "# Encode ratings as categorical classes (LabelEncoder keeps a reversible mapping)\n",
                "label_encoder = LabelEncoder()\n",
                "y = label_encoder.fit_transform(y_raw)\n",
                "classes = list(label_encoder.classes_)\n",
                "n_classes = len(classes)\n",
                "print('Classes:', classes)\n",
                "\n",
                "def stratified_split(X, y, test_size=0.2, rs=rs):\n",
                "    return train_test_split(X, y, test_size=test_size, random_state=rs, stratify=y)\n",
                "\n",
                "Xy_splits = {}\n",
                "for name, X in X_sets.items():\n",
                "    X_train, X_test, y_train, y_test = stratified_split(X, y)\n",
                "    Xy_splits[name] = (X_train, X_test, y_train, y_test)\n",
                "    print(f\"{name} → X: {X.shape}, y: {y.shape}\")"
            ]
        },
        {
            "cell_type": "markdown",
            "id": "models",
            "metadata": {},
            "source": [
                "## Train & evaluate models (with tuning)\n",
                "\n",
                "We compare:\n",
                "- **Logistic Regression** (multinomial)\n",
                "- **SVC** (RBF)\n",
                "- **RandomForest**\n",
                "- **GradientBoosting**\n",
                "\n",
                "We use **GridSearchCV (cv=3)** with **macro F1** to handle class imbalance."
            ]
        },
        {
            "cell_type": "code",
            "execution_count": 8,
            "id": "train-eval",
            "metadata": {},
            "outputs": [],
            "source": [
                "def evaluate(y_true, y_pred):\n",
                "    acc = accuracy_score(y_true, y_pred)\n",
                "    prec, rec, f1, _ = precision_recall_fscore_support(y_true, y_pred, average='macro', zero_division=0)\n",
                "    return {'accuracy': acc, 'precision_macro': prec, 'recall_macro': rec, 'f1_macro': f1}\n",
                "\n",
                "cv = StratifiedKFold(n_splits=3, shuffle=True, random_state=rs)\n",
                "\n",
                "results = []\n",
                "best_estimators = {}  # (agg, model) -> estimator\n",
                "\n",
                "for agg_name, (X_train, X_test, y_train, y_test) in Xy_splits.items():\n",
                "    # Baseline: predict most frequent class in TRAIN\n",
                "    values, counts = np.unique(y_train, return_counts=True)\n",
                "    majority = values[np.argmax(counts)]\n",
                "    yhat = np.full_like(y_test, fill_value=majority)\n",
                "    base_metrics = evaluate(y_test, yhat)\n",
                "    base_row = {'agg': agg_name, 'model': 'BaselineMajority', **base_metrics, 'best_params': {}}\n",
                "    results.append(base_row)\n",
                "\n",
                "    # 1) Logistic Regression (standardize)\n",
                "    logreg = Pipeline([\n",
                "        ('scaler', StandardScaler(with_mean=True, with_std=True)),\n",
                "        ('clf', LogisticRegression(multi_class='auto', max_iter=200, random_state=rs))\n",
                "    ])\n",
                "    grid_lr = { 'clf__C': [0.1, 1.0, 3.0, 10.0] }\n",
                "    gs_lr = GridSearchCV(logreg, grid_lr, scoring='f1_macro', cv=cv, n_jobs=-1)\n",
                "    gs_lr.fit(X_train, y_train)\n",
                "    yhat = gs_lr.predict(X_test)\n",
                "    m = evaluate(y_test, yhat)\n",
                "    results.append({'agg': agg_name, 'model': 'LogisticRegression', **m, 'best_params': gs_lr.best_params_})\n",
                "    best_estimators[(agg_name, 'LogisticRegression')] = gs_lr.best_estimator_\n",
                "\n",
                "    # 2) SVC (standardize)\n",
                "    svc = Pipeline([\n",
                "        ('scaler', StandardScaler()),\n",
                "        ('clf', SVC(kernel='rbf', probability=False, random_state=rs))\n",
                "    ])\n",
                "    grid_svc = { 'clf__C': [0.5, 1.0, 3.0], 'clf__gamma': ['scale', 0.1, 0.01] }\n",
                "    gs_svc = GridSearchCV(svc, grid_svc, scoring='f1_macro', cv=cv, n_jobs=-1)\n",
                "    gs_svc.fit(X_train, y_train)\n",
                "    yhat = gs_svc.predict(X_test)\n",
                "    m = evaluate(y_test, yhat)\n",
                "    results.append({'agg': agg_name, 'model': 'SVC', **m, 'best_params': gs_svc.best_params_})\n",
                "    best_estimators[(agg_name, 'SVC')] = gs_svc.best_estimator_\n",
                "\n",
                "    # 3) RandomForest (no scaling)\n",
                "    rf = RandomForestClassifier(random_state=rs, n_jobs=-1)\n",
                "    grid_rf = { 'n_estimators': [150, 300], 'max_depth': [None, 10, 20], 'min_samples_split': [2, 5] }\n",
                "    gs_rf = GridSearchCV(rf, grid_rf, scoring='f1_macro', cv=cv, n_jobs=-1)\n",
                "    gs_rf.fit(X_train, y_train)\n",
                "    yhat = gs_rf.predict(X_test)\n",
                "    m = evaluate(y_test, yhat)\n",
                "    results.append({'agg': agg_name, 'model': 'RandomForest', **m, 'best_params': gs_rf.best_params_})\n",
                "    best_estimators[(agg_name, 'RandomForest')] = gs_rf.best_estimator_\n",
                "\n",
                "    # 4) GradientBoosting (no scaling)\n",
                "    gb = GradientBoostingClassifier(random_state=rs)\n",
                "    grid_gb = { 'n_estimators': [100, 200], 'learning_rate': [0.05, 0.1], 'max_depth': [2, 3] }\n",
                "    gs_gb = GridSearchCV(gb, grid_gb, scoring='f1_macro', cv=cv, n_jobs=-1)\n",
                "    gs_gb.fit(X_train, y_train)\n",
                "    yhat = gs_gb.predict(X_test)\n",
                "    m = evaluate(y_test, yhat)\n",
                "    results.append({'agg': agg_name, 'model': 'GradientBoosting', **m, 'best_params': gs_gb.best_params_})\n",
                "    best_estimators[(agg_name, 'GradientBoosting')] = gs_gb.best_estimator_\n",
                "\n",
                "results_df = pd.DataFrame(results).sort_values(['agg','f1_macro'], ascending=[True, False]).reset_index(drop=True)\n",
                "results_df"
            ]
        },
        {
            "cell_type": "markdown",
            "id": "save-metrics",
            "metadata": {},
            "source": [
                "### Save metrics table"
            ]
        },
        {
            "cell_type": "code",
            "execution_count": 9,
            "id": "save-metrics-code",
            "metadata": {},
            "outputs": [
                {
                    "name": "stdout",
                    "output_type": "stream",
                    "text": [
                        "Saved: /Users/villafuertech/Documents/Professional/Independent_learning/IBM_Machine_learning/Capstone_project/recsys-capstone/data/processed/classification_results.csv\n"
                    ]
                }
            ],
            "source": [
                "metrics_csv = PROCESSED_DIR / 'classification_results.csv'\n",
                "results_df.to_csv(metrics_csv, index=False)\n",
                "print('Saved:', metrics_csv)"
            ]
        },
        {
            "cell_type": "markdown",
            "id": "pick-best",
            "metadata": {},
            "source": [
                "### Pick best model overall (by F1 macro) and evaluate deeper"
            ]
        },
        {
            "cell_type": "code",
            "execution_count": 10,
            "id": "best-row",
            "metadata": {},
            "outputs": [
                {
                    "data": {
                        "text/plain": [
                            "{'agg': 'concat',\n",
                            " 'model': 'SVC',\n",
                            " 'accuracy': 0.6785178517851785,\n",
                            " 'precision_macro': 0.6896186577777872,\n",
                            " 'recall_macro': 0.6785437477317231,\n",
                            " 'f1_macro': 0.6819940187845943,\n",
                            " 'best_params': {'clf__C': 1.0, 'clf__gamma': 'scale'}}"
                        ]
                    },
                    "execution_count": 10,
                    "metadata": {},
                    "output_type": "execute_result"
                }
            ],
            "source": [
                "best_row = results_df.loc[results_df['f1_macro'].idxmax()].to_dict()\n",
                "best_row"
            ]
        },
        {
            "cell_type": "code",
            "execution_count": 11,
            "id": "final-eval",
            "metadata": {},
            "outputs": [
                {
                    "name": "stdout",
                    "output_type": "stream",
                    "text": [
                        "              precision    recall  f1-score   support\n",
                        "\n",
                        "           3       0.75      0.70      0.72     15573\n",
                        "           4       0.56      0.65      0.60     15588\n",
                        "           5       0.76      0.69      0.72     15501\n",
                        "\n",
                        "    accuracy                           0.68     46662\n",
                        "   macro avg       0.69      0.68      0.68     46662\n",
                        "weighted avg       0.69      0.68      0.68     46662\n",
                        "\n"
                    ]
                }
            ],
            "source": [
                "best_agg = best_row['agg']\n",
                "best_model_name = best_row['model']\n",
                "X_train, X_test, y_train, y_test = Xy_splits[best_agg]\n",
                "best_est = best_estimators[(best_agg, best_model_name)]\n",
                "\n",
                "y_pred = best_est.predict(X_test)\n",
                "report = classification_report(y_test, y_pred, target_names=[str(c) for c in classes], zero_division=0)\n",
                "print(report)"
            ]
        },
        {
            "cell_type": "markdown",
            "id": "cm-plot",
            "metadata": {},
            "source": [
                "### Confusion matrix (best model)"
            ]
        },
        {
            "cell_type": "code",
            "execution_count": 12,
            "id": "cm-plot-code",
            "metadata": {},
            "outputs": [
                {
                    "name": "stdout",
                    "output_type": "stream",
                    "text": [
                        "Saved confusion matrix to: /Users/villafuertech/Documents/Professional/Independent_learning/IBM_Machine_learning/Capstone_project/recsys-capstone/reports/figures/confusion_matrix_concat_SVC.png\n"
                    ]
                },
                {
                    "data": {
                        "image/png": "[encoded data removed]",
                        "text/plain": [
                            "<Figure size 600x500 with 2 Axes>"
                        ]
                    },
                    "metadata": {},
                    "output_type": "display_data"
                }
            ],
            "source": [
                "fig, ax = plt.subplots(figsize=(6,5))\n",
                "ConfusionMatrixDisplay.from_predictions(y_test, y_pred, display_labels=[str(c) for c in classes], cmap='Blues', ax=ax)\n",
                "plt.title(f'Confusion Matrix — {best_model_name} (agg={best_agg})')\n",
                "plt.tight_layout()\n",
                "cm_path = REPORTS_FIG_DIR / f'confusion_matrix_{best_agg}_{best_model_name}.png'\n",
                "plt.savefig(cm_path, dpi=150)\n",
                "print('Saved confusion matrix to:', cm_path)\n",
                "plt.show()"
            ]
        },
        {
            "cell_type": "markdown",
            "id": "save-model",
            "metadata": {},
            "source": [
                "### Save best model + metadata"
            ]
        },
        {
            "cell_type": "code",
            "execution_count": 15,
            "id": "save-model-code",
            "metadata": {},
            "outputs": [
                {
                    "name": "stdout",
                    "output_type": "stream",
                    "text": [
                        "Saved best model/meta to: /Users/villafuertech/Documents/Professional/Independent_learning/IBM_Machine_learning/Capstone_project/recsys-capstone/models/best_cls_model_concat_SVC.joblib | /Users/villafuertech/Documents/Professional/Independent_learning/IBM_Machine_learning/Capstone_project/recsys-capstone/logs/classification_experiment_meta.json\n"
                    ]
                },
                {
                    "name": "stderr",
                    "output_type": "stream",
                    "text": [
                        "/var/folders/q0/bm9058_95z16l6j28pkf1z580000gn/T/ipykernel_78936/2069489370.py:5: DeprecationWarning: datetime.datetime.utcnow() is deprecated and scheduled for removal in a future version. Use timezone-aware objects to represent datetimes in UTC: datetime.datetime.now(datetime.UTC).\n",
                        "  'timestamp': datetime.utcnow().isoformat() + 'Z',\n"
                    ]
                }
            ],
            "source": [
                "model_path = MODELS_DIR / f'best_cls_model_{best_agg}_{best_model_name}.joblib'\n",
                "joblib.dump(best_est, model_path)\n",
                "\n",
                "meta = {\n",
                "  'timestamp': datetime.utcnow().isoformat() + 'Z',\n",
                "  'task': 'rating_classification',\n",
                "  'best': best_row,\n",
                "  'classes': classes,\n",
                "  'label_encoder_classes_': list(label_encoder.classes_),\n",
                "  'aggregation': best_agg,\n",
                "  'model_path': str(model_path)\n",
                "}\n",
                "meta_path = LOGS_DIR / 'classification_experiment_meta.json'\n",
                "with open(meta_path, 'w') as f: json.dump(meta, f, indent=2,\n",
                "          default=lambda o: o.item() if isinstance(o, np.generic)\n",
                "          else (o.tolist() if isinstance(o, np.ndarray) else str(o)))\n",
                "print('Saved best model/meta to:', model_path, '|', meta_path)"
            ]
        },
        {
            "cell_type": "markdown",
            "id": "optional",
            "metadata": {},
            "source": [
                "## Optional: Inspect linear model coefficients\n",
                "\n",
                "If the best model is Logistic Regression, we export the top positive/negative weights per class."
            ]
        },
        {
            "cell_type": "code",
            "execution_count": 14,
            "id": "coef-export",
            "metadata": {},
            "outputs": [
                {
                    "name": "stdout",
                    "output_type": "stream",
                    "text": [
                        "Best model is not LogisticRegression — skipping coefficient export.\n"
                    ]
                }
            ],
            "source": [
                "if best_model_name == 'LogisticRegression':\n",
                "    pipe = best_est\n",
                "    clf = pipe.named_steps['clf'] if isinstance(best_est, Pipeline) else best_est\n",
                "    # Build feature names for chosen agg\n",
                "    kU = len(u_features); kC = len(c_features)\n",
                "    if best_agg == 'concat':\n",
                "        feat_names = [f'UFeature{i}' for i in range(kU)] + [f'CFeature{i}' for i in range(kC)]\n",
                "    elif best_agg == 'sum':\n",
                "        k = min(kU, kC)\n",
                "        feat_names = [f'SumFeature{i}' for i in range(k)]\n",
                "    else:\n",
                "        k = min(kU, kC)\n",
                "        feat_names = [f'ProdFeature{i}' for i in range(k)]\n",
                "\n",
                "    coefs = pd.DataFrame(clf.coef_, columns=feat_names)\n",
                "    coef_csv = PROCESSED_DIR / f'coefficients_{best_agg}_LogisticRegression.csv'\n",
                "    coefs.to_csv(coef_csv, index=False)\n",
                "    print('Saved coefficients to:', coef_csv)\n",
                "else:\n",
                "    print('Best model is not LogisticRegression — skipping coefficient export.')"
            ]
        },
        {
            "cell_type": "markdown",
            "id": "summary",
            "metadata": {},
            "source": [
                "## Summary\n",
                "\n",
                "In this lab you:\n",
                "\n",
                "- Normalized and merged **user**/**item** embeddings with rating rows\n",
                "- Built **sum/product/concat** feature sets\n",
                "- Trained **LogisticRegression / SVC / RandomForest / GradientBoosting** with **GridSearchCV**\n",
                "- Evaluated using **accuracy** and **macro precision/recall/F1**\n",
                "- Saved artifacts: \n",
                "  - Metrics: `data/processed/classification_results.csv`\n",
                "  - Best model: `models/best_cls_model_*.joblib`\n",
                "  - Confusion matrix: `reports/figures/confusion_matrix_*.png`\n",
                "  - Run metadata: `logs/classification_experiment_meta.json`\n",
                "- (Optional) Exported coefficients for Logistic Regression"
            ]
        },
        {
            "cell_type": "markdown",
            "id": "authors",
            "metadata": {},
            "source": [
                "## Authors\n",
                "\n",
                "[Yan Luo](https://www.linkedin.com/in/yan-luo-96288783/)"
            ]
        },
        {
            "cell_type": "markdown",
            "id": "changelog",
            "metadata": {},
            "source": [
                "### Change Log\n",
                "\n",
                "|Date (YYYY-MM-DD)|Version|Changed By|Change Description|\n",
                "|-|-|-|-|\n",
                "|2021-10-25|1.0|Yan|Created the initial version|\n",
                "|2025-10-05|1.1|You|Completed TODOs, added multi-aggregation, tuning, evaluation, and artifact logging|"
            ]
        },
        {
            "cell_type": "markdown",
            "id": "copyright",
            "metadata": {},
            "source": [
                "Copyright © 2021–2025 IBM Corporation. All rights reserved."
            ]
        }
    ],
    "metadata": {
        "kernelspec": {
            "display_name": "Python (global-jlab)",
            "language": "python",
            "name": "global-jlab"
        },
        "language_info": {
            "codemirror_mode": {
                "name": "ipython",
                "version": 3
            },
            "file_extension": ".py",
            "mimetype": "text/x-python",
            "name": "python",
            "nbconvert_exporter": "python",
            "pygments_lexer": "ipython3",
            "version": "3.12.11"
        }
    },
    "nbformat": 4,
    "nbformat_minor": 4
}
